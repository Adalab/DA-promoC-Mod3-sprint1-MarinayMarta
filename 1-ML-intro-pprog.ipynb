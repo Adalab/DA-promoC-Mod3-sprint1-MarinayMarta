{
 "cells": [
  {
   "attachments": {},
   "cell_type": "markdown",
   "metadata": {},
   "source": [
    "Pair Programming Intro Machine Learning - Regresión Lineal (RL) I\n",
    "\n",
    " - Objetivos:\n",
    "\n",
    "1. Buscar un conjunto de datos a analizar:\n",
    "    - Es necesario que el conjunto de datos a analizar tenga variables numéricas y categóricas, primando que haya más de una variable de tipo numérico. Ya que tambien se utilizarán serán útiles a la hora de realizar predicciones en las clases de regresión lineal múltiple. Así mismo se recomienda que los datasets esten ligeramente limpios para facilitar los análisis.\n",
    "2. Explicar los datos y las variables disponibles en el conjunto de datos seleccionado:\n",
    "    - Esto se hace para que comprendais mejor los datos con los que estais trabajando.\n",
    "    - Realizar un EDA sencillo para la variable dependiente y la variable independiente."
   ]
  },
  {
   "cell_type": "code",
   "execution_count": 1,
   "metadata": {},
   "outputs": [],
   "source": [
    "import pandas as pd\n",
    "import numpy as np\n",
    "import matplotlib.pyplot as plt\n",
    "import seaborn as sns\n",
    "plt.rcParams[\"figure.figsize\"] = (10,8)\n",
    "import warnings\n",
    "warnings.filterwarnings('ignore')"
   ]
  },
  {
   "cell_type": "code",
   "execution_count": 2,
   "metadata": {},
   "outputs": [],
   "source": [
    "df = pd.read_csv('/mnt/d/Adalab/ejercicios-de-adalab/modulo-3/files/Wellbeing_and_lifestyle_data_Kaggle.csv', index_col = 0)"
   ]
  },
  {
   "cell_type": "code",
   "execution_count": 3,
   "metadata": {},
   "outputs": [
    {
     "data": {
      "text/html": [
       "<div>\n",
       "<style scoped>\n",
       "    .dataframe tbody tr th:only-of-type {\n",
       "        vertical-align: middle;\n",
       "    }\n",
       "\n",
       "    .dataframe tbody tr th {\n",
       "        vertical-align: top;\n",
       "    }\n",
       "\n",
       "    .dataframe thead th {\n",
       "        text-align: right;\n",
       "    }\n",
       "</style>\n",
       "<table border=\"1\" class=\"dataframe\">\n",
       "  <thead>\n",
       "    <tr style=\"text-align: right;\">\n",
       "      <th></th>\n",
       "      <th>FRUITS_VEGGIES</th>\n",
       "      <th>DAILY_STRESS</th>\n",
       "      <th>PLACES_VISITED</th>\n",
       "      <th>CORE_CIRCLE</th>\n",
       "      <th>SUPPORTING_OTHERS</th>\n",
       "      <th>SOCIAL_NETWORK</th>\n",
       "      <th>ACHIEVEMENT</th>\n",
       "      <th>DONATION</th>\n",
       "      <th>BMI_RANGE</th>\n",
       "      <th>TODO_COMPLETED</th>\n",
       "      <th>...</th>\n",
       "      <th>SLEEP_HOURS</th>\n",
       "      <th>LOST_VACATION</th>\n",
       "      <th>DAILY_SHOUTING</th>\n",
       "      <th>SUFFICIENT_INCOME</th>\n",
       "      <th>PERSONAL_AWARDS</th>\n",
       "      <th>TIME_FOR_PASSION</th>\n",
       "      <th>WEEKLY_MEDITATION</th>\n",
       "      <th>AGE</th>\n",
       "      <th>GENDER</th>\n",
       "      <th>WORK_LIFE_BALANCE_SCORE</th>\n",
       "    </tr>\n",
       "    <tr>\n",
       "      <th>Timestamp</th>\n",
       "      <th></th>\n",
       "      <th></th>\n",
       "      <th></th>\n",
       "      <th></th>\n",
       "      <th></th>\n",
       "      <th></th>\n",
       "      <th></th>\n",
       "      <th></th>\n",
       "      <th></th>\n",
       "      <th></th>\n",
       "      <th></th>\n",
       "      <th></th>\n",
       "      <th></th>\n",
       "      <th></th>\n",
       "      <th></th>\n",
       "      <th></th>\n",
       "      <th></th>\n",
       "      <th></th>\n",
       "      <th></th>\n",
       "      <th></th>\n",
       "      <th></th>\n",
       "    </tr>\n",
       "  </thead>\n",
       "  <tbody>\n",
       "    <tr>\n",
       "      <th>7/7/15</th>\n",
       "      <td>3</td>\n",
       "      <td>2</td>\n",
       "      <td>2</td>\n",
       "      <td>5</td>\n",
       "      <td>0</td>\n",
       "      <td>5</td>\n",
       "      <td>2</td>\n",
       "      <td>0</td>\n",
       "      <td>1</td>\n",
       "      <td>6</td>\n",
       "      <td>...</td>\n",
       "      <td>7</td>\n",
       "      <td>5</td>\n",
       "      <td>5</td>\n",
       "      <td>1</td>\n",
       "      <td>4</td>\n",
       "      <td>0</td>\n",
       "      <td>5</td>\n",
       "      <td>36 to 50</td>\n",
       "      <td>Female</td>\n",
       "      <td>609.5</td>\n",
       "    </tr>\n",
       "    <tr>\n",
       "      <th>7/7/15</th>\n",
       "      <td>2</td>\n",
       "      <td>3</td>\n",
       "      <td>4</td>\n",
       "      <td>3</td>\n",
       "      <td>8</td>\n",
       "      <td>10</td>\n",
       "      <td>5</td>\n",
       "      <td>2</td>\n",
       "      <td>2</td>\n",
       "      <td>5</td>\n",
       "      <td>...</td>\n",
       "      <td>8</td>\n",
       "      <td>2</td>\n",
       "      <td>2</td>\n",
       "      <td>2</td>\n",
       "      <td>3</td>\n",
       "      <td>2</td>\n",
       "      <td>6</td>\n",
       "      <td>36 to 50</td>\n",
       "      <td>Female</td>\n",
       "      <td>655.6</td>\n",
       "    </tr>\n",
       "  </tbody>\n",
       "</table>\n",
       "<p>2 rows × 23 columns</p>\n",
       "</div>"
      ],
      "text/plain": [
       "           FRUITS_VEGGIES DAILY_STRESS  PLACES_VISITED  CORE_CIRCLE  \\\n",
       "Timestamp                                                             \n",
       "7/7/15                  3            2               2            5   \n",
       "7/7/15                  2            3               4            3   \n",
       "\n",
       "           SUPPORTING_OTHERS  SOCIAL_NETWORK  ACHIEVEMENT  DONATION  \\\n",
       "Timestamp                                                             \n",
       "7/7/15                     0               5            2         0   \n",
       "7/7/15                     8              10            5         2   \n",
       "\n",
       "           BMI_RANGE  TODO_COMPLETED  ...  SLEEP_HOURS  LOST_VACATION  \\\n",
       "Timestamp                             ...                               \n",
       "7/7/15             1               6  ...            7              5   \n",
       "7/7/15             2               5  ...            8              2   \n",
       "\n",
       "           DAILY_SHOUTING  SUFFICIENT_INCOME  PERSONAL_AWARDS  \\\n",
       "Timestamp                                                       \n",
       "7/7/15                  5                  1                4   \n",
       "7/7/15                  2                  2                3   \n",
       "\n",
       "           TIME_FOR_PASSION  WEEKLY_MEDITATION       AGE  GENDER  \\\n",
       "Timestamp                                                          \n",
       "7/7/15                    0                  5  36 to 50  Female   \n",
       "7/7/15                    2                  6  36 to 50  Female   \n",
       "\n",
       "           WORK_LIFE_BALANCE_SCORE  \n",
       "Timestamp                           \n",
       "7/7/15                       609.5  \n",
       "7/7/15                       655.6  \n",
       "\n",
       "[2 rows x 23 columns]"
      ]
     },
     "execution_count": 3,
     "metadata": {},
     "output_type": "execute_result"
    }
   ],
   "source": [
    "df.head(2)"
   ]
  },
  {
   "cell_type": "code",
   "execution_count": 6,
   "metadata": {},
   "outputs": [
    {
     "name": "stdout",
     "output_type": "stream",
     "text": [
      "(15972, 23)\n",
      "Index(['FRUITS_VEGGIES', 'DAILY_STRESS', 'PLACES_VISITED', 'CORE_CIRCLE',\n",
      "       'SUPPORTING_OTHERS', 'SOCIAL_NETWORK', 'ACHIEVEMENT', 'DONATION',\n",
      "       'BMI_RANGE', 'TODO_COMPLETED', 'FLOW', 'DAILY_STEPS', 'LIVE_VISION',\n",
      "       'SLEEP_HOURS', 'LOST_VACATION', 'DAILY_SHOUTING', 'SUFFICIENT_INCOME',\n",
      "       'PERSONAL_AWARDS', 'TIME_FOR_PASSION', 'WEEKLY_MEDITATION', 'AGE',\n",
      "       'GENDER', 'WORK_LIFE_BALANCE_SCORE'],\n",
      "      dtype='object')\n"
     ]
    }
   ],
   "source": [
    "print(df.shape)\n",
    "print(df.columns)"
   ]
  },
  {
   "cell_type": "code",
   "execution_count": 4,
   "metadata": {},
   "outputs": [
    {
     "name": "stdout",
     "output_type": "stream",
     "text": [
      "<class 'pandas.core.frame.DataFrame'>\n",
      "Index: 15972 entries, 7/7/15 to 3/14/21 9:03\n",
      "Data columns (total 23 columns):\n",
      " #   Column                   Non-Null Count  Dtype  \n",
      "---  ------                   --------------  -----  \n",
      " 0   FRUITS_VEGGIES           15972 non-null  int64  \n",
      " 1   DAILY_STRESS             15972 non-null  object \n",
      " 2   PLACES_VISITED           15972 non-null  int64  \n",
      " 3   CORE_CIRCLE              15972 non-null  int64  \n",
      " 4   SUPPORTING_OTHERS        15972 non-null  int64  \n",
      " 5   SOCIAL_NETWORK           15972 non-null  int64  \n",
      " 6   ACHIEVEMENT              15972 non-null  int64  \n",
      " 7   DONATION                 15972 non-null  int64  \n",
      " 8   BMI_RANGE                15972 non-null  int64  \n",
      " 9   TODO_COMPLETED           15972 non-null  int64  \n",
      " 10  FLOW                     15972 non-null  int64  \n",
      " 11  DAILY_STEPS              15972 non-null  int64  \n",
      " 12  LIVE_VISION              15972 non-null  int64  \n",
      " 13  SLEEP_HOURS              15972 non-null  int64  \n",
      " 14  LOST_VACATION            15972 non-null  int64  \n",
      " 15  DAILY_SHOUTING           15972 non-null  int64  \n",
      " 16  SUFFICIENT_INCOME        15972 non-null  int64  \n",
      " 17  PERSONAL_AWARDS          15972 non-null  int64  \n",
      " 18  TIME_FOR_PASSION         15972 non-null  int64  \n",
      " 19  WEEKLY_MEDITATION        15972 non-null  int64  \n",
      " 20  AGE                      15972 non-null  object \n",
      " 21  GENDER                   15972 non-null  object \n",
      " 22  WORK_LIFE_BALANCE_SCORE  15972 non-null  float64\n",
      "dtypes: float64(1), int64(19), object(3)\n",
      "memory usage: 2.9+ MB\n"
     ]
    }
   ],
   "source": [
    "df.info()"
   ]
  },
  {
   "cell_type": "code",
   "execution_count": 15,
   "metadata": {},
   "outputs": [
    {
     "data": {
      "text/plain": [
       "FRUITS_VEGGIES             0\n",
       "DAILY_STRESS               0\n",
       "PLACES_VISITED             0\n",
       "CORE_CIRCLE                0\n",
       "SUPPORTING_OTHERS          0\n",
       "SOCIAL_NETWORK             0\n",
       "ACHIEVEMENT                0\n",
       "DONATION                   0\n",
       "BMI_RANGE                  0\n",
       "TODO_COMPLETED             0\n",
       "FLOW                       0\n",
       "DAILY_STEPS                0\n",
       "LIVE_VISION                0\n",
       "SLEEP_HOURS                0\n",
       "LOST_VACATION              0\n",
       "DAILY_SHOUTING             0\n",
       "SUFFICIENT_INCOME          0\n",
       "PERSONAL_AWARDS            0\n",
       "TIME_FOR_PASSION           0\n",
       "WEEKLY_MEDITATION          0\n",
       "AGE                        0\n",
       "GENDER                     0\n",
       "WORK_LIFE_BALANCE_SCORE    0\n",
       "dtype: int64"
      ]
     },
     "execution_count": 15,
     "metadata": {},
     "output_type": "execute_result"
    }
   ],
   "source": [
    "df.isnull().sum()"
   ]
  },
  {
   "cell_type": "code",
   "execution_count": 12,
   "metadata": {},
   "outputs": [
    {
     "data": {
      "text/html": [
       "<div>\n",
       "<style scoped>\n",
       "    .dataframe tbody tr th:only-of-type {\n",
       "        vertical-align: middle;\n",
       "    }\n",
       "\n",
       "    .dataframe tbody tr th {\n",
       "        vertical-align: top;\n",
       "    }\n",
       "\n",
       "    .dataframe thead th {\n",
       "        text-align: right;\n",
       "    }\n",
       "</style>\n",
       "<table border=\"1\" class=\"dataframe\">\n",
       "  <thead>\n",
       "    <tr style=\"text-align: right;\">\n",
       "      <th></th>\n",
       "      <th>count</th>\n",
       "      <th>mean</th>\n",
       "      <th>std</th>\n",
       "      <th>min</th>\n",
       "      <th>25%</th>\n",
       "      <th>50%</th>\n",
       "      <th>75%</th>\n",
       "      <th>max</th>\n",
       "    </tr>\n",
       "  </thead>\n",
       "  <tbody>\n",
       "    <tr>\n",
       "      <th>FRUITS_VEGGIES</th>\n",
       "      <td>15972.0</td>\n",
       "      <td>2.922677</td>\n",
       "      <td>1.442694</td>\n",
       "      <td>0.0</td>\n",
       "      <td>2.0</td>\n",
       "      <td>3.0</td>\n",
       "      <td>4.0</td>\n",
       "      <td>5.0</td>\n",
       "    </tr>\n",
       "    <tr>\n",
       "      <th>PLACES_VISITED</th>\n",
       "      <td>15972.0</td>\n",
       "      <td>5.232970</td>\n",
       "      <td>3.311912</td>\n",
       "      <td>0.0</td>\n",
       "      <td>2.0</td>\n",
       "      <td>5.0</td>\n",
       "      <td>8.0</td>\n",
       "      <td>10.0</td>\n",
       "    </tr>\n",
       "    <tr>\n",
       "      <th>CORE_CIRCLE</th>\n",
       "      <td>15972.0</td>\n",
       "      <td>5.508077</td>\n",
       "      <td>2.840334</td>\n",
       "      <td>0.0</td>\n",
       "      <td>3.0</td>\n",
       "      <td>5.0</td>\n",
       "      <td>8.0</td>\n",
       "      <td>10.0</td>\n",
       "    </tr>\n",
       "    <tr>\n",
       "      <th>SUPPORTING_OTHERS</th>\n",
       "      <td>15972.0</td>\n",
       "      <td>5.616454</td>\n",
       "      <td>3.242021</td>\n",
       "      <td>0.0</td>\n",
       "      <td>3.0</td>\n",
       "      <td>5.0</td>\n",
       "      <td>10.0</td>\n",
       "      <td>10.0</td>\n",
       "    </tr>\n",
       "    <tr>\n",
       "      <th>SOCIAL_NETWORK</th>\n",
       "      <td>15972.0</td>\n",
       "      <td>6.474267</td>\n",
       "      <td>3.086672</td>\n",
       "      <td>0.0</td>\n",
       "      <td>4.0</td>\n",
       "      <td>6.0</td>\n",
       "      <td>10.0</td>\n",
       "      <td>10.0</td>\n",
       "    </tr>\n",
       "    <tr>\n",
       "      <th>ACHIEVEMENT</th>\n",
       "      <td>15972.0</td>\n",
       "      <td>4.000751</td>\n",
       "      <td>2.755837</td>\n",
       "      <td>0.0</td>\n",
       "      <td>2.0</td>\n",
       "      <td>3.0</td>\n",
       "      <td>6.0</td>\n",
       "      <td>10.0</td>\n",
       "    </tr>\n",
       "    <tr>\n",
       "      <th>DONATION</th>\n",
       "      <td>15972.0</td>\n",
       "      <td>2.715314</td>\n",
       "      <td>1.851586</td>\n",
       "      <td>0.0</td>\n",
       "      <td>1.0</td>\n",
       "      <td>3.0</td>\n",
       "      <td>5.0</td>\n",
       "      <td>5.0</td>\n",
       "    </tr>\n",
       "    <tr>\n",
       "      <th>BMI_RANGE</th>\n",
       "      <td>15972.0</td>\n",
       "      <td>1.410656</td>\n",
       "      <td>0.491968</td>\n",
       "      <td>1.0</td>\n",
       "      <td>1.0</td>\n",
       "      <td>1.0</td>\n",
       "      <td>2.0</td>\n",
       "      <td>2.0</td>\n",
       "    </tr>\n",
       "    <tr>\n",
       "      <th>TODO_COMPLETED</th>\n",
       "      <td>15972.0</td>\n",
       "      <td>5.745993</td>\n",
       "      <td>2.624097</td>\n",
       "      <td>0.0</td>\n",
       "      <td>4.0</td>\n",
       "      <td>6.0</td>\n",
       "      <td>8.0</td>\n",
       "      <td>10.0</td>\n",
       "    </tr>\n",
       "    <tr>\n",
       "      <th>FLOW</th>\n",
       "      <td>15972.0</td>\n",
       "      <td>3.194778</td>\n",
       "      <td>2.357518</td>\n",
       "      <td>0.0</td>\n",
       "      <td>1.0</td>\n",
       "      <td>3.0</td>\n",
       "      <td>5.0</td>\n",
       "      <td>10.0</td>\n",
       "    </tr>\n",
       "    <tr>\n",
       "      <th>DAILY_STEPS</th>\n",
       "      <td>15972.0</td>\n",
       "      <td>5.703606</td>\n",
       "      <td>2.891013</td>\n",
       "      <td>1.0</td>\n",
       "      <td>3.0</td>\n",
       "      <td>5.0</td>\n",
       "      <td>8.0</td>\n",
       "      <td>10.0</td>\n",
       "    </tr>\n",
       "    <tr>\n",
       "      <th>LIVE_VISION</th>\n",
       "      <td>15972.0</td>\n",
       "      <td>3.752129</td>\n",
       "      <td>3.230987</td>\n",
       "      <td>0.0</td>\n",
       "      <td>1.0</td>\n",
       "      <td>3.0</td>\n",
       "      <td>5.0</td>\n",
       "      <td>10.0</td>\n",
       "    </tr>\n",
       "    <tr>\n",
       "      <th>SLEEP_HOURS</th>\n",
       "      <td>15972.0</td>\n",
       "      <td>7.042888</td>\n",
       "      <td>1.199044</td>\n",
       "      <td>1.0</td>\n",
       "      <td>6.0</td>\n",
       "      <td>7.0</td>\n",
       "      <td>8.0</td>\n",
       "      <td>10.0</td>\n",
       "    </tr>\n",
       "    <tr>\n",
       "      <th>LOST_VACATION</th>\n",
       "      <td>15972.0</td>\n",
       "      <td>2.898886</td>\n",
       "      <td>3.692180</td>\n",
       "      <td>0.0</td>\n",
       "      <td>0.0</td>\n",
       "      <td>0.0</td>\n",
       "      <td>5.0</td>\n",
       "      <td>10.0</td>\n",
       "    </tr>\n",
       "    <tr>\n",
       "      <th>DAILY_SHOUTING</th>\n",
       "      <td>15972.0</td>\n",
       "      <td>2.930879</td>\n",
       "      <td>2.676301</td>\n",
       "      <td>0.0</td>\n",
       "      <td>1.0</td>\n",
       "      <td>2.0</td>\n",
       "      <td>4.0</td>\n",
       "      <td>10.0</td>\n",
       "    </tr>\n",
       "    <tr>\n",
       "      <th>SUFFICIENT_INCOME</th>\n",
       "      <td>15972.0</td>\n",
       "      <td>1.728963</td>\n",
       "      <td>0.444509</td>\n",
       "      <td>1.0</td>\n",
       "      <td>1.0</td>\n",
       "      <td>2.0</td>\n",
       "      <td>2.0</td>\n",
       "      <td>2.0</td>\n",
       "    </tr>\n",
       "    <tr>\n",
       "      <th>PERSONAL_AWARDS</th>\n",
       "      <td>15972.0</td>\n",
       "      <td>5.711558</td>\n",
       "      <td>3.089630</td>\n",
       "      <td>0.0</td>\n",
       "      <td>3.0</td>\n",
       "      <td>5.0</td>\n",
       "      <td>9.0</td>\n",
       "      <td>10.0</td>\n",
       "    </tr>\n",
       "    <tr>\n",
       "      <th>TIME_FOR_PASSION</th>\n",
       "      <td>15972.0</td>\n",
       "      <td>3.326572</td>\n",
       "      <td>2.729293</td>\n",
       "      <td>0.0</td>\n",
       "      <td>1.0</td>\n",
       "      <td>3.0</td>\n",
       "      <td>5.0</td>\n",
       "      <td>10.0</td>\n",
       "    </tr>\n",
       "    <tr>\n",
       "      <th>WEEKLY_MEDITATION</th>\n",
       "      <td>15972.0</td>\n",
       "      <td>6.233346</td>\n",
       "      <td>3.016571</td>\n",
       "      <td>0.0</td>\n",
       "      <td>4.0</td>\n",
       "      <td>7.0</td>\n",
       "      <td>10.0</td>\n",
       "      <td>10.0</td>\n",
       "    </tr>\n",
       "    <tr>\n",
       "      <th>WORK_LIFE_BALANCE_SCORE</th>\n",
       "      <td>15972.0</td>\n",
       "      <td>666.751503</td>\n",
       "      <td>45.019868</td>\n",
       "      <td>480.0</td>\n",
       "      <td>636.0</td>\n",
       "      <td>667.7</td>\n",
       "      <td>698.5</td>\n",
       "      <td>820.2</td>\n",
       "    </tr>\n",
       "  </tbody>\n",
       "</table>\n",
       "</div>"
      ],
      "text/plain": [
       "                           count        mean        std    min    25%    50%  \\\n",
       "FRUITS_VEGGIES           15972.0    2.922677   1.442694    0.0    2.0    3.0   \n",
       "PLACES_VISITED           15972.0    5.232970   3.311912    0.0    2.0    5.0   \n",
       "CORE_CIRCLE              15972.0    5.508077   2.840334    0.0    3.0    5.0   \n",
       "SUPPORTING_OTHERS        15972.0    5.616454   3.242021    0.0    3.0    5.0   \n",
       "SOCIAL_NETWORK           15972.0    6.474267   3.086672    0.0    4.0    6.0   \n",
       "ACHIEVEMENT              15972.0    4.000751   2.755837    0.0    2.0    3.0   \n",
       "DONATION                 15972.0    2.715314   1.851586    0.0    1.0    3.0   \n",
       "BMI_RANGE                15972.0    1.410656   0.491968    1.0    1.0    1.0   \n",
       "TODO_COMPLETED           15972.0    5.745993   2.624097    0.0    4.0    6.0   \n",
       "FLOW                     15972.0    3.194778   2.357518    0.0    1.0    3.0   \n",
       "DAILY_STEPS              15972.0    5.703606   2.891013    1.0    3.0    5.0   \n",
       "LIVE_VISION              15972.0    3.752129   3.230987    0.0    1.0    3.0   \n",
       "SLEEP_HOURS              15972.0    7.042888   1.199044    1.0    6.0    7.0   \n",
       "LOST_VACATION            15972.0    2.898886   3.692180    0.0    0.0    0.0   \n",
       "DAILY_SHOUTING           15972.0    2.930879   2.676301    0.0    1.0    2.0   \n",
       "SUFFICIENT_INCOME        15972.0    1.728963   0.444509    1.0    1.0    2.0   \n",
       "PERSONAL_AWARDS          15972.0    5.711558   3.089630    0.0    3.0    5.0   \n",
       "TIME_FOR_PASSION         15972.0    3.326572   2.729293    0.0    1.0    3.0   \n",
       "WEEKLY_MEDITATION        15972.0    6.233346   3.016571    0.0    4.0    7.0   \n",
       "WORK_LIFE_BALANCE_SCORE  15972.0  666.751503  45.019868  480.0  636.0  667.7   \n",
       "\n",
       "                           75%    max  \n",
       "FRUITS_VEGGIES             4.0    5.0  \n",
       "PLACES_VISITED             8.0   10.0  \n",
       "CORE_CIRCLE                8.0   10.0  \n",
       "SUPPORTING_OTHERS         10.0   10.0  \n",
       "SOCIAL_NETWORK            10.0   10.0  \n",
       "ACHIEVEMENT                6.0   10.0  \n",
       "DONATION                   5.0    5.0  \n",
       "BMI_RANGE                  2.0    2.0  \n",
       "TODO_COMPLETED             8.0   10.0  \n",
       "FLOW                       5.0   10.0  \n",
       "DAILY_STEPS                8.0   10.0  \n",
       "LIVE_VISION                5.0   10.0  \n",
       "SLEEP_HOURS                8.0   10.0  \n",
       "LOST_VACATION              5.0   10.0  \n",
       "DAILY_SHOUTING             4.0   10.0  \n",
       "SUFFICIENT_INCOME          2.0    2.0  \n",
       "PERSONAL_AWARDS            9.0   10.0  \n",
       "TIME_FOR_PASSION           5.0   10.0  \n",
       "WEEKLY_MEDITATION         10.0   10.0  \n",
       "WORK_LIFE_BALANCE_SCORE  698.5  820.2  "
      ]
     },
     "execution_count": 12,
     "metadata": {},
     "output_type": "execute_result"
    }
   ],
   "source": [
    "df.describe().T"
   ]
  },
  {
   "cell_type": "code",
   "execution_count": 14,
   "metadata": {},
   "outputs": [
    {
     "data": {
      "text/html": [
       "<div>\n",
       "<style scoped>\n",
       "    .dataframe tbody tr th:only-of-type {\n",
       "        vertical-align: middle;\n",
       "    }\n",
       "\n",
       "    .dataframe tbody tr th {\n",
       "        vertical-align: top;\n",
       "    }\n",
       "\n",
       "    .dataframe thead th {\n",
       "        text-align: right;\n",
       "    }\n",
       "</style>\n",
       "<table border=\"1\" class=\"dataframe\">\n",
       "  <thead>\n",
       "    <tr style=\"text-align: right;\">\n",
       "      <th></th>\n",
       "      <th>count</th>\n",
       "      <th>unique</th>\n",
       "      <th>top</th>\n",
       "      <th>freq</th>\n",
       "    </tr>\n",
       "  </thead>\n",
       "  <tbody>\n",
       "    <tr>\n",
       "      <th>DAILY_STRESS</th>\n",
       "      <td>15972</td>\n",
       "      <td>7</td>\n",
       "      <td>3</td>\n",
       "      <td>4398</td>\n",
       "    </tr>\n",
       "    <tr>\n",
       "      <th>AGE</th>\n",
       "      <td>15972</td>\n",
       "      <td>4</td>\n",
       "      <td>21 to 35</td>\n",
       "      <td>6108</td>\n",
       "    </tr>\n",
       "    <tr>\n",
       "      <th>GENDER</th>\n",
       "      <td>15972</td>\n",
       "      <td>2</td>\n",
       "      <td>Female</td>\n",
       "      <td>9858</td>\n",
       "    </tr>\n",
       "  </tbody>\n",
       "</table>\n",
       "</div>"
      ],
      "text/plain": [
       "              count unique       top  freq\n",
       "DAILY_STRESS  15972      7         3  4398\n",
       "AGE           15972      4  21 to 35  6108\n",
       "GENDER        15972      2    Female  9858"
      ]
     },
     "execution_count": 14,
     "metadata": {},
     "output_type": "execute_result"
    }
   ],
   "source": [
    "df.describe(include ='object').T"
   ]
  },
  {
   "cell_type": "code",
   "execution_count": 9,
   "metadata": {},
   "outputs": [
    {
     "data": {
      "text/plain": [
       "683"
      ]
     },
     "execution_count": 9,
     "metadata": {},
     "output_type": "execute_result"
    }
   ],
   "source": [
    "df.duplicated().sum()"
   ]
  },
  {
   "cell_type": "code",
   "execution_count": 8,
   "metadata": {},
   "outputs": [],
   "source": [
    "# NO HAY NULOS\n",
    "# HAY 683 DUPLICADOS, LOS BORRAMOS.\n",
    "# LA VAR. RESOUESTA ES 'WORK_LIFE_BALANCE_SCORE' , BORRAREMOS ALGUNAS COLUMNAS QUE NO NOS INTERESAN Y CREAREMOS UNA NUEVA COLUMNA DE CATEGORIAS DEL SCORE.\n",
    "# TIPOS DE VAR.: ALGUNAS VARIABLES SON TIPO INT64 PERO SON CATEGORICAS EN SUAS VALORES, LAS CAMBIAREMOS.\n",
    "# TRABAJAREMOS SOBRE UNA COPIA DEL DF \n"
   ]
  },
  {
   "cell_type": "code",
   "execution_count": 5,
   "metadata": {},
   "outputs": [],
   "source": [
    "df1 = df.copy()"
   ]
  },
  {
   "cell_type": "code",
   "execution_count": 6,
   "metadata": {},
   "outputs": [],
   "source": [
    "df1.drop_duplicates(inplace = True)\n"
   ]
  },
  {
   "cell_type": "code",
   "execution_count": 7,
   "metadata": {},
   "outputs": [
    {
     "data": {
      "text/plain": [
       "0"
      ]
     },
     "execution_count": 7,
     "metadata": {},
     "output_type": "execute_result"
    }
   ],
   "source": [
    "df1.duplicated().sum()"
   ]
  },
  {
   "attachments": {},
   "cell_type": "markdown",
   "metadata": {},
   "source": [
    "Drop columnas : nos quedaremos con las variables relacionadas con aspectos físicos y relacionales(?).\n"
   ]
  },
  {
   "cell_type": "code",
   "execution_count": 8,
   "metadata": {},
   "outputs": [],
   "source": [
    "# elegimos las columnas a eliminar \n",
    "df1.drop(['PLACES_VISITED', 'SUPPORTING_OTHERS', 'ACHIEVEMENT', 'DONATION', 'TODO_COMPLETED', 'FLOW', 'LIVE_VISION', 'LOST_VACATION', 'DAILY_SHOUTING', 'PERSONAL_AWARDS'], axis = 'columns', inplace = True)"
   ]
  },
  {
   "cell_type": "code",
   "execution_count": null,
   "metadata": {},
   "outputs": [],
   "source": [
    "df1.columns"
   ]
  },
  {
   "attachments": {},
   "cell_type": "markdown",
   "metadata": {},
   "source": [
    "Type : hay  columnas type int64 cuando sus valores son clasificaciones (tienen un nº finito de posibilidades = 'category'), las cambiamos"
   ]
  },
  {
   "cell_type": "code",
   "execution_count": null,
   "metadata": {},
   "outputs": [],
   "source": [
    "df1['DAILY_STRESS'].value_counts()"
   ]
  },
  {
   "cell_type": "code",
   "execution_count": null,
   "metadata": {},
   "outputs": [],
   "source": [
    "df1[''].astype('category')"
   ]
  },
  {
   "cell_type": "markdown",
   "metadata": {},
   "source": [
    "Rename columns : renombramos columnas añadiendo métrica "
   ]
  },
  {
   "cell_type": "code",
   "execution_count": 18,
   "metadata": {},
   "outputs": [
    {
     "data": {
      "text/plain": [
       "Index(['FRUITS_VEGGIES', 'DAILY_STRESS', 'CORE_CIRCLE', 'SOCIAL_NETWORK',\n",
       "       'BMI_RANGE', 'DAILY_STEPS', 'SLEEP_HOURS', 'SUFFICIENT_INCOME',\n",
       "       'TIME_FOR_PASSION', 'WEEKLY_MEDITATION', 'AGE', 'GENDER',\n",
       "       'WORK_LIFE_BALANCE_SCORE'],\n",
       "      dtype='object')"
      ]
     },
     "execution_count": 18,
     "metadata": {},
     "output_type": "execute_result"
    }
   ],
   "source": []
  },
  {
   "cell_type": "code",
   "execution_count": null,
   "metadata": {},
   "outputs": [],
   "source": [
    "df1.rename(columns : ['FRUITS_VEGGIES' : 'FRUITS_U/D', 'DAILY_STRESS' : ', 'CORE_CIRCLE', 'SOCIAL_NETWORK',\n",
    "       'BMI_RANGE', 'DAILY_STEPS', 'SLEEP_HOURS', 'SUFFICIENT_INCOME',\n",
    "       'TIME_FOR_PASSION', 'WEEKLY_MEDITATION', 'AGE', 'GENDER',\n",
    "       'WORK_LIFE_BALANCE_SCORE''])"
   ]
  },
  {
   "attachments": {},
   "cell_type": "markdown",
   "metadata": {},
   "source": [
    " 0   ok FRUITS_VEGGIES           nº fruta por dia \n",
    " 1   ok DAILY_STRESS             nível diário estrés \n",
    " 2   nok PLACES_VISITED           nº lugares visitados\n",
    " 3   ok CORE_CIRCLE              nº de personas cercanas  \n",
    " 4   nok SUPPORTING_OTHERS        nº personas que ayuda\n",
    " 5   ok SOCIAL_NETWORK           nº interacciones por dia en rrss \n",
    " 6   nok ACHIEVEMENT              nº logros con orgullo  \n",
    " 7   nok DONATION                 nº donaciones (veces que donas) \n",
    " 8   ok BMI_RANGE                masa corporal  índice \n",
    " 9   nok TODO_COMPLETED           completar lista tareas diarias  \n",
    " 10  nok FLOW                            -\n",
    " 11  ok DAILY_STEPS              nº pasos diarios (1000)\n",
    " 12  nok LIVE_VISION                    -   \n",
    " 13  ok SLEEP_HOURS              horas sueno por dia  \n",
    " 14  nok LOST_VACATION                  -\n",
    " 15  nok DAILY_SHOUTING           nº veces   \n",
    " 16  ok SUFFICIENT_INCOME       salario   \n",
    " 17  nok PERSONAL_AWARDS                -\n",
    " 18  ok TIME_FOR_PASSION         horas/dia  \n",
    " 19  ok WEEKLY_MEDITATION        nº veces/semana  \n",
    " 20  ok AGE\n",
    " 21  ok GENDER                   15972 non-null  object \n",
    " 22  ok WORK_LIFE_BALANCE_SCORE  15972 non-null  float64"
   ]
  },
  {
   "attachments": {},
   "cell_type": "markdown",
   "metadata": {},
   "source": [
    "Outliers"
   ]
  },
  {
   "cell_type": "code",
   "execution_count": 10,
   "metadata": {},
   "outputs": [
    {
     "data": {
      "text/html": [
       "<div>\n",
       "<style scoped>\n",
       "    .dataframe tbody tr th:only-of-type {\n",
       "        vertical-align: middle;\n",
       "    }\n",
       "\n",
       "    .dataframe tbody tr th {\n",
       "        vertical-align: top;\n",
       "    }\n",
       "\n",
       "    .dataframe thead th {\n",
       "        text-align: right;\n",
       "    }\n",
       "</style>\n",
       "<table border=\"1\" class=\"dataframe\">\n",
       "  <thead>\n",
       "    <tr style=\"text-align: right;\">\n",
       "      <th></th>\n",
       "      <th>FRUITS_VEGGIES</th>\n",
       "      <th>PLACES_VISITED</th>\n",
       "      <th>CORE_CIRCLE</th>\n",
       "      <th>SUPPORTING_OTHERS</th>\n",
       "      <th>SOCIAL_NETWORK</th>\n",
       "      <th>ACHIEVEMENT</th>\n",
       "      <th>DONATION</th>\n",
       "      <th>BMI_RANGE</th>\n",
       "      <th>TODO_COMPLETED</th>\n",
       "      <th>FLOW</th>\n",
       "      <th>DAILY_STEPS</th>\n",
       "      <th>LIVE_VISION</th>\n",
       "      <th>SLEEP_HOURS</th>\n",
       "      <th>LOST_VACATION</th>\n",
       "      <th>DAILY_SHOUTING</th>\n",
       "      <th>SUFFICIENT_INCOME</th>\n",
       "      <th>PERSONAL_AWARDS</th>\n",
       "      <th>TIME_FOR_PASSION</th>\n",
       "      <th>WEEKLY_MEDITATION</th>\n",
       "      <th>WORK_LIFE_BALANCE_SCORE</th>\n",
       "    </tr>\n",
       "    <tr>\n",
       "      <th>Timestamp</th>\n",
       "      <th></th>\n",
       "      <th></th>\n",
       "      <th></th>\n",
       "      <th></th>\n",
       "      <th></th>\n",
       "      <th></th>\n",
       "      <th></th>\n",
       "      <th></th>\n",
       "      <th></th>\n",
       "      <th></th>\n",
       "      <th></th>\n",
       "      <th></th>\n",
       "      <th></th>\n",
       "      <th></th>\n",
       "      <th></th>\n",
       "      <th></th>\n",
       "      <th></th>\n",
       "      <th></th>\n",
       "      <th></th>\n",
       "      <th></th>\n",
       "    </tr>\n",
       "  </thead>\n",
       "  <tbody>\n",
       "    <tr>\n",
       "      <th>7/7/15</th>\n",
       "      <td>3</td>\n",
       "      <td>2</td>\n",
       "      <td>5</td>\n",
       "      <td>0</td>\n",
       "      <td>5</td>\n",
       "      <td>2</td>\n",
       "      <td>0</td>\n",
       "      <td>1</td>\n",
       "      <td>6</td>\n",
       "      <td>4</td>\n",
       "      <td>5</td>\n",
       "      <td>0</td>\n",
       "      <td>7</td>\n",
       "      <td>5</td>\n",
       "      <td>5</td>\n",
       "      <td>1</td>\n",
       "      <td>4</td>\n",
       "      <td>0</td>\n",
       "      <td>5</td>\n",
       "      <td>609.5</td>\n",
       "    </tr>\n",
       "    <tr>\n",
       "      <th>7/7/15</th>\n",
       "      <td>2</td>\n",
       "      <td>4</td>\n",
       "      <td>3</td>\n",
       "      <td>8</td>\n",
       "      <td>10</td>\n",
       "      <td>5</td>\n",
       "      <td>2</td>\n",
       "      <td>2</td>\n",
       "      <td>5</td>\n",
       "      <td>2</td>\n",
       "      <td>5</td>\n",
       "      <td>5</td>\n",
       "      <td>8</td>\n",
       "      <td>2</td>\n",
       "      <td>2</td>\n",
       "      <td>2</td>\n",
       "      <td>3</td>\n",
       "      <td>2</td>\n",
       "      <td>6</td>\n",
       "      <td>655.6</td>\n",
       "    </tr>\n",
       "  </tbody>\n",
       "</table>\n",
       "</div>"
      ],
      "text/plain": [
       "           FRUITS_VEGGIES  PLACES_VISITED  CORE_CIRCLE  SUPPORTING_OTHERS  \\\n",
       "Timestamp                                                                   \n",
       "7/7/15                  3               2            5                  0   \n",
       "7/7/15                  2               4            3                  8   \n",
       "\n",
       "           SOCIAL_NETWORK  ACHIEVEMENT  DONATION  BMI_RANGE  TODO_COMPLETED  \\\n",
       "Timestamp                                                                     \n",
       "7/7/15                  5            2         0          1               6   \n",
       "7/7/15                 10            5         2          2               5   \n",
       "\n",
       "           FLOW  DAILY_STEPS  LIVE_VISION  SLEEP_HOURS  LOST_VACATION  \\\n",
       "Timestamp                                                               \n",
       "7/7/15        4            5            0            7              5   \n",
       "7/7/15        2            5            5            8              2   \n",
       "\n",
       "           DAILY_SHOUTING  SUFFICIENT_INCOME  PERSONAL_AWARDS  \\\n",
       "Timestamp                                                       \n",
       "7/7/15                  5                  1                4   \n",
       "7/7/15                  2                  2                3   \n",
       "\n",
       "           TIME_FOR_PASSION  WEEKLY_MEDITATION  WORK_LIFE_BALANCE_SCORE  \n",
       "Timestamp                                                                \n",
       "7/7/15                    0                  5                    609.5  \n",
       "7/7/15                    2                  6                    655.6  "
      ]
     },
     "execution_count": 10,
     "metadata": {},
     "output_type": "execute_result"
    }
   ],
   "source": [
    "numericas = df.select_dtypes(include=['int64', 'float64'])\n",
    "numericas.head(2)"
   ]
  },
  {
   "cell_type": "code",
   "execution_count": 11,
   "metadata": {},
   "outputs": [
    {
     "ename": "IndexError",
     "evalue": "index 14 is out of bounds for axis 0 with size 14",
     "output_type": "error",
     "traceback": [
      "\u001b[0;31m---------------------------------------------------------------------------\u001b[0m",
      "\u001b[0;31mIndexError\u001b[0m                                Traceback (most recent call last)",
      "\u001b[0;32m/tmp/ipykernel_329/1307641582.py\u001b[0m in \u001b[0;36m<module>\u001b[0;34m\u001b[0m\n\u001b[1;32m      4\u001b[0m \u001b[0;34m\u001b[0m\u001b[0m\n\u001b[1;32m      5\u001b[0m \u001b[0;32mfor\u001b[0m \u001b[0mindice\u001b[0m\u001b[0;34m,\u001b[0m \u001b[0mcolumna\u001b[0m \u001b[0;32min\u001b[0m \u001b[0menumerate\u001b[0m\u001b[0;34m(\u001b[0m\u001b[0mnumericas\u001b[0m\u001b[0;34m.\u001b[0m\u001b[0mcolumns\u001b[0m\u001b[0;34m)\u001b[0m\u001b[0;34m:\u001b[0m\u001b[0;34m\u001b[0m\u001b[0;34m\u001b[0m\u001b[0m\n\u001b[0;32m----> 6\u001b[0;31m     \u001b[0msns\u001b[0m\u001b[0;34m.\u001b[0m\u001b[0mboxplot\u001b[0m\u001b[0;34m(\u001b[0m\u001b[0mx\u001b[0m \u001b[0;34m=\u001b[0m \u001b[0mnumericas\u001b[0m\u001b[0;34m[\u001b[0m\u001b[0mcolumna\u001b[0m\u001b[0;34m]\u001b[0m\u001b[0;34m,\u001b[0m \u001b[0mdata\u001b[0m \u001b[0;34m=\u001b[0m \u001b[0mdf1\u001b[0m\u001b[0;34m,\u001b[0m \u001b[0max\u001b[0m\u001b[0;34m=\u001b[0m\u001b[0maxes\u001b[0m\u001b[0;34m[\u001b[0m\u001b[0mindice\u001b[0m\u001b[0;34m]\u001b[0m\u001b[0;34m,\u001b[0m \u001b[0mcolor\u001b[0m \u001b[0;34m=\u001b[0m \u001b[0;34m\"yellow\"\u001b[0m\u001b[0;34m)\u001b[0m\u001b[0;34m;\u001b[0m \u001b[0;31m# para trazar una línea de densidad\u001b[0m\u001b[0;34m\u001b[0m\u001b[0;34m\u001b[0m\u001b[0m\n\u001b[0m\u001b[1;32m      7\u001b[0m \u001b[0;34m\u001b[0m\u001b[0m\n\u001b[1;32m      8\u001b[0m \u001b[0mplt\u001b[0m\u001b[0;34m.\u001b[0m\u001b[0mtight_layout\u001b[0m\u001b[0;34m(\u001b[0m\u001b[0;34m)\u001b[0m\u001b[0;34m\u001b[0m\u001b[0;34m\u001b[0m\u001b[0m\n",
      "\u001b[0;31mIndexError\u001b[0m: index 14 is out of bounds for axis 0 with size 14"
     ]
    },
    {
     "data": {
      "image/png": "[encoded data removed]",
      "text/plain": [
       "<Figure size 576x1080 with 14 Axes>"
      ]
     },
     "metadata": {
      "needs_background": "light"
     },
     "output_type": "display_data"
    }
   ],
   "source": [
    "fig, axes = plt.subplots(7, 2, figsize=(8,15))\n",
    "\n",
    "axes = axes.flat\n",
    "\n",
    "for indice, columna in enumerate(numericas.columns):\n",
    "    sns.boxplot(x = numericas[columna], data = df1, ax=axes[indice], color = \"yellow\"); # para trazar una línea de densidad\n",
    "  \n",
    "plt.tight_layout()\n",
    "fig.delaxes(axes[-1]);"
   ]
  },
  {
   "attachments": {},
   "cell_type": "markdown",
   "metadata": {},
   "source": [
    "---> tenemos outliers en la var. 'SLEEP_HOURS', los identificamos."
   ]
  },
  {
   "cell_type": "code",
   "execution_count": 15,
   "metadata": {},
   "outputs": [
    {
     "data": {
      "text/plain": [
       "6.0"
      ]
     },
     "execution_count": 15,
     "metadata": {},
     "output_type": "execute_result"
    }
   ],
   "source": [
    "# calculamos cuartiles\n",
    "Q1 = np.nanpercentile(df['SLEEP_HOURS'], 25)\n",
    "Q1\n"
   ]
  },
  {
   "cell_type": "code",
   "execution_count": 16,
   "metadata": {},
   "outputs": [
    {
     "data": {
      "text/plain": [
       "8.0"
      ]
     },
     "execution_count": 16,
     "metadata": {},
     "output_type": "execute_result"
    }
   ],
   "source": [
    "Q3 = np.nanpercentile(df['SLEEP_HOURS'], 75)\n",
    "Q3"
   ]
  },
  {
   "cell_type": "code",
   "execution_count": 17,
   "metadata": {},
   "outputs": [
    {
     "data": {
      "text/plain": [
       "2.0"
      ]
     },
     "execution_count": 17,
     "metadata": {},
     "output_type": "execute_result"
    }
   ],
   "source": [
    "# calculamos rango intercuartil\n",
    "IQR = Q3 - Q1\n",
    "IQR"
   ]
  },
  {
   "cell_type": "code",
   "execution_count": 18,
   "metadata": {},
   "outputs": [
    {
     "data": {
      "text/plain": [
       "3.0"
      ]
     },
     "execution_count": 18,
     "metadata": {},
     "output_type": "execute_result"
    }
   ],
   "source": [
    "# calculamos límites\n",
    "outlier_step = 1.5 * IQR\n",
    "outlier_step"
   ]
  },
  {
   "cell_type": "code",
   "execution_count": null,
   "metadata": {},
   "outputs": [],
   "source": []
  }
 ],
 "metadata": {
  "kernelspec": {
   "display_name": "base",
   "language": "python",
   "name": "python3"
  },
  "language_info": {
   "codemirror_mode": {
    "name": "ipython",
    "version": 3
   },
   "file_extension": ".py",
   "mimetype": "text/x-python",
   "name": "python",
   "nbconvert_exporter": "python",
   "pygments_lexer": "ipython3",
   "version": "3.9.7"
  },
  "orig_nbformat": 4,
  "vscode": {
   "interpreter": {
    "hash": "67102f693e510b408920f064fed8f652c879a90e6c1ff13ccd6f48ea2114128c"
   }
  }
 },
 "nbformat": 4,
 "nbformat_minor": 2
}
