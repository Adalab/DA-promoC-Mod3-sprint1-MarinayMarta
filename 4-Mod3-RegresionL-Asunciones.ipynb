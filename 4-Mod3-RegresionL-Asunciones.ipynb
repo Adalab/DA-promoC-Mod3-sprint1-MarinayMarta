{
 "cells": [
  {
   "attachments": {},
   "cell_type": "markdown",
   "metadata": {},
   "source": [
    "Pair Programming Asunciones Regresión Lineal - 3"
   ]
  },
  {
   "cell_type": "code",
   "execution_count": null,
   "metadata": {},
   "outputs": [],
   "source": [
    "!pip install researchpy"
   ]
  },
  {
   "cell_type": "code",
   "execution_count": null,
   "metadata": {},
   "outputs": [],
   "source": [
    "!pip install scipy"
   ]
  },
  {
   "cell_type": "code",
   "execution_count": 2,
   "metadata": {},
   "outputs": [],
   "source": [
    "import numpy as np          # Tratamiento de datos\n",
    "import pandas as pd\n",
    "import random \n",
    "import matplotlib.pyplot as plt  # Gráficos\n",
    "import seaborn as sns\n",
    "from scipy import stats         # # Estadísticos\n",
    "import researchpy as rp\n",
    "from scipy.stats import levene\n",
    "plt.rcParams[\"figure.figsize\"] = (10,8) \n",
    "pd.options.display.max_columns = None"
   ]
  },
  {
   "attachments": {},
   "cell_type": "markdown",
   "metadata": {},
   "source": [
    "El objetivo de este pairprgramming es que evaluéis si vuestro set de datos cumple todas las asunciones que se deben cumplir para hacer una regresión lineal. Cada asunción la deberéis testar de forma visual y analítica. Recordamos que estas asunciones son:\n",
    " -  Normalidad (ya la deberíais haber evaluado)\n",
    " -  Homogeneidad de varianzas\n",
    " -  Independencia de las variables\n",
    "     "
   ]
  },
  {
   "cell_type": "code",
   "execution_count": 3,
   "metadata": {},
   "outputs": [
    {
     "data": {
      "text/html": [
       "<div>\n",
       "<style scoped>\n",
       "    .dataframe tbody tr th:only-of-type {\n",
       "        vertical-align: middle;\n",
       "    }\n",
       "\n",
       "    .dataframe tbody tr th {\n",
       "        vertical-align: top;\n",
       "    }\n",
       "\n",
       "    .dataframe thead th {\n",
       "        text-align: right;\n",
       "    }\n",
       "</style>\n",
       "<table border=\"1\" class=\"dataframe\">\n",
       "  <thead>\n",
       "    <tr style=\"text-align: right;\">\n",
       "      <th></th>\n",
       "      <th>Timestamp</th>\n",
       "      <th>FRUITS_VEGGIES</th>\n",
       "      <th>DAILY_STRESS</th>\n",
       "      <th>CORE_CIRCLE</th>\n",
       "      <th>SOCIAL_NETWORK</th>\n",
       "      <th>BMI_RANGE</th>\n",
       "      <th>DAILY_STEPS</th>\n",
       "      <th>SLEEP_HOURS</th>\n",
       "      <th>SUFFICIENT_INCOME</th>\n",
       "      <th>TIME_FOR_PASSION</th>\n",
       "      <th>WEEKLY_MEDITATION</th>\n",
       "      <th>AGE</th>\n",
       "      <th>GENDER</th>\n",
       "      <th>WORK_LIFE_BALANCE_SCORE</th>\n",
       "    </tr>\n",
       "  </thead>\n",
       "  <tbody>\n",
       "    <tr>\n",
       "      <th>0</th>\n",
       "      <td>7/7/15</td>\n",
       "      <td>3</td>\n",
       "      <td>2</td>\n",
       "      <td>5</td>\n",
       "      <td>5</td>\n",
       "      <td>1</td>\n",
       "      <td>5</td>\n",
       "      <td>7</td>\n",
       "      <td>1</td>\n",
       "      <td>0</td>\n",
       "      <td>5</td>\n",
       "      <td>36 to 50</td>\n",
       "      <td>Female</td>\n",
       "      <td>609.5</td>\n",
       "    </tr>\n",
       "    <tr>\n",
       "      <th>1</th>\n",
       "      <td>7/7/15</td>\n",
       "      <td>2</td>\n",
       "      <td>3</td>\n",
       "      <td>3</td>\n",
       "      <td>10</td>\n",
       "      <td>2</td>\n",
       "      <td>5</td>\n",
       "      <td>8</td>\n",
       "      <td>2</td>\n",
       "      <td>2</td>\n",
       "      <td>6</td>\n",
       "      <td>36 to 50</td>\n",
       "      <td>Female</td>\n",
       "      <td>655.6</td>\n",
       "    </tr>\n",
       "  </tbody>\n",
       "</table>\n",
       "</div>"
      ],
      "text/plain": [
       "  Timestamp  FRUITS_VEGGIES DAILY_STRESS  CORE_CIRCLE  SOCIAL_NETWORK  \\\n",
       "0    7/7/15               3            2            5               5   \n",
       "1    7/7/15               2            3            3              10   \n",
       "\n",
       "   BMI_RANGE  DAILY_STEPS  SLEEP_HOURS  SUFFICIENT_INCOME  TIME_FOR_PASSION  \\\n",
       "0          1            5            7                  1                 0   \n",
       "1          2            5            8                  2                 2   \n",
       "\n",
       "   WEEKLY_MEDITATION       AGE  GENDER  WORK_LIFE_BALANCE_SCORE  \n",
       "0                  5  36 to 50  Female                    609.5  \n",
       "1                  6  36 to 50  Female                    655.6  "
      ]
     },
     "execution_count": 3,
     "metadata": {},
     "output_type": "execute_result"
    }
   ],
   "source": [
    "df = pd.read_csv('wellness_1.csv', index_col = 0)\n",
    "df.head(2)"
   ]
  },
  {
   "cell_type": "code",
   "execution_count": 3,
   "metadata": {},
   "outputs": [
    {
     "name": "stdout",
     "output_type": "stream",
     "text": [
      "<class 'pandas.core.frame.DataFrame'>\n",
      "Int64Index: 15286 entries, 0 to 15285\n",
      "Data columns (total 14 columns):\n",
      " #   Column                   Non-Null Count  Dtype  \n",
      "---  ------                   --------------  -----  \n",
      " 0   Timestamp                15286 non-null  object \n",
      " 1   FRUITS_VEGGIES           15286 non-null  int64  \n",
      " 2   DAILY_STRESS             15286 non-null  object \n",
      " 3   CORE_CIRCLE              15286 non-null  int64  \n",
      " 4   SOCIAL_NETWORK           15286 non-null  int64  \n",
      " 5   BMI_RANGE                15286 non-null  int64  \n",
      " 6   DAILY_STEPS              15286 non-null  int64  \n",
      " 7   SLEEP_HOURS              15286 non-null  int64  \n",
      " 8   SUFFICIENT_INCOME        15286 non-null  int64  \n",
      " 9   TIME_FOR_PASSION         15286 non-null  int64  \n",
      " 10  WEEKLY_MEDITATION        15286 non-null  int64  \n",
      " 11  AGE                      15286 non-null  object \n",
      " 12  GENDER                   15286 non-null  object \n",
      " 13  WORK_LIFE_BALANCE_SCORE  15286 non-null  float64\n",
      "dtypes: float64(1), int64(9), object(4)\n",
      "memory usage: 1.7+ MB\n"
     ]
    }
   ],
   "source": [
    "df.info()"
   ]
  },
  {
   "cell_type": "code",
   "execution_count": 4,
   "metadata": {},
   "outputs": [],
   "source": [
    "# cambiamos el tipo de datos a 3 columnas:\n",
    "for col in['DAILY_STRESS', 'BMI_RANGE', 'SUFFICIENT_INCOME']:\n",
    "    df[col] = df[col].astype('category') "
   ]
  },
  {
   "cell_type": "code",
   "execution_count": 5,
   "metadata": {},
   "outputs": [
    {
     "name": "stdout",
     "output_type": "stream",
     "text": [
      "<class 'pandas.core.frame.DataFrame'>\n",
      "Int64Index: 15286 entries, 0 to 15285\n",
      "Data columns (total 14 columns):\n",
      " #   Column                   Non-Null Count  Dtype   \n",
      "---  ------                   --------------  -----   \n",
      " 0   Timestamp                15286 non-null  object  \n",
      " 1   FRUITS_VEGGIES           15286 non-null  int64   \n",
      " 2   DAILY_STRESS             15286 non-null  category\n",
      " 3   CORE_CIRCLE              15286 non-null  int64   \n",
      " 4   SOCIAL_NETWORK           15286 non-null  int64   \n",
      " 5   BMI_RANGE                15286 non-null  category\n",
      " 6   DAILY_STEPS              15286 non-null  int64   \n",
      " 7   SLEEP_HOURS              15286 non-null  int64   \n",
      " 8   SUFFICIENT_INCOME        15286 non-null  category\n",
      " 9   TIME_FOR_PASSION         15286 non-null  int64   \n",
      " 10  WEEKLY_MEDITATION        15286 non-null  int64   \n",
      " 11  AGE                      15286 non-null  object  \n",
      " 12  GENDER                   15286 non-null  object  \n",
      " 13  WORK_LIFE_BALANCE_SCORE  15286 non-null  float64 \n",
      "dtypes: category(3), float64(1), int64(7), object(3)\n",
      "memory usage: 1.4+ MB\n"
     ]
    }
   ],
   "source": [
    "df.info()"
   ]
  },
  {
   "cell_type": "code",
   "execution_count": null,
   "metadata": {},
   "outputs": [],
   "source": [
    "# . info variables:\n",
    "# - FRUITS_VEGGIES   \n",
    "#     - Select 5 if more than 5, per day\n",
    "# - DAILY_STRESS/day           \n",
    "#     - 0: Not much stress---> 5: A lot of stress\n",
    "# - CORE_CIRCLE/n             n\n",
    "#     - close family and friends ready to provide you with a long-term unconditional support.\n",
    "# - SOCIAL_NETWORK/nday           \n",
    "#     - True interactions and dialogues at home, at work, at the gym\n",
    "# - BMI_RANGE                \n",
    "#     - masa corporal < 25 : 1, >= 25 :2  Your body mass in kg divided by the square of your height in meters\n",
    "# - DAILY_STEPS*1000              \n",
    "#     -  in thousand steps, daily\n",
    "# - SLEEP_HOURS/day              horas sueño por dia\n",
    "#     - Hours per night\n",
    "# - SUFFICIENT_INCOME        salario\n",
    "#     - Not or hardly sufficient:1 x Sufficient:2\n",
    "# - TIME_FOR_PASSION         horas/día\n",
    "#     - Daily hours spent doing what you are passionate and dreaming abou\n",
    "# - WEEKLY_MEDITATION  \n",
    "#     - nº veces/semana\n",
    "# - AGE\n",
    "#     - <= 20 / 21-35/36-50/>=51\n",
    "# - GENDER                   \n",
    "\n",
    "# - WORK_LIFE_BALANCE_SCORE \n",
    "#     - < 550:poor / > 680: good / > 700: excellent (\"The Work-Life Balance Score is the total of all five categories: a  poor score is below 550,  a good score is above 680, an excellent score is above 700.\")"
   ]
  },
  {
   "cell_type": "code",
   "execution_count": 6,
   "metadata": {},
   "outputs": [],
   "source": [
    "# cambiamos por comodidad el nombre de la columna respuesta\n",
    "# df3 = df.copy()\n",
    "# df3.rename = (columns = {'WORK_LIFE_BALANCE_SCORE' : 'SCORE'}, inplace = True)"
   ]
  },
  {
   "cell_type": "code",
   "execution_count": 34,
   "metadata": {},
   "outputs": [],
   "source": [
    "df4 = df.copy()"
   ]
  },
  {
   "cell_type": "code",
   "execution_count": 35,
   "metadata": {},
   "outputs": [
    {
     "data": {
      "image/png": "[encoded data removed]",
      "text/plain": [
       "<Figure size 720x576 with 1 Axes>"
      ]
     },
     "metadata": {
      "needs_background": "light"
     },
     "output_type": "display_data"
    }
   ],
   "source": [
    "# comprobamos normalidad para variable respuesta\n",
    "sns.histplot(df4['WORK_LIFE_BALANCE_SCORE'],  bins=20);"
   ]
  },
  {
   "attachments": {},
   "cell_type": "markdown",
   "metadata": {},
   "source": [
    "--> La grafica no presenta forma perfecta de la campana de Gauss, está cerca pero se nota alguna irregulariad en la distribución. De todo modo, lo habíamos comprobado en el pair anterior que la variable respuesta no tiene distribución normal. Presentamos el test nuevamente."
   ]
  },
  {
   "attachments": {},
   "cell_type": "markdown",
   "metadata": {},
   "source": [
    "- test de normalidade"
   ]
  },
  {
   "cell_type": "code",
   "execution_count": 6,
   "metadata": {},
   "outputs": [],
   "source": [
    "# Test de Kolmogorov-Smirnov (nº observaciones > 50)\n",
    "from scipy.stats import kstest"
   ]
  },
  {
   "cell_type": "code",
   "execution_count": 8,
   "metadata": {},
   "outputs": [
    {
     "data": {
      "text/plain": [
       "KstestResult(statistic=1.0, pvalue=0.0)"
      ]
     },
     "execution_count": 8,
     "metadata": {},
     "output_type": "execute_result"
    }
   ],
   "source": [
    "kstest(df4['WORK_LIFE_BALANCE_SCORE'], 'norm')\n"
   ]
  },
  {
   "attachments": {},
   "cell_type": "markdown",
   "metadata": {},
   "source": [
    "> Distribución es normal: pvalor < 0,05 : podemos rechazar la H0 por lo que los datos no son normales."
   ]
  },
  {
   "attachments": {},
   "cell_type": "markdown",
   "metadata": {},
   "source": [
    "- Homogeneidad de varianzas (homocedasticidad):\n",
    "    - Significa que las varianzas no varían entre los diferentes niveles de las variables.\n",
    "    - violin plot, boxplot"
   ]
  },
  {
   "cell_type": "code",
   "execution_count": 9,
   "metadata": {},
   "outputs": [
    {
     "data": {
      "text/html": [
       "<div>\n",
       "<style scoped>\n",
       "    .dataframe tbody tr th:only-of-type {\n",
       "        vertical-align: middle;\n",
       "    }\n",
       "\n",
       "    .dataframe tbody tr th {\n",
       "        vertical-align: top;\n",
       "    }\n",
       "\n",
       "    .dataframe thead th {\n",
       "        text-align: right;\n",
       "    }\n",
       "</style>\n",
       "<table border=\"1\" class=\"dataframe\">\n",
       "  <thead>\n",
       "    <tr style=\"text-align: right;\">\n",
       "      <th></th>\n",
       "      <th>Timestamp</th>\n",
       "      <th>FRUITS_VEGGIES</th>\n",
       "      <th>DAILY_STRESS</th>\n",
       "      <th>CORE_CIRCLE</th>\n",
       "      <th>SOCIAL_NETWORK</th>\n",
       "      <th>BMI_RANGE</th>\n",
       "      <th>DAILY_STEPS</th>\n",
       "      <th>SLEEP_HOURS</th>\n",
       "      <th>SUFFICIENT_INCOME</th>\n",
       "      <th>TIME_FOR_PASSION</th>\n",
       "      <th>WEEKLY_MEDITATION</th>\n",
       "      <th>AGE</th>\n",
       "      <th>GENDER</th>\n",
       "      <th>WORK_LIFE_BALANCE_SCORE</th>\n",
       "    </tr>\n",
       "  </thead>\n",
       "  <tbody>\n",
       "    <tr>\n",
       "      <th>0</th>\n",
       "      <td>7/7/15</td>\n",
       "      <td>3</td>\n",
       "      <td>2</td>\n",
       "      <td>5</td>\n",
       "      <td>5</td>\n",
       "      <td>1</td>\n",
       "      <td>5</td>\n",
       "      <td>7</td>\n",
       "      <td>1</td>\n",
       "      <td>0</td>\n",
       "      <td>5</td>\n",
       "      <td>36 to 50</td>\n",
       "      <td>Female</td>\n",
       "      <td>609.5</td>\n",
       "    </tr>\n",
       "    <tr>\n",
       "      <th>1</th>\n",
       "      <td>7/7/15</td>\n",
       "      <td>2</td>\n",
       "      <td>3</td>\n",
       "      <td>3</td>\n",
       "      <td>10</td>\n",
       "      <td>2</td>\n",
       "      <td>5</td>\n",
       "      <td>8</td>\n",
       "      <td>2</td>\n",
       "      <td>2</td>\n",
       "      <td>6</td>\n",
       "      <td>36 to 50</td>\n",
       "      <td>Female</td>\n",
       "      <td>655.6</td>\n",
       "    </tr>\n",
       "  </tbody>\n",
       "</table>\n",
       "</div>"
      ],
      "text/plain": [
       "  Timestamp  FRUITS_VEGGIES DAILY_STRESS  CORE_CIRCLE  SOCIAL_NETWORK  \\\n",
       "0    7/7/15               3            2            5               5   \n",
       "1    7/7/15               2            3            3              10   \n",
       "\n",
       "  BMI_RANGE  DAILY_STEPS  SLEEP_HOURS SUFFICIENT_INCOME  TIME_FOR_PASSION  \\\n",
       "0         1            5            7                 1                 0   \n",
       "1         2            5            8                 2                 2   \n",
       "\n",
       "   WEEKLY_MEDITATION       AGE  GENDER  WORK_LIFE_BALANCE_SCORE  \n",
       "0                  5  36 to 50  Female                    609.5  \n",
       "1                  6  36 to 50  Female                    655.6  "
      ]
     },
     "execution_count": 9,
     "metadata": {},
     "output_type": "execute_result"
    }
   ],
   "source": [
    "df4.head(2)\n",
    "\n",
    "# ['WORK_LIFE_BALANCE_SCORE']"
   ]
  },
  {
   "cell_type": "code",
   "execution_count": 16,
   "metadata": {},
   "outputs": [
    {
     "data": {
      "image/png": "[encoded data removed]",
      "text/plain": [
       "<Figure size 720x360 with 1 Axes>"
      ]
     },
     "metadata": {
      "needs_background": "light"
     },
     "output_type": "display_data"
    }
   ],
   "source": [
    "# vemos la relacion con el nível de stress diário:\n",
    "fig, ax = plt.subplots(nrows=1, ncols=1, figsize=(10, 5))\n",
    "\n",
    "sns.violinplot(\n",
    "    x       = 'DAILY_STRESS',\n",
    "    y       = 'WORK_LIFE_BALANCE_SCORE',\n",
    "    data    = df4,\n",
    "    palette = 'husl',\n",
    "    ax      = ax\n",
    ")\n",
    "# ax.set_title('')\n",
    "ax.set_ylabel('LIFE BALANCE SCORE')\n",
    "ax.set_xlabel('DAILY STRESS');"
   ]
  },
  {
   "attachments": {},
   "cell_type": "markdown",
   "metadata": {},
   "source": [
    "media : punto blanco, rango intercuatílico : barra negra, hilos negros: 1Q y 3Q\n",
    "Interpretación: ??"
   ]
  },
  {
   "cell_type": "code",
   "execution_count": 15,
   "metadata": {},
   "outputs": [
    {
     "data": {
      "image/png": "[encoded data removed]",
      "text/plain": [
       "<Figure size 720x360 with 1 Axes>"
      ]
     },
     "metadata": {
      "needs_background": "light"
     },
     "output_type": "display_data"
    }
   ],
   "source": [
    "# con un boxplot:\n",
    "\n",
    "fig, ax = plt.subplots(nrows=1, ncols=1, figsize=(10, 5))\n",
    "\n",
    "sns.boxplot(\n",
    "    x       = 'DAILY_STRESS',\n",
    "    y       = 'WORK_LIFE_BALANCE_SCORE',\n",
    "    data    = df4,\n",
    "    palette = 'husl',\n",
    "    ax      = ax\n",
    ")\n",
    "# ax.set_title('')\n",
    "ax.set_ylabel('WORK_LIFE_BALANCE_SCORE')\n",
    "ax.set_xlabel('DAILY_STRESS');"
   ]
  },
  {
   "attachments": {},
   "cell_type": "markdown",
   "metadata": {},
   "source": [
    "- -->  Vemos que las medianas así como las varianzas son similares. \n",
    "- --> Haremos un regplot para visualizar si las variables numéricas cumplen o no la asunción de homogeneidad de varianzas.\n",
    "\n",
    "\n"
   ]
  },
  {
   "cell_type": "code",
   "execution_count": 24,
   "metadata": {},
   "outputs": [
    {
     "data": {
      "image/png": "[encoded data removed]",
      "text/plain": [
       "<Figure size 2160x720 with 8 Axes>"
      ]
     },
     "metadata": {
      "needs_background": "light"
     },
     "output_type": "display_data"
    }
   ],
   "source": [
    "\n",
    "fig, axes = plt.subplots(nrows = 4, ncols = 2, figsize = (30, 10))\n",
    "\n",
    "# definimos una lista de colores. Cada color corresponderá a una gráfica\n",
    "lista_colores = [\"blue\", \"green\", \"red\", \"cyan\", \"magenta\", \"orange\"]\n",
    "\n",
    "# hemos creado una gráfica con varios subplots. Si queremos automatizar el proceso de relleno de cada uno de los plots\n",
    "## podemos usar el método .flat. Lo que hace es aplanar los ejes para que queden en una única dimensión\n",
    "## y luego los vamos rellenando. \n",
    "axes = axes.flat\n",
    "\n",
    "# seleccionamos las columnas que queremos graficar\n",
    "columns_numeric = df4.select_dtypes(include = np.number).drop('WORK_LIFE_BALANCE_SCORE', axis=1)\n",
    "columns_numeric = columns_numeric.columns\n",
    "\n",
    "# iniciamos un for loop para no tener que escribir la misma línea de código muchas veces\n",
    "for i, column in enumerate(columns_numeric): \n",
    "    sns.regplot(\n",
    "        data = df4,\n",
    "        x = column,\n",
    "        y = 'WORK_LIFE_BALANCE_SCORE',\n",
    "        #color = lista_colores[i],\n",
    "        line_kws = {\"color\": \"black\", \"alpha\": 0.7 }, \n",
    "        ax = axes[i])\n",
    "    \n",
    "    # establecemos el título de cada gráfica\n",
    "    axes[i].set_title(column, fontsize = 15, fontweight = \"bold\")\n",
    "\n",
    "    # establacemos el tamaño de la letras de los ejes\n",
    "    axes[i].tick_params(labelsize = 20)\n",
    "\n",
    "    # establecemos que no queremos que aparezca nada en el eje x\n",
    "    axes[i].set_xlabel(\"\")\n",
    "    \n",
    "# ajustamos el tamaño de cada subplot para que no se vean superpuestos. \n",
    "fig.tight_layout();"
   ]
  },
  {
   "attachments": {},
   "cell_type": "markdown",
   "metadata": {},
   "source": [
    "\n",
    "\n",
    "- --> No(?) cumple la homogeneidad de varianzas: \"En el regplot lo que vemos es la recta que se ajusta a los puntos. Si la dispersión de los puntos es constante en todo el intervalo podremos decir que si se cumple la asunción de homogeneidad de varianzas. \"\n",
    "- Lo veremos analiticamente:\n",
    "    - test de Levene: Si no se tiene la seguridad de que las poblaciones de origen son normales, utilizando la mediana.\n",
    "    - H0 (hipótesis nula): las varianzas son iguales => hay homogeneidad de las varianzas u homocedasticidad (pvalor>0.05);\n",
    "    - H1 (hipótesis alternativa): las varianzas son distintas => no hay homogeneidad( pvalor<0.05)"
   ]
  },
  {
   "cell_type": "code",
   "execution_count": 36,
   "metadata": {},
   "outputs": [
    {
     "data": {
      "text/plain": [
       "['2', '3', '1', '4', '5', '0', '1/1/00']\n",
       "Categories (7, object): ['0', '1', '1/1/00', '2', '3', '4', '5']"
      ]
     },
     "execution_count": 36,
     "metadata": {},
     "output_type": "execute_result"
    }
   ],
   "source": [
    "# vamos aplicar a la columna \n",
    "df4['DAILY_STRESS'].unique()"
   ]
  },
  {
   "cell_type": "code",
   "execution_count": 37,
   "metadata": {},
   "outputs": [
    {
     "data": {
      "text/plain": [
       "3         4142\n",
       "2         3269\n",
       "4         2875\n",
       "1         2377\n",
       "5         1970\n",
       "0          652\n",
       "1/1/00       1\n",
       "Name: DAILY_STRESS, dtype: int64"
      ]
     },
     "execution_count": 37,
     "metadata": {},
     "output_type": "execute_result"
    }
   ],
   "source": [
    "# cambiamos el valor '1/1/00' por el valor más frecuente y confirmamos:\n",
    "df4['DAILY_STRESS'].value_counts()"
   ]
  },
  {
   "cell_type": "code",
   "execution_count": 40,
   "metadata": {},
   "outputs": [],
   "source": [
    "df4['DAILY_STRESS'].replace(['1/1/00'], '3', inplace = True)"
   ]
  },
  {
   "cell_type": "code",
   "execution_count": 41,
   "metadata": {},
   "outputs": [
    {
     "data": {
      "text/plain": [
       "3    4143\n",
       "2    3269\n",
       "4    2875\n",
       "1    2377\n",
       "5    1970\n",
       "0     652\n",
       "Name: DAILY_STRESS, dtype: int64"
      ]
     },
     "execution_count": 41,
     "metadata": {},
     "output_type": "execute_result"
    }
   ],
   "source": [
    "df4['DAILY_STRESS'].value_counts()"
   ]
  },
  {
   "cell_type": "code",
   "execution_count": 42,
   "metadata": {},
   "outputs": [],
   "source": [
    "# extraemos los distintos dataframes que necesitaremos\n",
    "no_stress = df4[df4['DAILY_STRESS'] == '0']['WORK_LIFE_BALANCE_SCORE']\n",
    "normal_stress = df4[df4['DAILY_STRESS'] == '1']['WORK_LIFE_BALANCE_SCORE']\n",
    "some_stress = df4[df4['DAILY_STRESS'] == '2']['WORK_LIFE_BALANCE_SCORE']\n",
    "much_stress = df4[df4['DAILY_STRESS'] == '2']['WORK_LIFE_BALANCE_SCORE']\n",
    "too_much_stress = df4[df4['DAILY_STRESS'] == '3']['WORK_LIFE_BALANCE_SCORE']\n",
    "a_lot_stress = df4[df4['DAILY_STRESS'] == '4']['WORK_LIFE_BALANCE_SCORE']"
   ]
  },
  {
   "cell_type": "code",
   "execution_count": 44,
   "metadata": {},
   "outputs": [
    {
     "data": {
      "text/plain": [
       "LeveneResult(statistic=6.181837045952128, pvalue=9.877997007703825e-06)"
      ]
     },
     "execution_count": 44,
     "metadata": {},
     "output_type": "execute_result"
    }
   ],
   "source": [
    "# Levene test\n",
    "\n",
    "levene_test = stats.levene(no_stress, normal_stress, some_stress, much_stress , too_much_stress, a_lot_stress, center='median')\n",
    "levene_test"
   ]
  },
  {
   "cell_type": "code",
   "execution_count": 45,
   "metadata": {},
   "outputs": [
    {
     "data": {
      "text/plain": [
       "BartlettResult(statistic=39.01648408780297, pvalue=2.3567624242506787e-07)"
      ]
     },
     "execution_count": 45,
     "metadata": {},
     "output_type": "execute_result"
    }
   ],
   "source": [
    "# Bartlett test\n",
    "bartlett_test = stats.bartlett(no_stress, normal_stress, some_stress, much_stress , too_much_stress, a_lot_stress)\n",
    "bartlett_test"
   ]
  },
  {
   "attachments": {},
   "cell_type": "markdown",
   "metadata": {},
   "source": [
    "- --> pvalor < 0.05 : las variables analizadas no cumplen con la asunción de homocedasticidad => aceptamos la hip. alternativa => no hay homogeneidad => varianzas distintas."
   ]
  },
  {
   "cell_type": "code",
   "execution_count": 46,
   "metadata": {},
   "outputs": [
    {
     "data": {
      "text/html": [
       "<div>\n",
       "<style scoped>\n",
       "    .dataframe tbody tr th:only-of-type {\n",
       "        vertical-align: middle;\n",
       "    }\n",
       "\n",
       "    .dataframe tbody tr th {\n",
       "        vertical-align: top;\n",
       "    }\n",
       "\n",
       "    .dataframe thead th {\n",
       "        text-align: right;\n",
       "    }\n",
       "</style>\n",
       "<table border=\"1\" class=\"dataframe\">\n",
       "  <thead>\n",
       "    <tr style=\"text-align: right;\">\n",
       "      <th></th>\n",
       "      <th>FRUITS_VEGGIES</th>\n",
       "      <th>CORE_CIRCLE</th>\n",
       "      <th>SOCIAL_NETWORK</th>\n",
       "      <th>DAILY_STEPS</th>\n",
       "      <th>SLEEP_HOURS</th>\n",
       "      <th>TIME_FOR_PASSION</th>\n",
       "      <th>WEEKLY_MEDITATION</th>\n",
       "      <th>WORK_LIFE_BALANCE_SCORE</th>\n",
       "    </tr>\n",
       "  </thead>\n",
       "  <tbody>\n",
       "    <tr>\n",
       "      <th>0</th>\n",
       "      <td>3</td>\n",
       "      <td>5</td>\n",
       "      <td>5</td>\n",
       "      <td>5</td>\n",
       "      <td>7</td>\n",
       "      <td>0</td>\n",
       "      <td>5</td>\n",
       "      <td>609.5</td>\n",
       "    </tr>\n",
       "    <tr>\n",
       "      <th>1</th>\n",
       "      <td>2</td>\n",
       "      <td>3</td>\n",
       "      <td>10</td>\n",
       "      <td>5</td>\n",
       "      <td>8</td>\n",
       "      <td>2</td>\n",
       "      <td>6</td>\n",
       "      <td>655.6</td>\n",
       "    </tr>\n",
       "  </tbody>\n",
       "</table>\n",
       "</div>"
      ],
      "text/plain": [
       "   FRUITS_VEGGIES  CORE_CIRCLE  SOCIAL_NETWORK  DAILY_STEPS  SLEEP_HOURS  \\\n",
       "0               3            5               5            5            7   \n",
       "1               2            3              10            5            8   \n",
       "\n",
       "   TIME_FOR_PASSION  WEEKLY_MEDITATION  WORK_LIFE_BALANCE_SCORE  \n",
       "0                 0                  5                    609.5  \n",
       "1                 2                  6                    655.6  "
      ]
     },
     "execution_count": 46,
     "metadata": {},
     "output_type": "execute_result"
    }
   ],
   "source": [
    "# ahora analizamos las numéricas\n",
    "numerics = df4.select_dtypes(include = np.number)\n",
    "numerics.head(2)\n"
   ]
  },
  {
   "cell_type": "code",
   "execution_count": 49,
   "metadata": {},
   "outputs": [],
   "source": [
    "results = {}             # creamos un diccionario para almacenar los resultados de los test\n",
    "numerics_col = df.select_dtypes(include = np.number).drop('WORK_LIFE_BALANCE_SCORE', axis = 1).columns        # eliminamos seleción la columna var. respuesta\n",
    "\n",
    "for col in numerics_col:           #iteramos por la lista de las columnas numéricas\n",
    "     statistic, p_val = levene(df4[col], df4.WORK_LIFE_BALANCE_SCORE, center='median')              # calculamos el p-valor de test\n",
    "     results[col] = p_val         # lo almacenamos en el diccionario"
   ]
  },
  {
   "cell_type": "code",
   "execution_count": 50,
   "metadata": {},
   "outputs": [
    {
     "data": {
      "text/plain": [
       "{'FRUITS_VEGGIES': 0.0,\n",
       " 'CORE_CIRCLE': 0.0,\n",
       " 'SOCIAL_NETWORK': 0.0,\n",
       " 'DAILY_STEPS': 0.0,\n",
       " 'SLEEP_HOURS': 0.0,\n",
       " 'TIME_FOR_PASSION': 0.0,\n",
       " 'WEEKLY_MEDITATION': 0.0}"
      ]
     },
     "execution_count": 50,
     "metadata": {},
     "output_type": "execute_result"
    }
   ],
   "source": [
    "results"
   ]
  },
  {
   "attachments": {},
   "cell_type": "markdown",
   "metadata": {},
   "source": [
    "--> No cumplen la asunción : todos los resultados para pvalor son < 0.05 => varianzas distintas => heterocedasticidad "
   ]
  },
  {
   "attachments": {},
   "cell_type": "markdown",
   "metadata": {},
   "source": [
    " - Independencia de las variables: test Chi-cuadrado\n",
    "     - 'Basándose en los recuentos de celdas, es posible probar si existe una relación o dependencia, entre las variables y estimar la fuerza de la relación. Esto se hace probando la diferencia entre el recuento esperado, y el recuento observado.':\n",
    "        -  *H0 : variables indepiendentes => pvalor>0.05 => no rechazo H0*\n",
    "        - *H1 : variables dependientes => pvalor < 0.05 => rechazo H0*\n",
    "     \n",
    "     "
   ]
  },
  {
   "cell_type": "code",
   "execution_count": 55,
   "metadata": {},
   "outputs": [],
   "source": [
    "crosstab, test_results, expected = rp.crosstab(df4['SLEEP_HOURS'], df4['DAILY_STRESS'],\n",
    "                                               test= \"chi-square\",\n",
    "                                               expected_freqs= True,\n",
    "                                               prop= \"cell\")\n"
   ]
  },
  {
   "cell_type": "code",
   "execution_count": 56,
   "metadata": {},
   "outputs": [
    {
     "data": {
      "text/html": [
       "<div>\n",
       "<style scoped>\n",
       "    .dataframe tbody tr th:only-of-type {\n",
       "        vertical-align: middle;\n",
       "    }\n",
       "\n",
       "    .dataframe tbody tr th {\n",
       "        vertical-align: top;\n",
       "    }\n",
       "\n",
       "    .dataframe thead tr th {\n",
       "        text-align: left;\n",
       "    }\n",
       "\n",
       "    .dataframe thead tr:last-of-type th {\n",
       "        text-align: right;\n",
       "    }\n",
       "</style>\n",
       "<table border=\"1\" class=\"dataframe\">\n",
       "  <thead>\n",
       "    <tr>\n",
       "      <th></th>\n",
       "      <th colspan=\"7\" halign=\"left\">DAILY_STRESS</th>\n",
       "    </tr>\n",
       "    <tr>\n",
       "      <th>DAILY_STRESS</th>\n",
       "      <th>0</th>\n",
       "      <th>1</th>\n",
       "      <th>2</th>\n",
       "      <th>3</th>\n",
       "      <th>4</th>\n",
       "      <th>5</th>\n",
       "      <th>All</th>\n",
       "    </tr>\n",
       "    <tr>\n",
       "      <th>SLEEP_HOURS</th>\n",
       "      <th></th>\n",
       "      <th></th>\n",
       "      <th></th>\n",
       "      <th></th>\n",
       "      <th></th>\n",
       "      <th></th>\n",
       "      <th></th>\n",
       "    </tr>\n",
       "  </thead>\n",
       "  <tbody>\n",
       "    <tr>\n",
       "      <th>1</th>\n",
       "      <td>0.03</td>\n",
       "      <td>0.00</td>\n",
       "      <td>0.01</td>\n",
       "      <td>0.02</td>\n",
       "      <td>0.01</td>\n",
       "      <td>0.04</td>\n",
       "      <td>0.11</td>\n",
       "    </tr>\n",
       "    <tr>\n",
       "      <th>2</th>\n",
       "      <td>0.00</td>\n",
       "      <td>0.01</td>\n",
       "      <td>0.01</td>\n",
       "      <td>0.05</td>\n",
       "      <td>0.03</td>\n",
       "      <td>0.03</td>\n",
       "      <td>0.14</td>\n",
       "    </tr>\n",
       "    <tr>\n",
       "      <th>3</th>\n",
       "      <td>0.02</td>\n",
       "      <td>0.01</td>\n",
       "      <td>0.07</td>\n",
       "      <td>0.07</td>\n",
       "      <td>0.05</td>\n",
       "      <td>0.10</td>\n",
       "      <td>0.32</td>\n",
       "    </tr>\n",
       "    <tr>\n",
       "      <th>4</th>\n",
       "      <td>0.06</td>\n",
       "      <td>0.18</td>\n",
       "      <td>0.22</td>\n",
       "      <td>0.24</td>\n",
       "      <td>0.43</td>\n",
       "      <td>0.45</td>\n",
       "      <td>1.58</td>\n",
       "    </tr>\n",
       "    <tr>\n",
       "      <th>5</th>\n",
       "      <td>0.15</td>\n",
       "      <td>0.73</td>\n",
       "      <td>0.96</td>\n",
       "      <td>1.77</td>\n",
       "      <td>1.33</td>\n",
       "      <td>1.52</td>\n",
       "      <td>6.47</td>\n",
       "    </tr>\n",
       "  </tbody>\n",
       "</table>\n",
       "</div>"
      ],
      "text/plain": [
       "             DAILY_STRESS                                    \n",
       "DAILY_STRESS            0     1     2     3     4     5   All\n",
       "SLEEP_HOURS                                                  \n",
       "1                    0.03  0.00  0.01  0.02  0.01  0.04  0.11\n",
       "2                    0.00  0.01  0.01  0.05  0.03  0.03  0.14\n",
       "3                    0.02  0.01  0.07  0.07  0.05  0.10  0.32\n",
       "4                    0.06  0.18  0.22  0.24  0.43  0.45  1.58\n",
       "5                    0.15  0.73  0.96  1.77  1.33  1.52  6.47"
      ]
     },
     "execution_count": 56,
     "metadata": {},
     "output_type": "execute_result"
    }
   ],
   "source": [
    "crosstab.head()"
   ]
  },
  {
   "cell_type": "code",
   "execution_count": 57,
   "metadata": {},
   "outputs": [
    {
     "data": {
      "text/html": [
       "<div>\n",
       "<style scoped>\n",
       "    .dataframe tbody tr th:only-of-type {\n",
       "        vertical-align: middle;\n",
       "    }\n",
       "\n",
       "    .dataframe tbody tr th {\n",
       "        vertical-align: top;\n",
       "    }\n",
       "\n",
       "    .dataframe thead th {\n",
       "        text-align: right;\n",
       "    }\n",
       "</style>\n",
       "<table border=\"1\" class=\"dataframe\">\n",
       "  <thead>\n",
       "    <tr style=\"text-align: right;\">\n",
       "      <th></th>\n",
       "      <th>Chi-square test</th>\n",
       "      <th>results</th>\n",
       "    </tr>\n",
       "  </thead>\n",
       "  <tbody>\n",
       "    <tr>\n",
       "      <th>0</th>\n",
       "      <td>Pearson Chi-square ( 45.0) =</td>\n",
       "      <td>785.6376</td>\n",
       "    </tr>\n",
       "    <tr>\n",
       "      <th>1</th>\n",
       "      <td>p-value =</td>\n",
       "      <td>0.0000</td>\n",
       "    </tr>\n",
       "    <tr>\n",
       "      <th>2</th>\n",
       "      <td>Cramer's V =</td>\n",
       "      <td>0.1014</td>\n",
       "    </tr>\n",
       "  </tbody>\n",
       "</table>\n",
       "</div>"
      ],
      "text/plain": [
       "                 Chi-square test   results\n",
       "0  Pearson Chi-square ( 45.0) =   785.6376\n",
       "1                     p-value =     0.0000\n",
       "2                  Cramer's V =     0.1014"
      ]
     },
     "execution_count": 57,
     "metadata": {},
     "output_type": "execute_result"
    }
   ],
   "source": [
    "test_results"
   ]
  },
  {
   "attachments": {},
   "cell_type": "markdown",
   "metadata": {},
   "source": [
    "--> Estas variables son dependientes"
   ]
  },
  {
   "cell_type": "code",
   "execution_count": 58,
   "metadata": {},
   "outputs": [],
   "source": [
    "# para probar, hacemos con otras dos variables que a priori no son dependientes: masa corporal y salario.\n",
    "crosstab1, test_results1, expected1 = rp.crosstab(df4['BMI_RANGE'], df4['SUFFICIENT_INCOME'],\n",
    "                                               test= \"chi-square\",\n",
    "                                               expected_freqs= True,\n",
    "                                               prop= \"cell\")\n"
   ]
  },
  {
   "cell_type": "code",
   "execution_count": 59,
   "metadata": {},
   "outputs": [
    {
     "data": {
      "text/html": [
       "<div>\n",
       "<style scoped>\n",
       "    .dataframe tbody tr th:only-of-type {\n",
       "        vertical-align: middle;\n",
       "    }\n",
       "\n",
       "    .dataframe tbody tr th {\n",
       "        vertical-align: top;\n",
       "    }\n",
       "\n",
       "    .dataframe thead th {\n",
       "        text-align: right;\n",
       "    }\n",
       "</style>\n",
       "<table border=\"1\" class=\"dataframe\">\n",
       "  <thead>\n",
       "    <tr style=\"text-align: right;\">\n",
       "      <th></th>\n",
       "      <th>Chi-square test</th>\n",
       "      <th>results</th>\n",
       "    </tr>\n",
       "  </thead>\n",
       "  <tbody>\n",
       "    <tr>\n",
       "      <th>0</th>\n",
       "      <td>Pearson Chi-square ( 45.0) =</td>\n",
       "      <td>785.6376</td>\n",
       "    </tr>\n",
       "    <tr>\n",
       "      <th>1</th>\n",
       "      <td>p-value =</td>\n",
       "      <td>0.0000</td>\n",
       "    </tr>\n",
       "    <tr>\n",
       "      <th>2</th>\n",
       "      <td>Cramer's V =</td>\n",
       "      <td>0.1014</td>\n",
       "    </tr>\n",
       "  </tbody>\n",
       "</table>\n",
       "</div>"
      ],
      "text/plain": [
       "                 Chi-square test   results\n",
       "0  Pearson Chi-square ( 45.0) =   785.6376\n",
       "1                     p-value =     0.0000\n",
       "2                  Cramer's V =     0.1014"
      ]
     },
     "execution_count": 59,
     "metadata": {},
     "output_type": "execute_result"
    }
   ],
   "source": [
    "test_results"
   ]
  },
  {
   "attachments": {},
   "cell_type": "markdown",
   "metadata": {},
   "source": [
    "--> ?????????"
   ]
  }
 ],
 "metadata": {
  "kernelspec": {
   "display_name": "base",
   "language": "python",
   "name": "python3"
  },
  "language_info": {
   "codemirror_mode": {
    "name": "ipython",
    "version": 3
   },
   "file_extension": ".py",
   "mimetype": "text/x-python",
   "name": "python",
   "nbconvert_exporter": "python",
   "pygments_lexer": "ipython3",
   "version": "3.9.7 (default, Sep 16 2021, 13:09:58) \n[GCC 7.5.0]"
  },
  "orig_nbformat": 4,
  "vscode": {
   "interpreter": {
    "hash": "67102f693e510b408920f064fed8f652c879a90e6c1ff13ccd6f48ea2114128c"
   }
  }
 },
 "nbformat": 4,
 "nbformat_minor": 2
}
