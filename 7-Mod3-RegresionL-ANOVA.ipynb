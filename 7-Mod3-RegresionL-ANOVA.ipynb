{
 "cells": [
  {
   "attachments": {},
   "cell_type": "markdown",
   "metadata": {},
   "source": [
    "# Pair Programming ANOVA"
   ]
  },
  {
   "attachments": {},
   "cell_type": "markdown",
   "metadata": {},
   "source": [
    "1. En el ejercicio de hoy tendréis que hacer un ANOVA con vuestro datos y hacer una interpretación de los resultados."
   ]
  },
  {
   "cell_type": "code",
   "execution_count": 1,
   "metadata": {},
   "outputs": [],
   "source": [
    "import numpy as np\n",
    "import pandas as pd\n",
    "import random \n",
    "\n",
    "# Gráficos\n",
    "# ------------------------------------------------------------------------------\n",
    "import matplotlib.pyplot as plt\n",
    "import seaborn as sns\n",
    "\n",
    "# Estadísticos\n",
    "# ------------------------------------------------------------------------------\n",
    "import statsmodels.api as sm\n",
    "from statsmodels.formula.api import ols # para realizar el ANOVA\n",
    "from statsmodels.multivariate.manova import MANOVA\n",
    "from sklearn.preprocessing import StandardScaler\n",
    "\n",
    "plt.rcParams[\"figure.figsize\"] = (10,8) "
   ]
  },
  {
   "cell_type": "code",
   "execution_count": 2,
   "metadata": {},
   "outputs": [
    {
     "data": {
      "text/html": [
       "<div>\n",
       "<style scoped>\n",
       "    .dataframe tbody tr th:only-of-type {\n",
       "        vertical-align: middle;\n",
       "    }\n",
       "\n",
       "    .dataframe tbody tr th {\n",
       "        vertical-align: top;\n",
       "    }\n",
       "\n",
       "    .dataframe thead th {\n",
       "        text-align: right;\n",
       "    }\n",
       "</style>\n",
       "<table border=\"1\" class=\"dataframe\">\n",
       "  <thead>\n",
       "    <tr style=\"text-align: right;\">\n",
       "      <th></th>\n",
       "      <th>FRUITS_VEGGIES</th>\n",
       "      <th>DAILY_STRESS</th>\n",
       "      <th>CORE_CIRCLE</th>\n",
       "      <th>SOCIAL_NETWORK</th>\n",
       "      <th>BMI_RANGE</th>\n",
       "      <th>DAILY_STEPS</th>\n",
       "      <th>SLEEP_HOURS</th>\n",
       "      <th>SUFFICIENT_INCOME</th>\n",
       "      <th>TIME_FOR_PASSION</th>\n",
       "      <th>WEEKLY_MEDITATION</th>\n",
       "      <th>AGE</th>\n",
       "      <th>GENDER</th>\n",
       "      <th>WORK_LIFE_BALANCE_SCORE</th>\n",
       "      <th>WORK_LIFE_BALANCE_SCORE_RAIZ</th>\n",
       "    </tr>\n",
       "  </thead>\n",
       "  <tbody>\n",
       "    <tr>\n",
       "      <th>0</th>\n",
       "      <td>3</td>\n",
       "      <td>2</td>\n",
       "      <td>5</td>\n",
       "      <td>5</td>\n",
       "      <td>1</td>\n",
       "      <td>5</td>\n",
       "      <td>7</td>\n",
       "      <td>1</td>\n",
       "      <td>0</td>\n",
       "      <td>5</td>\n",
       "      <td>36 to 50</td>\n",
       "      <td>Female</td>\n",
       "      <td>609.5</td>\n",
       "      <td>24.688054</td>\n",
       "    </tr>\n",
       "    <tr>\n",
       "      <th>1</th>\n",
       "      <td>2</td>\n",
       "      <td>3</td>\n",
       "      <td>3</td>\n",
       "      <td>10</td>\n",
       "      <td>2</td>\n",
       "      <td>5</td>\n",
       "      <td>8</td>\n",
       "      <td>2</td>\n",
       "      <td>2</td>\n",
       "      <td>6</td>\n",
       "      <td>36 to 50</td>\n",
       "      <td>Female</td>\n",
       "      <td>655.6</td>\n",
       "      <td>25.604687</td>\n",
       "    </tr>\n",
       "  </tbody>\n",
       "</table>\n",
       "</div>"
      ],
      "text/plain": [
       "   FRUITS_VEGGIES DAILY_STRESS  CORE_CIRCLE  SOCIAL_NETWORK  BMI_RANGE  \\\n",
       "0               3            2            5               5          1   \n",
       "1               2            3            3              10          2   \n",
       "\n",
       "   DAILY_STEPS  SLEEP_HOURS  SUFFICIENT_INCOME  TIME_FOR_PASSION  \\\n",
       "0            5            7                  1                 0   \n",
       "1            5            8                  2                 2   \n",
       "\n",
       "   WEEKLY_MEDITATION       AGE  GENDER  WORK_LIFE_BALANCE_SCORE  \\\n",
       "0                  5  36 to 50  Female                    609.5   \n",
       "1                  6  36 to 50  Female                    655.6   \n",
       "\n",
       "   WORK_LIFE_BALANCE_SCORE_RAIZ  \n",
       "0                     24.688054  \n",
       "1                     25.604687  "
      ]
     },
     "execution_count": 2,
     "metadata": {},
     "output_type": "execute_result"
    }
   ],
   "source": [
    "df = pd.read_csv(\"datos/wellness_5.csv\", index_col=0)\n",
    "df.head(2)"
   ]
  },
  {
   "cell_type": "code",
   "execution_count": 3,
   "metadata": {},
   "outputs": [],
   "source": [
    "df = df.drop([\"WORK_LIFE_BALANCE_SCORE\"],axis=1, inplace= True)"
   ]
  },
  {
   "cell_type": "code",
   "execution_count": null,
   "metadata": {},
   "outputs": [],
   "source": [
    "df['SCORE']"
   ]
  },
  {
   "cell_type": "code",
   "execution_count": 5,
   "metadata": {},
   "outputs": [],
   "source": [
    "lm = ols('WORK_LIFE_BALANCE_SCORE_RAIZ ~ FRUITS_VEGGIES + DAILY_STRESS + CORE_CIRCLE + SOCIAL_NETWORK + BMI_RANGE + DAILY_STEPS + SLEEP_HOURS +SUFFICIENT_INCOME + TIME_FOR_PASSION + WEEKLY_MEDITATION + AGE + GENDER' , data=df).fit()\n",
    "sm.stats.anova_lm(lm)\n",
    "#Dado que la finalidad de hacer una ANOVA es saber qué variables debemos descartar, no tendría sentido hacerla \n",
    "# multiplicando las variables entre sí por todas las interaciones que eso conllevaría."
   ]
  },
  {
   "attachments": {},
   "cell_type": "markdown",
   "metadata": {},
   "source": [
    "* df: son los grados de libertad, el número de observaciones en los datos que pueden variar libremente (en las variables numéricas siempre será 1)\n",
    "* sum_sq: es una medida de variación o desviación de la media. Se calcula como una suma de los cuadrados de las diferencias con respecto a la media\n",
    "* mean_sq: resultado de dividir la suma de cuadrados entre el nº de grados de libertad\n",
    "* PR(>F): es el p-valor. Si es <o = 0,05, rechazamos la H0 y concluimos que esa variable si influye en la variable respuesta\n",
    "Si p-valor  > 0, no contamos con evidencias suficientes para rechazar la H0. Diremos que esa variable no tiene efecto sobre el precio de las casas"
   ]
  },
  {
   "cell_type": "code",
   "execution_count": 12,
   "metadata": {},
   "outputs": [
    {
     "data": {
      "text/html": [
       "<table class=\"simpletable\">\n",
       "<caption>OLS Regression Results</caption>\n",
       "<tr>\n",
       "  <th>Dep. Variable:</th>    <td>WORK_LIFE_BALANCE_SCORE</td> <th>  R-squared:         </th>  <td>   1.000</td> \n",
       "</tr>\n",
       "<tr>\n",
       "  <th>Model:</th>                      <td>OLS</td>           <th>  Adj. R-squared:    </th>  <td>   1.000</td> \n",
       "</tr>\n",
       "<tr>\n",
       "  <th>Method:</th>                <td>Least Squares</td>      <th>  F-statistic:       </th>  <td>3.834e+30</td>\n",
       "</tr>\n",
       "<tr>\n",
       "  <th>Date:</th>                <td>Tue, 24 Jan 2023</td>     <th>  Prob (F-statistic):</th>   <td>  0.00</td>  \n",
       "</tr>\n",
       "<tr>\n",
       "  <th>Time:</th>                    <td>21:05:47</td>         <th>  Log-Likelihood:    </th> <td>3.8984e+05</td>\n",
       "</tr>\n",
       "<tr>\n",
       "  <th>No. Observations:</th>         <td> 14608</td>          <th>  AIC:               </th> <td>-7.796e+05</td>\n",
       "</tr>\n",
       "<tr>\n",
       "  <th>Df Residuals:</th>             <td> 14587</td>          <th>  BIC:               </th> <td>-7.795e+05</td>\n",
       "</tr>\n",
       "<tr>\n",
       "  <th>Df Model:</th>                 <td>    20</td>          <th>                     </th>      <td> </td>    \n",
       "</tr>\n",
       "<tr>\n",
       "  <th>Covariance Type:</th>         <td>nonrobust</td>        <th>                     </th>      <td> </td>    \n",
       "</tr>\n",
       "</table>\n",
       "<table class=\"simpletable\">\n",
       "<tr>\n",
       "             <td></td>                <th>coef</th>     <th>std err</th>      <th>t</th>      <th>P>|t|</th>  <th>[0.025</th>    <th>0.975]</th>  \n",
       "</tr>\n",
       "<tr>\n",
       "  <th>Intercept</th>               <td>-3.268e-13</td> <td> 9.05e-14</td> <td>   -3.612</td> <td> 0.000</td> <td>-5.04e-13</td> <td>-1.49e-13</td>\n",
       "</tr>\n",
       "<tr>\n",
       "  <th>DAILY_STRESS[T.1]</th>       <td> 1.485e-12</td> <td> 2.81e-14</td> <td>   52.828</td> <td> 0.000</td> <td> 1.43e-12</td> <td> 1.54e-12</td>\n",
       "</tr>\n",
       "<tr>\n",
       "  <th>DAILY_STRESS[T.1/1/00]</th>  <td>-4.945e-12</td> <td> 6.23e-13</td> <td>   -7.936</td> <td> 0.000</td> <td>-6.17e-12</td> <td>-3.72e-12</td>\n",
       "</tr>\n",
       "<tr>\n",
       "  <th>DAILY_STRESS[T.2]</th>       <td> 1.759e-13</td> <td> 2.74e-14</td> <td>    6.410</td> <td> 0.000</td> <td> 1.22e-13</td> <td>  2.3e-13</td>\n",
       "</tr>\n",
       "<tr>\n",
       "  <th>DAILY_STRESS[T.3]</th>       <td> 2.327e-13</td> <td> 2.71e-14</td> <td>    8.578</td> <td> 0.000</td> <td>  1.8e-13</td> <td> 2.86e-13</td>\n",
       "</tr>\n",
       "<tr>\n",
       "  <th>DAILY_STRESS[T.4]</th>       <td>  6.75e-14</td> <td> 2.82e-14</td> <td>    2.391</td> <td> 0.017</td> <td> 1.22e-14</td> <td> 1.23e-13</td>\n",
       "</tr>\n",
       "<tr>\n",
       "  <th>DAILY_STRESS[T.5]</th>       <td>-6.786e-13</td> <td> 2.99e-14</td> <td>  -22.730</td> <td> 0.000</td> <td>-7.37e-13</td> <td> -6.2e-13</td>\n",
       "</tr>\n",
       "<tr>\n",
       "  <th>AGE[T.36 to 50]</th>         <td> 2.176e-13</td> <td> 1.27e-14</td> <td>   17.069</td> <td> 0.000</td> <td> 1.93e-13</td> <td> 2.43e-13</td>\n",
       "</tr>\n",
       "<tr>\n",
       "  <th>AGE[T.51 or more]</th>       <td>  5.84e-14</td> <td> 1.41e-14</td> <td>    4.141</td> <td> 0.000</td> <td> 3.08e-14</td> <td>  8.6e-14</td>\n",
       "</tr>\n",
       "<tr>\n",
       "  <th>AGE[T.Less than 20]</th>     <td>-7.816e-14</td> <td> 1.73e-14</td> <td>   -4.515</td> <td> 0.000</td> <td>-1.12e-13</td> <td>-4.42e-14</td>\n",
       "</tr>\n",
       "<tr>\n",
       "  <th>GENDER[T.Male]</th>          <td> 3.908e-14</td> <td> 1.08e-14</td> <td>    3.624</td> <td> 0.000</td> <td> 1.79e-14</td> <td> 6.02e-14</td>\n",
       "</tr>\n",
       "<tr>\n",
       "  <th>FRUITS_VEGGIES</th>          <td> 1.055e-14</td> <td>  5.5e-15</td> <td>    1.917</td> <td> 0.055</td> <td>-2.36e-16</td> <td> 2.13e-14</td>\n",
       "</tr>\n",
       "<tr>\n",
       "  <th>CORE_CIRCLE</th>             <td> 5.329e-15</td> <td> 5.58e-15</td> <td>    0.955</td> <td> 0.340</td> <td>-5.61e-15</td> <td> 1.63e-14</td>\n",
       "</tr>\n",
       "<tr>\n",
       "  <th>SOCIAL_NETWORK</th>          <td>         0</td> <td>  5.6e-15</td> <td>        0</td> <td> 1.000</td> <td> -1.1e-14</td> <td>  1.1e-14</td>\n",
       "</tr>\n",
       "<tr>\n",
       "  <th>BMI_RANGE</th>               <td>-2.665e-14</td> <td> 5.24e-15</td> <td>   -5.082</td> <td> 0.000</td> <td>-3.69e-14</td> <td>-1.64e-14</td>\n",
       "</tr>\n",
       "<tr>\n",
       "  <th>DAILY_STEPS</th>             <td> 3.553e-15</td> <td> 5.51e-15</td> <td>    0.645</td> <td> 0.519</td> <td>-7.25e-15</td> <td> 1.44e-14</td>\n",
       "</tr>\n",
       "<tr>\n",
       "  <th>SLEEP_HOURS</th>             <td>-8.882e-15</td> <td> 5.26e-15</td> <td>   -1.688</td> <td> 0.091</td> <td>-1.92e-14</td> <td> 1.43e-15</td>\n",
       "</tr>\n",
       "<tr>\n",
       "  <th>SUFFICIENT_INCOME</th>       <td> 2.043e-14</td> <td> 5.25e-15</td> <td>    3.888</td> <td> 0.000</td> <td> 1.01e-14</td> <td> 3.07e-14</td>\n",
       "</tr>\n",
       "<tr>\n",
       "  <th>TIME_FOR_PASSION</th>        <td> 2.487e-14</td> <td> 5.47e-15</td> <td>    4.549</td> <td> 0.000</td> <td> 1.42e-14</td> <td> 3.56e-14</td>\n",
       "</tr>\n",
       "<tr>\n",
       "  <th>WEEKLY_MEDITATION</th>       <td>-1.421e-14</td> <td> 5.43e-15</td> <td>   -2.619</td> <td> 0.009</td> <td>-2.48e-14</td> <td>-3.57e-15</td>\n",
       "</tr>\n",
       "<tr>\n",
       "  <th>WORK_LIFE_BALANCE_SCORE</th> <td>    1.0000</td> <td> 1.24e-16</td> <td> 8.04e+15</td> <td> 0.000</td> <td>    1.000</td> <td>    1.000</td>\n",
       "</tr>\n",
       "</table>\n",
       "<table class=\"simpletable\">\n",
       "<tr>\n",
       "  <th>Omnibus:</th>       <td>1228.664</td> <th>  Durbin-Watson:     </th> <td>   1.865</td>\n",
       "</tr>\n",
       "<tr>\n",
       "  <th>Prob(Omnibus):</th>  <td> 0.000</td>  <th>  Jarque-Bera (JB):  </th> <td>1658.207</td>\n",
       "</tr>\n",
       "<tr>\n",
       "  <th>Skew:</th>           <td>-0.712</td>  <th>  Prob(JB):          </th> <td>    0.00</td>\n",
       "</tr>\n",
       "<tr>\n",
       "  <th>Kurtosis:</th>       <td> 3.833</td>  <th>  Cond. No.          </th> <td>8.09e+04</td>\n",
       "</tr>\n",
       "</table><br/><br/>Notes:<br/>[1] Standard Errors assume that the covariance matrix of the errors is correctly specified.<br/>[2] The condition number is large, 8.09e+04. This might indicate that there are<br/>strong multicollinearity or other numerical problems."
      ],
      "text/plain": [
       "<class 'statsmodels.iolib.summary.Summary'>\n",
       "\"\"\"\n",
       "                               OLS Regression Results                              \n",
       "===================================================================================\n",
       "Dep. Variable:     WORK_LIFE_BALANCE_SCORE   R-squared:                       1.000\n",
       "Model:                                 OLS   Adj. R-squared:                  1.000\n",
       "Method:                      Least Squares   F-statistic:                 3.834e+30\n",
       "Date:                     Tue, 24 Jan 2023   Prob (F-statistic):               0.00\n",
       "Time:                             21:05:47   Log-Likelihood:             3.8984e+05\n",
       "No. Observations:                    14608   AIC:                        -7.796e+05\n",
       "Df Residuals:                        14587   BIC:                        -7.795e+05\n",
       "Df Model:                               20                                         \n",
       "Covariance Type:                 nonrobust                                         \n",
       "===========================================================================================\n",
       "                              coef    std err          t      P>|t|      [0.025      0.975]\n",
       "-------------------------------------------------------------------------------------------\n",
       "Intercept               -3.268e-13   9.05e-14     -3.612      0.000   -5.04e-13   -1.49e-13\n",
       "DAILY_STRESS[T.1]        1.485e-12   2.81e-14     52.828      0.000    1.43e-12    1.54e-12\n",
       "DAILY_STRESS[T.1/1/00]  -4.945e-12   6.23e-13     -7.936      0.000   -6.17e-12   -3.72e-12\n",
       "DAILY_STRESS[T.2]        1.759e-13   2.74e-14      6.410      0.000    1.22e-13     2.3e-13\n",
       "DAILY_STRESS[T.3]        2.327e-13   2.71e-14      8.578      0.000     1.8e-13    2.86e-13\n",
       "DAILY_STRESS[T.4]         6.75e-14   2.82e-14      2.391      0.017    1.22e-14    1.23e-13\n",
       "DAILY_STRESS[T.5]       -6.786e-13   2.99e-14    -22.730      0.000   -7.37e-13    -6.2e-13\n",
       "AGE[T.36 to 50]          2.176e-13   1.27e-14     17.069      0.000    1.93e-13    2.43e-13\n",
       "AGE[T.51 or more]         5.84e-14   1.41e-14      4.141      0.000    3.08e-14     8.6e-14\n",
       "AGE[T.Less than 20]     -7.816e-14   1.73e-14     -4.515      0.000   -1.12e-13   -4.42e-14\n",
       "GENDER[T.Male]           3.908e-14   1.08e-14      3.624      0.000    1.79e-14    6.02e-14\n",
       "FRUITS_VEGGIES           1.055e-14    5.5e-15      1.917      0.055   -2.36e-16    2.13e-14\n",
       "CORE_CIRCLE              5.329e-15   5.58e-15      0.955      0.340   -5.61e-15    1.63e-14\n",
       "SOCIAL_NETWORK                   0    5.6e-15          0      1.000    -1.1e-14     1.1e-14\n",
       "BMI_RANGE               -2.665e-14   5.24e-15     -5.082      0.000   -3.69e-14   -1.64e-14\n",
       "DAILY_STEPS              3.553e-15   5.51e-15      0.645      0.519   -7.25e-15    1.44e-14\n",
       "SLEEP_HOURS             -8.882e-15   5.26e-15     -1.688      0.091   -1.92e-14    1.43e-15\n",
       "SUFFICIENT_INCOME        2.043e-14   5.25e-15      3.888      0.000    1.01e-14    3.07e-14\n",
       "TIME_FOR_PASSION         2.487e-14   5.47e-15      4.549      0.000    1.42e-14    3.56e-14\n",
       "WEEKLY_MEDITATION       -1.421e-14   5.43e-15     -2.619      0.009   -2.48e-14   -3.57e-15\n",
       "WORK_LIFE_BALANCE_SCORE     1.0000   1.24e-16   8.04e+15      0.000       1.000       1.000\n",
       "==============================================================================\n",
       "Omnibus:                     1228.664   Durbin-Watson:                   1.865\n",
       "Prob(Omnibus):                  0.000   Jarque-Bera (JB):             1658.207\n",
       "Skew:                          -0.712   Prob(JB):                         0.00\n",
       "Kurtosis:                       3.833   Cond. No.                     8.09e+04\n",
       "==============================================================================\n",
       "\n",
       "Notes:\n",
       "[1] Standard Errors assume that the covariance matrix of the errors is correctly specified.\n",
       "[2] The condition number is large, 8.09e+04. This might indicate that there are\n",
       "strong multicollinearity or other numerical problems.\n",
       "\"\"\""
      ]
     },
     "execution_count": 12,
     "metadata": {},
     "output_type": "execute_result"
    }
   ],
   "source": [
    "lm.summary()"
   ]
  },
  {
   "attachments": {},
   "cell_type": "markdown",
   "metadata": {},
   "source": [
    "Lo primero que tenemos que observar al hacer un summary es el p-valor, y podremos concluir que siempre que esté por debajo de 0,05; esa variable influye en los valores de nuestra variable respuesta. Cuando el valor sea mayor que 0,05, podremos descartar la variable por no ser importante en la tendencia de nuestra variable respuesta."
   ]
  },
  {
   "attachments": {},
   "cell_type": "markdown",
   "metadata": {},
   "source": [
    "### ¿¿¿???\n",
    "Según esto, para el modelo predictivo no incluiremos FRUITS_VEGGIES, CORE_CIRCLE, SOCIAL_NETWORK, DAILY_STEPS, SLEEP_HOURS."
   ]
  },
  {
   "attachments": {},
   "cell_type": "markdown",
   "metadata": {},
   "source": [
    "El coeficiente proporciona la tasa de cambio (más dificil de interpretar para las variables categóricas) pero lo que nos resulta de interés es el signo que presente. Por ejemplo, cuanto mayor es el tiempo dedicado a actividades que nos gustan, la ingesta de fruta y verdura, los pasos diarios o el círculo social, mayor es la sensación de bienestar. No siendo así en los casos de las horas de sueño, la meditación o el índice de masas corporal; el bienestar no aumenta al aumentar estas variables.\n",
    "\n",
    "También podríamos decir que la edad influye negativamente en el bienestar en el caso de los menores de 20 años, parecen presentar mayor bienestar con el paso de los años. "
   ]
  },
  {
   "cell_type": "code",
   "execution_count": null,
   "metadata": {},
   "outputs": [],
   "source": [
    "#df2.drop(columns=[\"FRUITS_VEGGIES\", \"CORE_CIRCLE\", \"SOCIAL_NETWORK\", \"DAILY_STEPS\", \"SLEEP_HOURS\"], axis = 1, inplace = True)"
   ]
  },
  {
   "cell_type": "code",
   "execution_count": null,
   "metadata": {},
   "outputs": [],
   "source": [
    "df2.head(2)"
   ]
  },
  {
   "cell_type": "code",
   "execution_count": null,
   "metadata": {},
   "outputs": [],
   "source": [
    "df2.to_csv(\"\".csv\")"
   ]
  }
 ],
 "metadata": {
  "kernelspec": {
   "display_name": "base",
   "language": "python",
   "name": "python3"
  },
  "language_info": {
   "codemirror_mode": {
    "name": "ipython",
    "version": 3
   },
   "file_extension": ".py",
   "mimetype": "text/x-python",
   "name": "python",
   "nbconvert_exporter": "python",
   "pygments_lexer": "ipython3",
   "version": "3.9.7"
  },
  "orig_nbformat": 4,
  "vscode": {
   "interpreter": {
    "hash": "0620710c65b0f5ccc651a2aa8870ae0eb4c70492424a8d7866846658189426a3"
   }
  }
 },
 "nbformat": 4,
 "nbformat_minor": 2
}
