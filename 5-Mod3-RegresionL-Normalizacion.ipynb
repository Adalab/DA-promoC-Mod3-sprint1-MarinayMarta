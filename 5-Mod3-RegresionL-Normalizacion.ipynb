{
 "cells": [
  {
   "attachments": {},
   "cell_type": "markdown",
   "metadata": {},
   "source": [
    "Pair Programming Normalización - 5"
   ]
  },
  {
   "cell_type": "code",
   "execution_count": 2,
   "metadata": {},
   "outputs": [],
   "source": [
    "# Tratamiento de datos\n",
    "# -----------------------------------------------------------------------\n",
    "import pandas as pd\n",
    "import numpy as np\n",
    "\n",
    "# Gráficos\n",
    "# ------------------------------------------------------------------------------\n",
    "import seaborn as sns\n",
    "import matplotlib.pyplot as plt\n",
    "\n",
    "# Transformación de los datos\n",
    "# ------------------------------------------------------------------------------\n",
    "from scipy import stats\n",
    "from scipy.stats import kstest\n",
    "import math \n",
    "from sklearn.preprocessing import MinMaxScaler\n",
    "\n",
    "# Para la gestión de los warning\n",
    "# ------------------------------------------------------------------------------\n",
    "import warnings\n",
    "warnings.filterwarnings('ignore')\n",
    "\n",
    "# Para poder ver todas las columnas del dataframe\n",
    "# ------------------------------------------------------------------------------\n",
    "pd.options.display.max_columns = None "
   ]
  },
  {
   "attachments": {},
   "cell_type": "markdown",
   "metadata": {},
   "source": [
    "En vuestro dataset habréis identificado unas variables predictoras y una variable respuesta. Los objetivos del pair programming de hoy son:\n",
    "- Sobre la variable respuesta, en pair programmings anterior identificastéis si seguía una distribución normal o no. En caso de que no siguiera una distribución normal, normalizarla. Podéis usar el método que prefiráis o el que mejor se ajuste\n",
    "- Guardar en un csv el nuevo dataframe que habéis creado para seguir usándolo en los siguientes pair programmings"
   ]
  },
  {
   "cell_type": "code",
   "execution_count": 3,
   "metadata": {},
   "outputs": [],
   "source": [
    "df = pd.read_csv('/mnt/d/Adalab/ejercicios-de-adalab/modulo-3/DA-promoC-Mod3-sprint1-MarinayMarta/wellness_1.csv', index_col = 0)"
   ]
  },
  {
   "cell_type": "code",
   "execution_count": 6,
   "metadata": {},
   "outputs": [],
   "source": [
    "# cambiamos el tipo de datos a 3 columnas:\n",
    "for col in['DAILY_STRESS', 'BMI_RANGE', 'SUFFICIENT_INCOME']:\n",
    "    df[col] = df[col].astype('category')"
   ]
  },
  {
   "cell_type": "code",
   "execution_count": 7,
   "metadata": {},
   "outputs": [],
   "source": [
    "df5 = df.copy()"
   ]
  },
  {
   "attachments": {},
   "cell_type": "markdown",
   "metadata": {},
   "source": [
    "Manualmente"
   ]
  },
  {
   "cell_type": "code",
   "execution_count": 8,
   "id": "3bcac918",
   "metadata": {},
   "outputs": [],
   "source": [
    "# vamos a crear distintas variables con los estadísticos que necesitamos\n",
    "\n",
    "media = df5['WORK_LIFE_BALANCE_SCORE'].mean()\n",
    "maximo = df5['WORK_LIFE_BALANCE_SCORE'].max() \n",
    "minimo = df5['WORK_LIFE_BALANCE_SCORE'].min()"
   ]
  },
  {
   "cell_type": "code",
   "execution_count": 9,
   "id": "e9ad730b",
   "metadata": {},
   "outputs": [],
   "source": [
    "# vamos a crearnos una columna nueva con el resultado de la normalización\n",
    "\n",
    "df5['WORK_LIFE_BALANCE_SCORE_normalizado'] = (df5['WORK_LIFE_BALANCE_SCORE'] - media) / (maximo - minimo )"
   ]
  },
  {
   "cell_type": "code",
   "execution_count": 10,
   "metadata": {},
   "outputs": [
    {
     "data": {
      "text/html": [
       "<div>\n",
       "<style scoped>\n",
       "    .dataframe tbody tr th:only-of-type {\n",
       "        vertical-align: middle;\n",
       "    }\n",
       "\n",
       "    .dataframe tbody tr th {\n",
       "        vertical-align: top;\n",
       "    }\n",
       "\n",
       "    .dataframe thead th {\n",
       "        text-align: right;\n",
       "    }\n",
       "</style>\n",
       "<table border=\"1\" class=\"dataframe\">\n",
       "  <thead>\n",
       "    <tr style=\"text-align: right;\">\n",
       "      <th></th>\n",
       "      <th>Timestamp</th>\n",
       "      <th>FRUITS_VEGGIES</th>\n",
       "      <th>DAILY_STRESS</th>\n",
       "      <th>CORE_CIRCLE</th>\n",
       "      <th>SOCIAL_NETWORK</th>\n",
       "      <th>BMI_RANGE</th>\n",
       "      <th>DAILY_STEPS</th>\n",
       "      <th>SLEEP_HOURS</th>\n",
       "      <th>SUFFICIENT_INCOME</th>\n",
       "      <th>TIME_FOR_PASSION</th>\n",
       "      <th>WEEKLY_MEDITATION</th>\n",
       "      <th>AGE</th>\n",
       "      <th>GENDER</th>\n",
       "      <th>WORK_LIFE_BALANCE_SCORE</th>\n",
       "      <th>WORK_LIFE_BALANCE_SCORE_normalizado</th>\n",
       "    </tr>\n",
       "  </thead>\n",
       "  <tbody>\n",
       "    <tr>\n",
       "      <th>0</th>\n",
       "      <td>7/7/15</td>\n",
       "      <td>3</td>\n",
       "      <td>2</td>\n",
       "      <td>5</td>\n",
       "      <td>5</td>\n",
       "      <td>1</td>\n",
       "      <td>5</td>\n",
       "      <td>7</td>\n",
       "      <td>1</td>\n",
       "      <td>0</td>\n",
       "      <td>5</td>\n",
       "      <td>36 to 50</td>\n",
       "      <td>Female</td>\n",
       "      <td>609.5</td>\n",
       "      <td>-0.168575</td>\n",
       "    </tr>\n",
       "    <tr>\n",
       "      <th>1</th>\n",
       "      <td>7/7/15</td>\n",
       "      <td>2</td>\n",
       "      <td>3</td>\n",
       "      <td>3</td>\n",
       "      <td>10</td>\n",
       "      <td>2</td>\n",
       "      <td>5</td>\n",
       "      <td>8</td>\n",
       "      <td>2</td>\n",
       "      <td>2</td>\n",
       "      <td>6</td>\n",
       "      <td>36 to 50</td>\n",
       "      <td>Female</td>\n",
       "      <td>655.6</td>\n",
       "      <td>-0.033067</td>\n",
       "    </tr>\n",
       "  </tbody>\n",
       "</table>\n",
       "</div>"
      ],
      "text/plain": [
       "  Timestamp  FRUITS_VEGGIES DAILY_STRESS  CORE_CIRCLE  SOCIAL_NETWORK  \\\n",
       "0    7/7/15               3            2            5               5   \n",
       "1    7/7/15               2            3            3              10   \n",
       "\n",
       "  BMI_RANGE  DAILY_STEPS  SLEEP_HOURS SUFFICIENT_INCOME  TIME_FOR_PASSION  \\\n",
       "0         1            5            7                 1                 0   \n",
       "1         2            5            8                 2                 2   \n",
       "\n",
       "   WEEKLY_MEDITATION       AGE  GENDER  WORK_LIFE_BALANCE_SCORE  \\\n",
       "0                  5  36 to 50  Female                    609.5   \n",
       "1                  6  36 to 50  Female                    655.6   \n",
       "\n",
       "   WORK_LIFE_BALANCE_SCORE_normalizado  \n",
       "0                            -0.168575  \n",
       "1                            -0.033067  "
      ]
     },
     "execution_count": 10,
     "metadata": {},
     "output_type": "execute_result"
    }
   ],
   "source": [
    "df5.head(2)"
   ]
  },
  {
   "cell_type": "code",
   "execution_count": 11,
   "id": "efe88521",
   "metadata": {},
   "outputs": [
    {
     "data": {
      "image/png": "[encoded data removed]",
      "text/plain": [
       "<Figure size 1080x360 with 2 Axes>"
      ]
     },
     "metadata": {
      "needs_background": "light"
     },
     "output_type": "display_data"
    }
   ],
   "source": [
    "fig, axes = plt.subplots(1, 2, figsize = (15,5))\n",
    "\n",
    "axes[0].set_title('WORK_LIFE_BALANCE_SCORE')\n",
    "axes[1].set_title('WORK_LIFE_BALANCE_SCORE_normalizado')\n",
    "\n",
    "sns.distplot(df5['WORK_LIFE_BALANCE_SCORE'] ,ax = axes[0], color = 'green')\n",
    "sns.distplot(df5['WORK_LIFE_BALANCE_SCORE_normalizado'], ax = axes[1]);"
   ]
  },
  {
   "cell_type": "code",
   "execution_count": 12,
   "metadata": {},
   "outputs": [
    {
     "data": {
      "text/plain": [
       "KstestResult(statistic=0.3789677316849219, pvalue=0.0)"
      ]
     },
     "execution_count": 12,
     "metadata": {},
     "output_type": "execute_result"
    }
   ],
   "source": [
    "kstest(df5['WORK_LIFE_BALANCE_SCORE_normalizado'], 'norm') # pvalor < 0.05 no normal"
   ]
  },
  {
   "attachments": {},
   "cell_type": "markdown",
   "metadata": {},
   "source": [
    "____________________________________________________________________"
   ]
  },
  {
   "attachments": {},
   "cell_type": "markdown",
   "metadata": {},
   "source": [
    " - RAIZ CUADRADA :\n",
    "    -  aplicar una raiz cuadrada a nuestros datos con el fin de hacer que la distribución de los datos sea más compacta al aplicar la raiz cuadrada de todos los elementos. OBS.: si se aplica sobre una serie de datos sesgados  a la izquierda, haremos que los datos sean aún más sesgados."
   ]
  },
  {
   "cell_type": "code",
   "execution_count": 7,
   "metadata": {},
   "outputs": [],
   "source": [
    "df5['WORK_LIFE_BALANCE_SCORE_RAIZ'] = df5['WORK_LIFE_BALANCE_SCORE'].apply(lambda x: math.sqrt(x))"
   ]
  },
  {
   "cell_type": "code",
   "execution_count": 12,
   "metadata": {},
   "outputs": [
    {
     "data": {
      "text/html": [
       "<div>\n",
       "<style scoped>\n",
       "    .dataframe tbody tr th:only-of-type {\n",
       "        vertical-align: middle;\n",
       "    }\n",
       "\n",
       "    .dataframe tbody tr th {\n",
       "        vertical-align: top;\n",
       "    }\n",
       "\n",
       "    .dataframe thead th {\n",
       "        text-align: right;\n",
       "    }\n",
       "</style>\n",
       "<table border=\"1\" class=\"dataframe\">\n",
       "  <thead>\n",
       "    <tr style=\"text-align: right;\">\n",
       "      <th></th>\n",
       "      <th>Timestamp</th>\n",
       "      <th>FRUITS_VEGGIES</th>\n",
       "      <th>DAILY_STRESS</th>\n",
       "      <th>CORE_CIRCLE</th>\n",
       "      <th>SOCIAL_NETWORK</th>\n",
       "      <th>BMI_RANGE</th>\n",
       "      <th>DAILY_STEPS</th>\n",
       "      <th>SLEEP_HOURS</th>\n",
       "      <th>SUFFICIENT_INCOME</th>\n",
       "      <th>TIME_FOR_PASSION</th>\n",
       "      <th>WEEKLY_MEDITATION</th>\n",
       "      <th>AGE</th>\n",
       "      <th>GENDER</th>\n",
       "      <th>WORK_LIFE_BALANCE_SCORE</th>\n",
       "      <th>WORK_LIFE_BALANCE_SCORE_RAIZ</th>\n",
       "    </tr>\n",
       "  </thead>\n",
       "  <tbody>\n",
       "    <tr>\n",
       "      <th>0</th>\n",
       "      <td>7/7/15</td>\n",
       "      <td>3</td>\n",
       "      <td>2</td>\n",
       "      <td>5</td>\n",
       "      <td>5</td>\n",
       "      <td>1</td>\n",
       "      <td>5</td>\n",
       "      <td>7</td>\n",
       "      <td>1</td>\n",
       "      <td>0</td>\n",
       "      <td>5</td>\n",
       "      <td>36 to 50</td>\n",
       "      <td>Female</td>\n",
       "      <td>609.5</td>\n",
       "      <td>24.688054</td>\n",
       "    </tr>\n",
       "    <tr>\n",
       "      <th>1</th>\n",
       "      <td>7/7/15</td>\n",
       "      <td>2</td>\n",
       "      <td>3</td>\n",
       "      <td>3</td>\n",
       "      <td>10</td>\n",
       "      <td>2</td>\n",
       "      <td>5</td>\n",
       "      <td>8</td>\n",
       "      <td>2</td>\n",
       "      <td>2</td>\n",
       "      <td>6</td>\n",
       "      <td>36 to 50</td>\n",
       "      <td>Female</td>\n",
       "      <td>655.6</td>\n",
       "      <td>25.604687</td>\n",
       "    </tr>\n",
       "  </tbody>\n",
       "</table>\n",
       "</div>"
      ],
      "text/plain": [
       "  Timestamp  FRUITS_VEGGIES DAILY_STRESS  CORE_CIRCLE  SOCIAL_NETWORK  \\\n",
       "0    7/7/15               3            2            5               5   \n",
       "1    7/7/15               2            3            3              10   \n",
       "\n",
       "  BMI_RANGE  DAILY_STEPS  SLEEP_HOURS SUFFICIENT_INCOME  TIME_FOR_PASSION  \\\n",
       "0         1            5            7                 1                 0   \n",
       "1         2            5            8                 2                 2   \n",
       "\n",
       "   WEEKLY_MEDITATION       AGE  GENDER  WORK_LIFE_BALANCE_SCORE  \\\n",
       "0                  5  36 to 50  Female                    609.5   \n",
       "1                  6  36 to 50  Female                    655.6   \n",
       "\n",
       "   WORK_LIFE_BALANCE_SCORE_RAIZ  \n",
       "0                     24.688054  \n",
       "1                     25.604687  "
      ]
     },
     "execution_count": 12,
     "metadata": {},
     "output_type": "execute_result"
    }
   ],
   "source": [
    "df5.head(2)"
   ]
  },
  {
   "cell_type": "code",
   "execution_count": 21,
   "metadata": {},
   "outputs": [
    {
     "data": {
      "image/png": "[encoded data removed]",
      "text/plain": [
       "<Figure size 1080x360 with 2 Axes>"
      ]
     },
     "metadata": {
      "needs_background": "light"
     },
     "output_type": "display_data"
    }
   ],
   "source": [
    "fig, axes = plt.subplots(1, 2, figsize = (15,5))\n",
    "\n",
    "axes[0].set_title('WORK_LIFE_BALANCE_SCORE')\n",
    "axes[1].set_title('WORK_LIFE_BALANCE_SCORE_normalizado')\n",
    "\n",
    "sns.distplot(df5['WORK_LIFE_BALANCE_SCORE'] ,ax = axes[0], color = 'green')\n",
    "sns.distplot(df5['WORK_LIFE_BALANCE_SCORE_RAIZ'], ax = axes[1]);"
   ]
  },
  {
   "cell_type": "code",
   "execution_count": 9,
   "metadata": {},
   "outputs": [
    {
     "data": {
      "text/plain": [
       "KstestResult(statistic=1.0, pvalue=0.0)"
      ]
     },
     "execution_count": 9,
     "metadata": {},
     "output_type": "execute_result"
    }
   ],
   "source": [
    "kstest(df5['WORK_LIFE_BALANCE_SCORE_RAIZ'], 'norm')"
   ]
  },
  {
   "attachments": {},
   "cell_type": "markdown",
   "metadata": {},
   "source": [
    "______________________________________________________________________________________"
   ]
  },
  {
   "attachments": {},
   "cell_type": "markdown",
   "metadata": {},
   "source": [
    "LOGARÍTMICA : implica la conversión de una columna a la escala lograrítimica. \n",
    "\n",
    " - Esta transformación no la podremos hacer si tenemos algún valor en nuestra variable que sea 0: aplicamos una *list comprehension* para evitar tener errores con los posibles valores 0 en nuestra columna. "
   ]
  },
  {
   "cell_type": "code",
   "execution_count": 10,
   "id": "de523d68",
   "metadata": {},
   "outputs": [],
   "source": [
    "df5['WORK_LIFE_BALANCE_SCORE_LOG'] = df5['WORK_LIFE_BALANCE_SCORE'].apply(lambda x: np.log(x) if x > 0 else 0)"
   ]
  },
  {
   "cell_type": "code",
   "execution_count": 11,
   "metadata": {},
   "outputs": [
    {
     "data": {
      "text/html": [
       "<div>\n",
       "<style scoped>\n",
       "    .dataframe tbody tr th:only-of-type {\n",
       "        vertical-align: middle;\n",
       "    }\n",
       "\n",
       "    .dataframe tbody tr th {\n",
       "        vertical-align: top;\n",
       "    }\n",
       "\n",
       "    .dataframe thead th {\n",
       "        text-align: right;\n",
       "    }\n",
       "</style>\n",
       "<table border=\"1\" class=\"dataframe\">\n",
       "  <thead>\n",
       "    <tr style=\"text-align: right;\">\n",
       "      <th></th>\n",
       "      <th>Timestamp</th>\n",
       "      <th>FRUITS_VEGGIES</th>\n",
       "      <th>DAILY_STRESS</th>\n",
       "      <th>CORE_CIRCLE</th>\n",
       "      <th>SOCIAL_NETWORK</th>\n",
       "      <th>BMI_RANGE</th>\n",
       "      <th>DAILY_STEPS</th>\n",
       "      <th>SLEEP_HOURS</th>\n",
       "      <th>SUFFICIENT_INCOME</th>\n",
       "      <th>TIME_FOR_PASSION</th>\n",
       "      <th>WEEKLY_MEDITATION</th>\n",
       "      <th>AGE</th>\n",
       "      <th>GENDER</th>\n",
       "      <th>WORK_LIFE_BALANCE_SCORE</th>\n",
       "      <th>WORK_LIFE_BALANCE_SCORE_RAIZ</th>\n",
       "      <th>WORK_LIFE_BALANCE_SCORE_LOG</th>\n",
       "    </tr>\n",
       "  </thead>\n",
       "  <tbody>\n",
       "    <tr>\n",
       "      <th>0</th>\n",
       "      <td>7/7/15</td>\n",
       "      <td>3</td>\n",
       "      <td>2</td>\n",
       "      <td>5</td>\n",
       "      <td>5</td>\n",
       "      <td>1</td>\n",
       "      <td>5</td>\n",
       "      <td>7</td>\n",
       "      <td>1</td>\n",
       "      <td>0</td>\n",
       "      <td>5</td>\n",
       "      <td>36 to 50</td>\n",
       "      <td>Female</td>\n",
       "      <td>609.5</td>\n",
       "      <td>24.688054</td>\n",
       "      <td>6.412639</td>\n",
       "    </tr>\n",
       "    <tr>\n",
       "      <th>1</th>\n",
       "      <td>7/7/15</td>\n",
       "      <td>2</td>\n",
       "      <td>3</td>\n",
       "      <td>3</td>\n",
       "      <td>10</td>\n",
       "      <td>2</td>\n",
       "      <td>5</td>\n",
       "      <td>8</td>\n",
       "      <td>2</td>\n",
       "      <td>2</td>\n",
       "      <td>6</td>\n",
       "      <td>36 to 50</td>\n",
       "      <td>Female</td>\n",
       "      <td>655.6</td>\n",
       "      <td>25.604687</td>\n",
       "      <td>6.485551</td>\n",
       "    </tr>\n",
       "  </tbody>\n",
       "</table>\n",
       "</div>"
      ],
      "text/plain": [
       "  Timestamp  FRUITS_VEGGIES DAILY_STRESS  CORE_CIRCLE  SOCIAL_NETWORK  \\\n",
       "0    7/7/15               3            2            5               5   \n",
       "1    7/7/15               2            3            3              10   \n",
       "\n",
       "  BMI_RANGE  DAILY_STEPS  SLEEP_HOURS SUFFICIENT_INCOME  TIME_FOR_PASSION  \\\n",
       "0         1            5            7                 1                 0   \n",
       "1         2            5            8                 2                 2   \n",
       "\n",
       "   WEEKLY_MEDITATION       AGE  GENDER  WORK_LIFE_BALANCE_SCORE  \\\n",
       "0                  5  36 to 50  Female                    609.5   \n",
       "1                  6  36 to 50  Female                    655.6   \n",
       "\n",
       "   WORK_LIFE_BALANCE_SCORE_RAIZ  WORK_LIFE_BALANCE_SCORE_LOG  \n",
       "0                     24.688054                     6.412639  \n",
       "1                     25.604687                     6.485551  "
      ]
     },
     "execution_count": 11,
     "metadata": {},
     "output_type": "execute_result"
    }
   ],
   "source": [
    "df5.head(2)"
   ]
  },
  {
   "cell_type": "code",
   "execution_count": 20,
   "metadata": {},
   "outputs": [
    {
     "data": {
      "image/png": "[encoded data removed]",
      "text/plain": [
       "<Figure size 1080x360 with 2 Axes>"
      ]
     },
     "metadata": {
      "needs_background": "light"
     },
     "output_type": "display_data"
    }
   ],
   "source": [
    "fig, axes = plt.subplots(1, 2, figsize = (15,5))\n",
    "\n",
    "axes[0].set_title('WORK_LIFE_BALANCE_SCORE')\n",
    "axes[1].set_title('WORK_LIFE_BALANCE_SCORE_NORMALIZADO')\n",
    "\n",
    "sns.distplot(df5['WORK_LIFE_BALANCE_SCORE'] ,ax = axes[0], color = 'green')\n",
    "sns.distplot(df5['WORK_LIFE_BALANCE_SCORE_LOG'], ax = axes[1]);"
   ]
  },
  {
   "cell_type": "code",
   "execution_count": 13,
   "metadata": {},
   "outputs": [
    {
     "data": {
      "text/plain": [
       "KstestResult(statistic=0.9999999996666313, pvalue=0.0)"
      ]
     },
     "execution_count": 13,
     "metadata": {},
     "output_type": "execute_result"
    }
   ],
   "source": [
    "kstest(df5['WORK_LIFE_BALANCE_SCORE_LOG'], 'norm')"
   ]
  },
  {
   "attachments": {},
   "cell_type": "markdown",
   "metadata": {},
   "source": [
    "---> vemos por los graficos que ha cambiado un poco pero seguimos con valores no normales, haciendo la prueba de Kolmogorov lo comprobamos con pvalor < 0.05. Seguiremos probando."
   ]
  },
  {
   "cell_type": "markdown",
   "metadata": {},
   "source": [
    "___________________________________________________________________________"
   ]
  },
  {
   "attachments": {},
   "cell_type": "markdown",
   "metadata": {},
   "source": [
    "- stats.boxcox():\n",
    "    - calcular el valor de lambda que varía de - 5 a 5. Se dice que un valor de lambda es el mejor si es capaz de aproximar la curva no normal a una curva normal. Lo que hará este método será, aplicar una logarítmica para los valores positivos y exponencial para valores negativos de nuestra columna (porque recordemos que no podemos hacer el logaritmo de un número negativo) \n"
   ]
  },
  {
   "cell_type": "code",
   "execution_count": 16,
   "id": "a5f87e41",
   "metadata": {
    "scrolled": true
   },
   "outputs": [],
   "source": [
    "# si lo aplicaramos solo a una columna lo haríamos de la siguiente forma: \n",
    "\n",
    "df5['WORK_LIFE_BALANCE_SCORE_BOX'], lambda_ajustada = stats.boxcox(df5['WORK_LIFE_BALANCE_SCORE'])\n"
   ]
  },
  {
   "cell_type": "code",
   "execution_count": 17,
   "metadata": {},
   "outputs": [
    {
     "data": {
      "text/plain": [
       "1.5149446504556376"
      ]
     },
     "execution_count": 17,
     "metadata": {},
     "output_type": "execute_result"
    }
   ],
   "source": [
    "lambda_ajustada         # operación por detrás : y=cada valor de variable : (y elevado al valor lambda menos 1)/valor lambda : en seguida realiza un test shapiro por todas las                     variables y nos devulve el 'mejor' valor para normalizar los datos."
   ]
  },
  {
   "cell_type": "code",
   "execution_count": 14,
   "metadata": {},
   "outputs": [
    {
     "data": {
      "text/html": [
       "<div>\n",
       "<style scoped>\n",
       "    .dataframe tbody tr th:only-of-type {\n",
       "        vertical-align: middle;\n",
       "    }\n",
       "\n",
       "    .dataframe tbody tr th {\n",
       "        vertical-align: top;\n",
       "    }\n",
       "\n",
       "    .dataframe thead th {\n",
       "        text-align: right;\n",
       "    }\n",
       "</style>\n",
       "<table border=\"1\" class=\"dataframe\">\n",
       "  <thead>\n",
       "    <tr style=\"text-align: right;\">\n",
       "      <th></th>\n",
       "      <th>Timestamp</th>\n",
       "      <th>FRUITS_VEGGIES</th>\n",
       "      <th>DAILY_STRESS</th>\n",
       "      <th>CORE_CIRCLE</th>\n",
       "      <th>SOCIAL_NETWORK</th>\n",
       "      <th>BMI_RANGE</th>\n",
       "      <th>DAILY_STEPS</th>\n",
       "      <th>SLEEP_HOURS</th>\n",
       "      <th>SUFFICIENT_INCOME</th>\n",
       "      <th>TIME_FOR_PASSION</th>\n",
       "      <th>WEEKLY_MEDITATION</th>\n",
       "      <th>AGE</th>\n",
       "      <th>GENDER</th>\n",
       "      <th>WORK_LIFE_BALANCE_SCORE</th>\n",
       "      <th>WORK_LIFE_BALANCE_SCORE_RAIZ</th>\n",
       "      <th>WORK_LIFE_BALANCE_SCORE_LOG</th>\n",
       "    </tr>\n",
       "  </thead>\n",
       "  <tbody>\n",
       "    <tr>\n",
       "      <th>0</th>\n",
       "      <td>7/7/15</td>\n",
       "      <td>3</td>\n",
       "      <td>2</td>\n",
       "      <td>5</td>\n",
       "      <td>5</td>\n",
       "      <td>1</td>\n",
       "      <td>5</td>\n",
       "      <td>7</td>\n",
       "      <td>1</td>\n",
       "      <td>0</td>\n",
       "      <td>5</td>\n",
       "      <td>36 to 50</td>\n",
       "      <td>Female</td>\n",
       "      <td>609.5</td>\n",
       "      <td>24.688054</td>\n",
       "      <td>6.412639</td>\n",
       "    </tr>\n",
       "    <tr>\n",
       "      <th>1</th>\n",
       "      <td>7/7/15</td>\n",
       "      <td>2</td>\n",
       "      <td>3</td>\n",
       "      <td>3</td>\n",
       "      <td>10</td>\n",
       "      <td>2</td>\n",
       "      <td>5</td>\n",
       "      <td>8</td>\n",
       "      <td>2</td>\n",
       "      <td>2</td>\n",
       "      <td>6</td>\n",
       "      <td>36 to 50</td>\n",
       "      <td>Female</td>\n",
       "      <td>655.6</td>\n",
       "      <td>25.604687</td>\n",
       "      <td>6.485551</td>\n",
       "    </tr>\n",
       "  </tbody>\n",
       "</table>\n",
       "</div>"
      ],
      "text/plain": [
       "  Timestamp  FRUITS_VEGGIES DAILY_STRESS  CORE_CIRCLE  SOCIAL_NETWORK  \\\n",
       "0    7/7/15               3            2            5               5   \n",
       "1    7/7/15               2            3            3              10   \n",
       "\n",
       "  BMI_RANGE  DAILY_STEPS  SLEEP_HOURS SUFFICIENT_INCOME  TIME_FOR_PASSION  \\\n",
       "0         1            5            7                 1                 0   \n",
       "1         2            5            8                 2                 2   \n",
       "\n",
       "   WEEKLY_MEDITATION       AGE  GENDER  WORK_LIFE_BALANCE_SCORE  \\\n",
       "0                  5  36 to 50  Female                    609.5   \n",
       "1                  6  36 to 50  Female                    655.6   \n",
       "\n",
       "   WORK_LIFE_BALANCE_SCORE_RAIZ  WORK_LIFE_BALANCE_SCORE_LOG  \n",
       "0                     24.688054                     6.412639  \n",
       "1                     25.604687                     6.485551  "
      ]
     },
     "execution_count": 14,
     "metadata": {},
     "output_type": "execute_result"
    }
   ],
   "source": [
    "df5.head(2)"
   ]
  },
  {
   "cell_type": "code",
   "execution_count": 19,
   "metadata": {},
   "outputs": [
    {
     "data": {
      "image/png": "[encoded data removed]",
      "text/plain": [
       "<Figure size 1080x360 with 2 Axes>"
      ]
     },
     "metadata": {
      "needs_background": "light"
     },
     "output_type": "display_data"
    }
   ],
   "source": [
    "# ahora chequeemos si nuestra variable tiene una distribución normal\n",
    "\n",
    "fig, axes = plt.subplots(1, 2, figsize = (15,5))\n",
    "\n",
    "axes[0].set_title('WORK_LIFE_BALANCE_SCORE')\n",
    "axes[1].set_title('WORK_LIFE_BALANCE_SCORE_NORMALIZADO')\n",
    "\n",
    "sns.distplot(df5['WORK_LIFE_BALANCE_SCORE'],ax = axes[0], color = 'green')\n",
    "sns.distplot(df5['WORK_LIFE_BALANCE_SCORE_BOX'], ax = axes[1]);"
   ]
  },
  {
   "cell_type": "code",
   "execution_count": 22,
   "metadata": {},
   "outputs": [
    {
     "data": {
      "text/plain": [
       "KstestResult(statistic=1.0, pvalue=0.0)"
      ]
     },
     "execution_count": 22,
     "metadata": {},
     "output_type": "execute_result"
    }
   ],
   "source": [
    "kstest(df5['WORK_LIFE_BALANCE_SCORE_BOX'], 'norm')"
   ]
  },
  {
   "attachments": {},
   "cell_type": "markdown",
   "metadata": {},
   "source": [
    "______________________________________________________________________________"
   ]
  },
  {
   "attachments": {},
   "cell_type": "markdown",
   "metadata": {},
   "source": [
    "- Sklearn MinMaxScaller:  MinMaxScaler(feature_range=(0, 1), copy=True, clip=False)\n",
    "    - transforma las variables escalando cada una de ellas a un rango determinado, por defecto lo hará entre 0-1 Este estimador escala y traduce cada variable individualmente de manera que se encuentre en el rango dado en el conjunto de entrenamiento, por ejemplo, entre cero y uno.\n"
   ]
  },
  {
   "cell_type": "code",
   "execution_count": 24,
   "metadata": {},
   "outputs": [],
   "source": [
    "numericas = df5.select_dtypes(include = np.number)"
   ]
  },
  {
   "cell_type": "code",
   "execution_count": 25,
   "metadata": {},
   "outputs": [],
   "source": [
    "minmax = MinMaxScaler()"
   ]
  },
  {
   "cell_type": "code",
   "execution_count": 26,
   "metadata": {},
   "outputs": [
    {
     "data": {
      "text/plain": [
       "MinMaxScaler()"
      ]
     },
     "execution_count": 26,
     "metadata": {},
     "output_type": "execute_result"
    }
   ],
   "source": [
    "# ajustamos el modelo utilizando nuestro set de datos\n",
    "minmax.fit(df5[['WORK_LIFE_BALANCE_SCORE']])"
   ]
  },
  {
   "cell_type": "code",
   "execution_count": 28,
   "metadata": {},
   "outputs": [],
   "source": [
    "# transformamos los datos\n",
    "X_normalizadas = minmax.transform(df5[['WORK_LIFE_BALANCE_SCORE']])"
   ]
  },
  {
   "cell_type": "code",
   "execution_count": 29,
   "metadata": {},
   "outputs": [
    {
     "data": {
      "text/plain": [
       "array([0.])"
      ]
     },
     "execution_count": 29,
     "metadata": {},
     "output_type": "execute_result"
    }
   ],
   "source": [
    "X_normalizadas.min(axis=0)"
   ]
  },
  {
   "cell_type": "code",
   "execution_count": 30,
   "metadata": {},
   "outputs": [
    {
     "data": {
      "text/plain": [
       "array([1.])"
      ]
     },
     "execution_count": 30,
     "metadata": {},
     "output_type": "execute_result"
    }
   ],
   "source": [
    "X_normalizadas.max(axis=0)"
   ]
  },
  {
   "cell_type": "code",
   "execution_count": 31,
   "metadata": {},
   "outputs": [
    {
     "data": {
      "text/html": [
       "<div>\n",
       "<style scoped>\n",
       "    .dataframe tbody tr th:only-of-type {\n",
       "        vertical-align: middle;\n",
       "    }\n",
       "\n",
       "    .dataframe tbody tr th {\n",
       "        vertical-align: top;\n",
       "    }\n",
       "\n",
       "    .dataframe thead th {\n",
       "        text-align: right;\n",
       "    }\n",
       "</style>\n",
       "<table border=\"1\" class=\"dataframe\">\n",
       "  <thead>\n",
       "    <tr style=\"text-align: right;\">\n",
       "      <th></th>\n",
       "      <th>WORK_LIFE_BALANCE_SCORE_Sklearn</th>\n",
       "    </tr>\n",
       "  </thead>\n",
       "  <tbody>\n",
       "    <tr>\n",
       "      <th>0</th>\n",
       "      <td>0.380658</td>\n",
       "    </tr>\n",
       "    <tr>\n",
       "      <th>1</th>\n",
       "      <td>0.516167</td>\n",
       "    </tr>\n",
       "  </tbody>\n",
       "</table>\n",
       "</div>"
      ],
      "text/plain": [
       "   WORK_LIFE_BALANCE_SCORE_Sklearn\n",
       "0                         0.380658\n",
       "1                         0.516167"
      ]
     },
     "execution_count": 31,
     "metadata": {},
     "output_type": "execute_result"
    }
   ],
   "source": [
    "# tenemos nuestras variables numéricas entre 0 y 1. Ahora convertimos el array que nos devuelve en un dataframe. \n",
    "\n",
    "numericas_minmax = pd.DataFrame(X_normalizadas, columns = ['WORK_LIFE_BALANCE_SCORE_Sklearn'])\n",
    "numericas_minmax.head(2)"
   ]
  },
  {
   "cell_type": "code",
   "execution_count": 34,
   "metadata": {},
   "outputs": [
    {
     "data": {
      "text/html": [
       "<div>\n",
       "<style scoped>\n",
       "    .dataframe tbody tr th:only-of-type {\n",
       "        vertical-align: middle;\n",
       "    }\n",
       "\n",
       "    .dataframe tbody tr th {\n",
       "        vertical-align: top;\n",
       "    }\n",
       "\n",
       "    .dataframe thead th {\n",
       "        text-align: right;\n",
       "    }\n",
       "</style>\n",
       "<table border=\"1\" class=\"dataframe\">\n",
       "  <thead>\n",
       "    <tr style=\"text-align: right;\">\n",
       "      <th></th>\n",
       "      <th>Timestamp</th>\n",
       "      <th>FRUITS_VEGGIES</th>\n",
       "      <th>DAILY_STRESS</th>\n",
       "      <th>CORE_CIRCLE</th>\n",
       "      <th>SOCIAL_NETWORK</th>\n",
       "      <th>BMI_RANGE</th>\n",
       "      <th>DAILY_STEPS</th>\n",
       "      <th>SLEEP_HOURS</th>\n",
       "      <th>SUFFICIENT_INCOME</th>\n",
       "      <th>TIME_FOR_PASSION</th>\n",
       "      <th>WEEKLY_MEDITATION</th>\n",
       "      <th>AGE</th>\n",
       "      <th>GENDER</th>\n",
       "      <th>WORK_LIFE_BALANCE_SCORE</th>\n",
       "      <th>WORK_LIFE_BALANCE_SCORE_RAIZ</th>\n",
       "      <th>WORK_LIFE_BALANCE_SCORE_LOG</th>\n",
       "      <th>WORK_LIFE_BALANCE_SCORE_BOX</th>\n",
       "      <th>WORK_LIFE_BALANCE_SCORE_Sklearn</th>\n",
       "    </tr>\n",
       "  </thead>\n",
       "  <tbody>\n",
       "    <tr>\n",
       "      <th>0</th>\n",
       "      <td>7/7/15</td>\n",
       "      <td>3</td>\n",
       "      <td>2</td>\n",
       "      <td>5</td>\n",
       "      <td>5</td>\n",
       "      <td>1</td>\n",
       "      <td>5</td>\n",
       "      <td>7</td>\n",
       "      <td>1</td>\n",
       "      <td>0</td>\n",
       "      <td>5</td>\n",
       "      <td>36 to 50</td>\n",
       "      <td>Female</td>\n",
       "      <td>609.5</td>\n",
       "      <td>24.688054</td>\n",
       "      <td>6.412639</td>\n",
       "      <td>10930.953142</td>\n",
       "      <td>0.380658</td>\n",
       "    </tr>\n",
       "    <tr>\n",
       "      <th>1</th>\n",
       "      <td>7/7/15</td>\n",
       "      <td>2</td>\n",
       "      <td>3</td>\n",
       "      <td>3</td>\n",
       "      <td>10</td>\n",
       "      <td>2</td>\n",
       "      <td>5</td>\n",
       "      <td>8</td>\n",
       "      <td>2</td>\n",
       "      <td>2</td>\n",
       "      <td>6</td>\n",
       "      <td>36 to 50</td>\n",
       "      <td>Female</td>\n",
       "      <td>655.6</td>\n",
       "      <td>25.604687</td>\n",
       "      <td>6.485551</td>\n",
       "      <td>12207.643933</td>\n",
       "      <td>0.516167</td>\n",
       "    </tr>\n",
       "    <tr>\n",
       "      <th>2</th>\n",
       "      <td>7/7/15</td>\n",
       "      <td>2</td>\n",
       "      <td>3</td>\n",
       "      <td>4</td>\n",
       "      <td>10</td>\n",
       "      <td>2</td>\n",
       "      <td>4</td>\n",
       "      <td>8</td>\n",
       "      <td>2</td>\n",
       "      <td>8</td>\n",
       "      <td>3</td>\n",
       "      <td>36 to 50</td>\n",
       "      <td>Female</td>\n",
       "      <td>631.6</td>\n",
       "      <td>25.131653</td>\n",
       "      <td>6.448256</td>\n",
       "      <td>11537.008093</td>\n",
       "      <td>0.445620</td>\n",
       "    </tr>\n",
       "  </tbody>\n",
       "</table>\n",
       "</div>"
      ],
      "text/plain": [
       "  Timestamp  FRUITS_VEGGIES DAILY_STRESS  CORE_CIRCLE  SOCIAL_NETWORK  \\\n",
       "0    7/7/15               3            2            5               5   \n",
       "1    7/7/15               2            3            3              10   \n",
       "2    7/7/15               2            3            4              10   \n",
       "\n",
       "  BMI_RANGE  DAILY_STEPS  SLEEP_HOURS SUFFICIENT_INCOME  TIME_FOR_PASSION  \\\n",
       "0         1            5            7                 1                 0   \n",
       "1         2            5            8                 2                 2   \n",
       "2         2            4            8                 2                 8   \n",
       "\n",
       "   WEEKLY_MEDITATION       AGE  GENDER  WORK_LIFE_BALANCE_SCORE  \\\n",
       "0                  5  36 to 50  Female                    609.5   \n",
       "1                  6  36 to 50  Female                    655.6   \n",
       "2                  3  36 to 50  Female                    631.6   \n",
       "\n",
       "   WORK_LIFE_BALANCE_SCORE_RAIZ  WORK_LIFE_BALANCE_SCORE_LOG  \\\n",
       "0                     24.688054                     6.412639   \n",
       "1                     25.604687                     6.485551   \n",
       "2                     25.131653                     6.448256   \n",
       "\n",
       "   WORK_LIFE_BALANCE_SCORE_BOX  WORK_LIFE_BALANCE_SCORE_Sklearn  \n",
       "0                 10930.953142                         0.380658  \n",
       "1                 12207.643933                         0.516167  \n",
       "2                 11537.008093                         0.445620  "
      ]
     },
     "execution_count": 34,
     "metadata": {},
     "output_type": "execute_result"
    }
   ],
   "source": [
    "# incorporamos la columna al dataframe \n",
    "\n",
    "df5['WORK_LIFE_BALANCE_SCORE_Sklearn'] = numericas_minmax\n",
    "df5.head(3)"
   ]
  },
  {
   "cell_type": "code",
   "execution_count": 35,
   "metadata": {},
   "outputs": [
    {
     "data": {
      "image/png": "[encoded data removed]",
      "text/plain": [
       "<Figure size 1080x360 with 2 Axes>"
      ]
     },
     "metadata": {
      "needs_background": "light"
     },
     "output_type": "display_data"
    }
   ],
   "source": [
    "# ahora chequeemos si nuestra variable tiene una distribución normal\n",
    "\n",
    "fig, axes = plt.subplots(1, 2, figsize = (15,5))\n",
    "\n",
    "axes[0].set_title('WORK_LIFE_BALANCE_SCORE')\n",
    "axes[1].set_title('WORK_LIFE_BALANCE_SCORE_NORMALIZADA')\n",
    "\n",
    "sns.distplot(df5['WORK_LIFE_BALANCE_SCORE'] ,ax = axes[0], color ='green')\n",
    "sns.distplot(df5['WORK_LIFE_BALANCE_SCORE_Sklearn'], ax = axes[1]);"
   ]
  },
  {
   "cell_type": "code",
   "execution_count": 36,
   "metadata": {},
   "outputs": [
    {
     "data": {
      "text/plain": [
       "KstestResult(statistic=0.5889974949934978, pvalue=0.0)"
      ]
     },
     "execution_count": 36,
     "metadata": {},
     "output_type": "execute_result"
    }
   ],
   "source": [
    "kstest(df5['WORK_LIFE_BALANCE_SCORE_Sklearn'], 'norm')"
   ]
  },
  {
   "attachments": {},
   "cell_type": "markdown",
   "metadata": {},
   "source": [
    "---> Los resultados han sido todos iguales => pvalor < 0.05 => no hemos logrado normalizar los datos."
   ]
  },
  {
   "attachments": {},
   "cell_type": "markdown",
   "metadata": {},
   "source": [
    "---> Podemos concluir que los resultados obtenidos de los intentos de normalización de datos no han sido satisfatórios => para todos pvalor < 0,05 => no normales. \n",
    "No hemos podido ver un resultado más aproximado del objectivo de normalizar los datos. \n"
   ]
  },
  {
   "cell_type": "code",
   "execution_count": 37,
   "metadata": {},
   "outputs": [
    {
     "data": {
      "text/plain": [
       "Index(['Timestamp', 'FRUITS_VEGGIES', 'DAILY_STRESS', 'CORE_CIRCLE',\n",
       "       'SOCIAL_NETWORK', 'BMI_RANGE', 'DAILY_STEPS', 'SLEEP_HOURS',\n",
       "       'SUFFICIENT_INCOME', 'TIME_FOR_PASSION', 'WEEKLY_MEDITATION', 'AGE',\n",
       "       'GENDER', 'WORK_LIFE_BALANCE_SCORE', 'WORK_LIFE_BALANCE_SCORE_RAIZ',\n",
       "       'WORK_LIFE_BALANCE_SCORE_LOG', 'WORK_LIFE_BALANCE_SCORE_BOX',\n",
       "       'WORK_LIFE_BALANCE_SCORE_Sklearn'],\n",
       "      dtype='object')"
      ]
     },
     "execution_count": 37,
     "metadata": {},
     "output_type": "execute_result"
    }
   ],
   "source": [
    "#  orramos las columnas creadas con la realización de los tests.\n",
    "df5.columns"
   ]
  },
  {
   "cell_type": "code",
   "execution_count": 39,
   "metadata": {},
   "outputs": [],
   "source": [
    "df5.drop(['WORK_LIFE_BALANCE_SCORE_RAIZ',\n",
    "       'WORK_LIFE_BALANCE_SCORE_LOG',\n",
    "       'WORK_LIFE_BALANCE_SCORE_BOX', 'WORK_LIFE_BALANCE_SCORE_Sklearn'], axis = 1, inplace = True)"
   ]
  },
  {
   "cell_type": "code",
   "execution_count": 40,
   "metadata": {},
   "outputs": [],
   "source": [
    "df5.to_csv('wellness_5.csv')"
   ]
  }
 ],
 "metadata": {
  "kernelspec": {
   "display_name": "base",
   "language": "python",
   "name": "python3"
  },
  "language_info": {
   "codemirror_mode": {
    "name": "ipython",
    "version": 3
   },
   "file_extension": ".py",
   "mimetype": "text/x-python",
   "name": "python",
   "nbconvert_exporter": "python",
   "pygments_lexer": "ipython3",
   "version": "3.9.7"
  },
  "orig_nbformat": 4,
  "vscode": {
   "interpreter": {
    "hash": "67102f693e510b408920f064fed8f652c879a90e6c1ff13ccd6f48ea2114128c"
   }
  }
 },
 "nbformat": 4,
 "nbformat_minor": 2
}
