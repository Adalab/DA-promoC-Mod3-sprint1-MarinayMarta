{
 "cells": [
  {
   "attachments": {},
   "cell_type": "markdown",
   "metadata": {},
   "source": [
    "Pair Programming Métricas Regresión Lineal - 10"
   ]
  },
  {
   "attachments": {},
   "cell_type": "markdown",
   "metadata": {},
   "source": [
    "En el pair programming anterior creastéis vuestro primer modelo de machine learning usando la regresion Lineal. Es el momento, que con vuestros datos evaluéis si es bueno haciendo predicciones. Los objetivo de este pairprogramming son:\n",
    " - Calculéis las métricas para vuestro modelo\n",
    " - Discutid los resultados de las métricas y extraed conclusiones\n",
    " - Guardad los resultados de las métricas en un csv para usarlo más adelante."
   ]
  },
  {
   "cell_type": "code",
   "execution_count": 18,
   "metadata": {},
   "outputs": [],
   "source": [
    "# Tratamiento de datos\n",
    "# -----------------------------------------------------------------------\n",
    "import numpy as np\n",
    "import pandas as pd\n",
    "\n",
    "# Gráficos\n",
    "# ------------------------------------------------------------------------\n",
    "import matplotlib.pyplot as plt\n",
    "import seaborn as sns\n",
    "\n",
    "\n",
    "#  Modelado y evaluación\n",
    "# -----------------------------------------------------------------------------\n",
    "from sklearn.model_selection import train_test_split\n",
    "from sklearn.linear_model import LinearRegression\n",
    "from sklearn.metrics import r2_score, mean_squared_error, mean_absolute_error"
   ]
  },
  {
   "cell_type": "code",
   "execution_count": 19,
   "metadata": {},
   "outputs": [],
   "source": [
    "df = pd.read_csv('/mnt/d/Adalab/ejercicios-de-adalab/modulo-3/DA-promoC-Mod3-sprint1-MarinayMarta/files/wellness_8.csv', index_col = 0)"
   ]
  },
  {
   "cell_type": "code",
   "execution_count": 36,
   "metadata": {},
   "outputs": [
    {
     "data": {
      "text/html": [
       "<div>\n",
       "<style scoped>\n",
       "    .dataframe tbody tr th:only-of-type {\n",
       "        vertical-align: middle;\n",
       "    }\n",
       "\n",
       "    .dataframe tbody tr th {\n",
       "        vertical-align: top;\n",
       "    }\n",
       "\n",
       "    .dataframe thead th {\n",
       "        text-align: right;\n",
       "    }\n",
       "</style>\n",
       "<table border=\"1\" class=\"dataframe\">\n",
       "  <thead>\n",
       "    <tr style=\"text-align: right;\">\n",
       "      <th></th>\n",
       "      <th>FRUITS_VEGGIES</th>\n",
       "      <th>DAILY_STRESS</th>\n",
       "      <th>CORE_CIRCLE</th>\n",
       "      <th>SOCIAL_NETWORK</th>\n",
       "      <th>BMI_RANGE</th>\n",
       "      <th>DAILY_STEPS</th>\n",
       "      <th>SLEEP_HOURS</th>\n",
       "      <th>SUFFICIENT_INCOME</th>\n",
       "      <th>TIME_FOR_PASSION</th>\n",
       "      <th>WEEKLY_MEDITATION</th>\n",
       "      <th>AGE</th>\n",
       "      <th>GENDER</th>\n",
       "      <th>WORK_LIFE_BALANCE_SCORE</th>\n",
       "      <th>WORK_LIFE_BALANCE_SCORE_RAIZ</th>\n",
       "      <th>AGE_le</th>\n",
       "      <th>owners_Female</th>\n",
       "      <th>owners_Male</th>\n",
       "    </tr>\n",
       "  </thead>\n",
       "  <tbody>\n",
       "    <tr>\n",
       "      <th>11582</th>\n",
       "      <td>5</td>\n",
       "      <td>3</td>\n",
       "      <td>8</td>\n",
       "      <td>7</td>\n",
       "      <td>2</td>\n",
       "      <td>7</td>\n",
       "      <td>9</td>\n",
       "      <td>1</td>\n",
       "      <td>8</td>\n",
       "      <td>7</td>\n",
       "      <td>2</td>\n",
       "      <td>Female</td>\n",
       "      <td>674.9</td>\n",
       "      <td>25.978838</td>\n",
       "      <td>1</td>\n",
       "      <td>1</td>\n",
       "      <td>0</td>\n",
       "    </tr>\n",
       "    <tr>\n",
       "      <th>4021</th>\n",
       "      <td>1</td>\n",
       "      <td>5</td>\n",
       "      <td>4</td>\n",
       "      <td>4</td>\n",
       "      <td>2</td>\n",
       "      <td>2</td>\n",
       "      <td>6</td>\n",
       "      <td>2</td>\n",
       "      <td>1</td>\n",
       "      <td>2</td>\n",
       "      <td>2</td>\n",
       "      <td>Male</td>\n",
       "      <td>586.6</td>\n",
       "      <td>24.219827</td>\n",
       "      <td>1</td>\n",
       "      <td>0</td>\n",
       "      <td>1</td>\n",
       "    </tr>\n",
       "    <tr>\n",
       "      <th>8230</th>\n",
       "      <td>1</td>\n",
       "      <td>0</td>\n",
       "      <td>3</td>\n",
       "      <td>10</td>\n",
       "      <td>2</td>\n",
       "      <td>3</td>\n",
       "      <td>7</td>\n",
       "      <td>1</td>\n",
       "      <td>2</td>\n",
       "      <td>7</td>\n",
       "      <td>1</td>\n",
       "      <td>Female</td>\n",
       "      <td>607.4</td>\n",
       "      <td>24.645486</td>\n",
       "      <td>0</td>\n",
       "      <td>1</td>\n",
       "      <td>0</td>\n",
       "    </tr>\n",
       "    <tr>\n",
       "      <th>6042</th>\n",
       "      <td>3</td>\n",
       "      <td>5</td>\n",
       "      <td>3</td>\n",
       "      <td>4</td>\n",
       "      <td>2</td>\n",
       "      <td>8</td>\n",
       "      <td>8</td>\n",
       "      <td>2</td>\n",
       "      <td>2</td>\n",
       "      <td>4</td>\n",
       "      <td>2</td>\n",
       "      <td>Female</td>\n",
       "      <td>625.6</td>\n",
       "      <td>25.011997</td>\n",
       "      <td>1</td>\n",
       "      <td>1</td>\n",
       "      <td>0</td>\n",
       "    </tr>\n",
       "    <tr>\n",
       "      <th>2466</th>\n",
       "      <td>1</td>\n",
       "      <td>5</td>\n",
       "      <td>3</td>\n",
       "      <td>3</td>\n",
       "      <td>1</td>\n",
       "      <td>8</td>\n",
       "      <td>7</td>\n",
       "      <td>1</td>\n",
       "      <td>1</td>\n",
       "      <td>10</td>\n",
       "      <td>0</td>\n",
       "      <td>Female</td>\n",
       "      <td>611.8</td>\n",
       "      <td>24.734591</td>\n",
       "      <td>3</td>\n",
       "      <td>1</td>\n",
       "      <td>0</td>\n",
       "    </tr>\n",
       "    <tr>\n",
       "      <th>7609</th>\n",
       "      <td>4</td>\n",
       "      <td>4</td>\n",
       "      <td>7</td>\n",
       "      <td>10</td>\n",
       "      <td>1</td>\n",
       "      <td>7</td>\n",
       "      <td>8</td>\n",
       "      <td>2</td>\n",
       "      <td>6</td>\n",
       "      <td>7</td>\n",
       "      <td>0</td>\n",
       "      <td>Female</td>\n",
       "      <td>708.7</td>\n",
       "      <td>26.621420</td>\n",
       "      <td>3</td>\n",
       "      <td>1</td>\n",
       "      <td>0</td>\n",
       "    </tr>\n",
       "  </tbody>\n",
       "</table>\n",
       "</div>"
      ],
      "text/plain": [
       "       FRUITS_VEGGIES  DAILY_STRESS  CORE_CIRCLE  SOCIAL_NETWORK  BMI_RANGE  \\\n",
       "11582               5             3            8               7          2   \n",
       "4021                1             5            4               4          2   \n",
       "8230                1             0            3              10          2   \n",
       "6042                3             5            3               4          2   \n",
       "2466                1             5            3               3          1   \n",
       "7609                4             4            7              10          1   \n",
       "\n",
       "       DAILY_STEPS  SLEEP_HOURS  SUFFICIENT_INCOME  TIME_FOR_PASSION  \\\n",
       "11582            7            9                  1                 8   \n",
       "4021             2            6                  2                 1   \n",
       "8230             3            7                  1                 2   \n",
       "6042             8            8                  2                 2   \n",
       "2466             8            7                  1                 1   \n",
       "7609             7            8                  2                 6   \n",
       "\n",
       "       WEEKLY_MEDITATION  AGE  GENDER  WORK_LIFE_BALANCE_SCORE  \\\n",
       "11582                  7    2  Female                    674.9   \n",
       "4021                   2    2    Male                    586.6   \n",
       "8230                   7    1  Female                    607.4   \n",
       "6042                   4    2  Female                    625.6   \n",
       "2466                  10    0  Female                    611.8   \n",
       "7609                   7    0  Female                    708.7   \n",
       "\n",
       "       WORK_LIFE_BALANCE_SCORE_RAIZ  AGE_le  owners_Female  owners_Male  \n",
       "11582                     25.978838       1              1            0  \n",
       "4021                      24.219827       1              0            1  \n",
       "8230                      24.645486       0              1            0  \n",
       "6042                      25.011997       1              1            0  \n",
       "2466                      24.734591       3              1            0  \n",
       "7609                      26.621420       3              1            0  "
      ]
     },
     "execution_count": 36,
     "metadata": {},
     "output_type": "execute_result"
    }
   ],
   "source": [
    "df.sample(6)"
   ]
  },
  {
   "cell_type": "code",
   "execution_count": 37,
   "metadata": {},
   "outputs": [],
   "source": [
    "df1 = df.copy()"
   ]
  },
  {
   "cell_type": "code",
   "execution_count": 35,
   "metadata": {},
   "outputs": [],
   "source": [
    "# cambiamos el tipo de datos a 3 columnas:\n",
    "# for col in['DAILY_STRESS', 'BMI_RANGE', 'SUFFICIENT_INCOME']:\n",
    "#     df1[col] = df[col].astype('category')"
   ]
  },
  {
   "cell_type": "code",
   "execution_count": 40,
   "metadata": {},
   "outputs": [
    {
     "data": {
      "text/html": [
       "<div>\n",
       "<style scoped>\n",
       "    .dataframe tbody tr th:only-of-type {\n",
       "        vertical-align: middle;\n",
       "    }\n",
       "\n",
       "    .dataframe tbody tr th {\n",
       "        vertical-align: top;\n",
       "    }\n",
       "\n",
       "    .dataframe thead th {\n",
       "        text-align: right;\n",
       "    }\n",
       "</style>\n",
       "<table border=\"1\" class=\"dataframe\">\n",
       "  <thead>\n",
       "    <tr style=\"text-align: right;\">\n",
       "      <th></th>\n",
       "      <th>FRUITS_VEGGIES</th>\n",
       "      <th>DAILY_STRESS</th>\n",
       "      <th>CORE_CIRCLE</th>\n",
       "      <th>SOCIAL_NETWORK</th>\n",
       "      <th>BMI_RANGE</th>\n",
       "      <th>DAILY_STEPS</th>\n",
       "      <th>SLEEP_HOURS</th>\n",
       "      <th>SUFFICIENT_INCOME</th>\n",
       "      <th>TIME_FOR_PASSION</th>\n",
       "      <th>WEEKLY_MEDITATION</th>\n",
       "      <th>AGE</th>\n",
       "      <th>GENDER</th>\n",
       "      <th>WORK_LIFE_BALANCE_SCORE</th>\n",
       "      <th>WORK_LIFE_BALANCE_SCORE_RAIZ</th>\n",
       "      <th>AGE_le</th>\n",
       "      <th>owners_Female</th>\n",
       "      <th>owners_Male</th>\n",
       "    </tr>\n",
       "  </thead>\n",
       "  <tbody>\n",
       "    <tr>\n",
       "      <th>5325</th>\n",
       "      <td>1</td>\n",
       "      <td>4</td>\n",
       "      <td>7</td>\n",
       "      <td>10</td>\n",
       "      <td>2</td>\n",
       "      <td>8</td>\n",
       "      <td>7</td>\n",
       "      <td>2</td>\n",
       "      <td>6</td>\n",
       "      <td>4</td>\n",
       "      <td>2</td>\n",
       "      <td>Male</td>\n",
       "      <td>707.0</td>\n",
       "      <td>26.589472</td>\n",
       "      <td>1</td>\n",
       "      <td>0</td>\n",
       "      <td>1</td>\n",
       "    </tr>\n",
       "    <tr>\n",
       "      <th>11721</th>\n",
       "      <td>3</td>\n",
       "      <td>1</td>\n",
       "      <td>10</td>\n",
       "      <td>6</td>\n",
       "      <td>1</td>\n",
       "      <td>10</td>\n",
       "      <td>6</td>\n",
       "      <td>1</td>\n",
       "      <td>5</td>\n",
       "      <td>10</td>\n",
       "      <td>3</td>\n",
       "      <td>Female</td>\n",
       "      <td>712.3</td>\n",
       "      <td>26.688949</td>\n",
       "      <td>2</td>\n",
       "      <td>1</td>\n",
       "      <td>0</td>\n",
       "    </tr>\n",
       "    <tr>\n",
       "      <th>2200</th>\n",
       "      <td>4</td>\n",
       "      <td>3</td>\n",
       "      <td>5</td>\n",
       "      <td>3</td>\n",
       "      <td>1</td>\n",
       "      <td>5</td>\n",
       "      <td>6</td>\n",
       "      <td>1</td>\n",
       "      <td>1</td>\n",
       "      <td>0</td>\n",
       "      <td>1</td>\n",
       "      <td>Male</td>\n",
       "      <td>643.3</td>\n",
       "      <td>25.363359</td>\n",
       "      <td>0</td>\n",
       "      <td>0</td>\n",
       "      <td>1</td>\n",
       "    </tr>\n",
       "  </tbody>\n",
       "</table>\n",
       "</div>"
      ],
      "text/plain": [
       "       FRUITS_VEGGIES  DAILY_STRESS  CORE_CIRCLE  SOCIAL_NETWORK  BMI_RANGE  \\\n",
       "5325                1             4            7              10          2   \n",
       "11721               3             1           10               6          1   \n",
       "2200                4             3            5               3          1   \n",
       "\n",
       "       DAILY_STEPS  SLEEP_HOURS  SUFFICIENT_INCOME  TIME_FOR_PASSION  \\\n",
       "5325             8            7                  2                 6   \n",
       "11721           10            6                  1                 5   \n",
       "2200             5            6                  1                 1   \n",
       "\n",
       "       WEEKLY_MEDITATION  AGE  GENDER  WORK_LIFE_BALANCE_SCORE  \\\n",
       "5325                   4    2    Male                    707.0   \n",
       "11721                 10    3  Female                    712.3   \n",
       "2200                   0    1    Male                    643.3   \n",
       "\n",
       "       WORK_LIFE_BALANCE_SCORE_RAIZ  AGE_le  owners_Female  owners_Male  \n",
       "5325                      26.589472       1              0            1  \n",
       "11721                     26.688949       2              1            0  \n",
       "2200                      25.363359       0              0            1  "
      ]
     },
     "execution_count": 40,
     "metadata": {},
     "output_type": "execute_result"
    }
   ],
   "source": [
    "df1.sample(3)"
   ]
  },
  {
   "cell_type": "code",
   "execution_count": 45,
   "metadata": {},
   "outputs": [],
   "source": [
    "df1.drop(['GENDER'], axis = 1, inplace = True)"
   ]
  },
  {
   "attachments": {},
   "cell_type": "markdown",
   "metadata": {},
   "source": [
    "# Creamos el modelo"
   ]
  },
  {
   "cell_type": "code",
   "execution_count": 46,
   "metadata": {},
   "outputs": [],
   "source": [
    "X = df1.drop('WORK_LIFE_BALANCE_SCORE_RAIZ', axis = 1)\n",
    "y = df['WORK_LIFE_BALANCE_SCORE_RAIZ']"
   ]
  },
  {
   "cell_type": "code",
   "execution_count": 47,
   "metadata": {},
   "outputs": [],
   "source": [
    "x_train, x_test, y_train, y_test = train_test_split(X, y, test_size = 0.2, random_state = 42)"
   ]
  },
  {
   "cell_type": "code",
   "execution_count": 48,
   "metadata": {},
   "outputs": [],
   "source": [
    "# iniciamos la regresión lineal. n_jobs hace referencia al número de nucleos que usaremos de nuestro ordenador. Al indicar -1 significa que los usaremos todos. \n",
    "\n",
    "lr = LinearRegression(n_jobs=-1)"
   ]
  },
  {
   "cell_type": "code",
   "execution_count": 49,
   "metadata": {},
   "outputs": [
    {
     "data": {
      "text/plain": [
       "LinearRegression(n_jobs=-1)"
      ]
     },
     "execution_count": 49,
     "metadata": {},
     "output_type": "execute_result"
    }
   ],
   "source": [
    "# fiteamos el modelo, lo que significa que le pasamos los datos de entrenamiento para que aprenda el algoritmo. Fijaros que para que aprenda, les paso solo los datos de entrenamiento\n",
    "\n",
    "lr.fit(x_train, y_train)"
   ]
  },
  {
   "cell_type": "code",
   "execution_count": 52,
   "metadata": {},
   "outputs": [],
   "source": [
    "# es el momento de hacer las predicciones => método predict() de sklearn \n",
    "\n",
    "y_predict_train = lr.predict(x_train) # hacemos las predicciones para los scores en el los datos de entrenamiento\n",
    "y_predict_test = lr.predict(x_test) # hacemos las predicciones para los scores que tenemos en los datos de test"
   ]
  },
  {
   "cell_type": "code",
   "execution_count": 51,
   "metadata": {},
   "outputs": [
    {
     "data": {
      "text/html": [
       "<div>\n",
       "<style scoped>\n",
       "    .dataframe tbody tr th:only-of-type {\n",
       "        vertical-align: middle;\n",
       "    }\n",
       "\n",
       "    .dataframe tbody tr th {\n",
       "        vertical-align: top;\n",
       "    }\n",
       "\n",
       "    .dataframe thead th {\n",
       "        text-align: right;\n",
       "    }\n",
       "</style>\n",
       "<table border=\"1\" class=\"dataframe\">\n",
       "  <thead>\n",
       "    <tr style=\"text-align: right;\">\n",
       "      <th></th>\n",
       "      <th>Real</th>\n",
       "      <th>Predicted</th>\n",
       "      <th>Set</th>\n",
       "    </tr>\n",
       "  </thead>\n",
       "  <tbody>\n",
       "    <tr>\n",
       "      <th>3271</th>\n",
       "      <td>25.930677</td>\n",
       "      <td>25.918079</td>\n",
       "      <td>Train</td>\n",
       "    </tr>\n",
       "    <tr>\n",
       "      <th>5715</th>\n",
       "      <td>25.752670</td>\n",
       "      <td>25.742190</td>\n",
       "      <td>Train</td>\n",
       "    </tr>\n",
       "    <tr>\n",
       "      <th>4074</th>\n",
       "      <td>27.325812</td>\n",
       "      <td>27.349858</td>\n",
       "      <td>Train</td>\n",
       "    </tr>\n",
       "    <tr>\n",
       "      <th>4447</th>\n",
       "      <td>26.166773</td>\n",
       "      <td>26.146121</td>\n",
       "      <td>Train</td>\n",
       "    </tr>\n",
       "    <tr>\n",
       "      <th>4298</th>\n",
       "      <td>25.579288</td>\n",
       "      <td>25.559192</td>\n",
       "      <td>Train</td>\n",
       "    </tr>\n",
       "  </tbody>\n",
       "</table>\n",
       "</div>"
      ],
      "text/plain": [
       "           Real  Predicted    Set\n",
       "3271  25.930677  25.918079  Train\n",
       "5715  25.752670  25.742190  Train\n",
       "4074  27.325812  27.349858  Train\n",
       "4447  26.166773  26.146121  Train\n",
       "4298  25.579288  25.559192  Train"
      ]
     },
     "execution_count": 51,
     "metadata": {},
     "output_type": "execute_result"
    }
   ],
   "source": [
    "train_df = pd.DataFrame({'Real': y_train, 'Predicted': y_predict_train, 'Set': ['Train']*len(y_train)})\n",
    "test_df  = pd.DataFrame({'Real': y_test,  'Predicted': y_predict_test,  'Set': ['Test']*len(y_test)})\n",
    "resultados = pd.concat([train_df,test_df], axis = 0)\n",
    "resultados.head()"
   ]
  },
  {
   "cell_type": "code",
   "execution_count": 53,
   "metadata": {},
   "outputs": [
    {
     "data": {
      "text/html": [
       "<div>\n",
       "<style scoped>\n",
       "    .dataframe tbody tr th:only-of-type {\n",
       "        vertical-align: middle;\n",
       "    }\n",
       "\n",
       "    .dataframe tbody tr th {\n",
       "        vertical-align: top;\n",
       "    }\n",
       "\n",
       "    .dataframe thead th {\n",
       "        text-align: right;\n",
       "    }\n",
       "</style>\n",
       "<table border=\"1\" class=\"dataframe\">\n",
       "  <thead>\n",
       "    <tr style=\"text-align: right;\">\n",
       "      <th></th>\n",
       "      <th>Real</th>\n",
       "      <th>Predicted</th>\n",
       "      <th>Set</th>\n",
       "      <th>residuos</th>\n",
       "    </tr>\n",
       "  </thead>\n",
       "  <tbody>\n",
       "    <tr>\n",
       "      <th>3271</th>\n",
       "      <td>25.930677</td>\n",
       "      <td>25.918079</td>\n",
       "      <td>Train</td>\n",
       "      <td>0.012598</td>\n",
       "    </tr>\n",
       "    <tr>\n",
       "      <th>5715</th>\n",
       "      <td>25.752670</td>\n",
       "      <td>25.742190</td>\n",
       "      <td>Train</td>\n",
       "      <td>0.010480</td>\n",
       "    </tr>\n",
       "    <tr>\n",
       "      <th>4074</th>\n",
       "      <td>27.325812</td>\n",
       "      <td>27.349858</td>\n",
       "      <td>Train</td>\n",
       "      <td>-0.024046</td>\n",
       "    </tr>\n",
       "    <tr>\n",
       "      <th>4447</th>\n",
       "      <td>26.166773</td>\n",
       "      <td>26.146121</td>\n",
       "      <td>Train</td>\n",
       "      <td>0.020652</td>\n",
       "    </tr>\n",
       "    <tr>\n",
       "      <th>4298</th>\n",
       "      <td>25.579288</td>\n",
       "      <td>25.559192</td>\n",
       "      <td>Train</td>\n",
       "      <td>0.020097</td>\n",
       "    </tr>\n",
       "  </tbody>\n",
       "</table>\n",
       "</div>"
      ],
      "text/plain": [
       "           Real  Predicted    Set  residuos\n",
       "3271  25.930677  25.918079  Train  0.012598\n",
       "5715  25.752670  25.742190  Train  0.010480\n",
       "4074  27.325812  27.349858  Train -0.024046\n",
       "4447  26.166773  26.146121  Train  0.020652\n",
       "4298  25.579288  25.559192  Train  0.020097"
      ]
     },
     "execution_count": 53,
     "metadata": {},
     "output_type": "execute_result"
    }
   ],
   "source": [
    "resultados['residuos'] = resultados['Real'] - resultados['Predicted']\n",
    "resultados.head()"
   ]
  },
  {
   "cell_type": "code",
   "execution_count": 54,
   "metadata": {},
   "outputs": [
    {
     "data": {
      "image/png": "[encoded data removed]",
      "text/plain": [
       "<Figure size 1440x1440 with 4 Axes>"
      ]
     },
     "metadata": {
      "needs_background": "light"
     },
     "output_type": "display_data"
    }
   ],
   "source": [
    "fig, ax = plt.subplots(2,2,figsize=(20,20))\n",
    "\n",
    "\n",
    "# ploteamos los reales vs los predichos\n",
    "sns.regplot(data = resultados[resultados['Set'] == \"Train\"], \n",
    "            x = \"Real\", \n",
    "            y = \"Predicted\", \n",
    "            ax = ax[0,0], \n",
    "            color = \"grey\",\n",
    "            line_kws = {\"color\": \"red\", \"alpha\": 0.7 })\n",
    "\n",
    "\n",
    "sns.regplot(data = resultados[resultados['Set'] == \"Test\"], \n",
    "            x = \"Real\",\n",
    "            y = \"Predicted\", \n",
    "            color = \"gray\",\n",
    "            line_kws = {\"color\": \"red\", \"alpha\": 0.7 }, \n",
    "            ax = ax[1,0])\n",
    "\n",
    "\n",
    "# ploteamos los residuos\n",
    "sns.histplot(resultados[resultados['Set'] == \"Train\"],\n",
    "             x=\"residuos\",\n",
    "             color =\"grey\",\n",
    "             kde=True, \n",
    "             ax = ax[0,1])\n",
    "\n",
    "\n",
    "sns.histplot(resultados[resultados['Set'] == \"Test\"],\n",
    "             x=\"residuos\",\n",
    "             color = \"grey\",\n",
    "             kde=True, \n",
    "             ax = ax[1,1])\n",
    "\n",
    "ax[0,0].set_title(\"Train reales vs predichos\", fontsize = 15, fontweight = \"bold\")\n",
    "ax[0,1].set_title(\"Train residuos\", fontsize = 15, fontweight = \"bold\")\n",
    "ax[1,0].set_title(\"Test reales vs predichos\", fontsize = 15, fontweight = \"bold\")\n",
    "ax[1,1].set_title(\"Test residuos\", fontsize = 15, fontweight = \"bold\");\n"
   ]
  },
  {
   "attachments": {},
   "cell_type": "markdown",
   "metadata": {},
   "source": [
    "=> Los valores residuales están muy cerca de 0 => overfitting"
   ]
  },
  {
   "attachments": {},
   "cell_type": "markdown",
   "metadata": {},
   "source": [
    "# Calculamos las métricas"
   ]
  },
  {
   "cell_type": "code",
   "execution_count": 55,
   "metadata": {},
   "outputs": [
    {
     "name": "stdout",
     "output_type": "stream",
     "text": [
      "Para el conjunto train:---------------\n",
      "El valor de r2 score es  0.9994570875626111\n",
      "El MAE es 0.0139790483706509\n",
      "El MSE es 0.00041733750926532386\n",
      "EL RMSE es  0.02042884013509636\n",
      "Para el conjunto test:---------------\n",
      "El valor de r2 score es  0.9994789143432231\n",
      "El MAE es 0.01373714395811567\n",
      "El MSE es 0.0003948336225129488\n",
      "EL RMSE es  0.01987042079355515\n"
     ]
    }
   ],
   "source": [
    "# Para el conjunto de entrenamiento las méticas han sido\n",
    "print('Para el conjunto train:---------------')\n",
    "print('El valor de r2 score es ',r2_score(y_train,y_predict_train))\n",
    "print('El MAE es',mean_absolute_error(y_train,y_predict_train))\n",
    "print('El MSE es',mean_squared_error(y_train,y_predict_train))\n",
    "print('EL RMSE es ',np.sqrt(mean_squared_error(y_train,y_predict_train)))\n",
    "\n",
    "\n",
    "# Para el conjunto de test las métricas han sido\n",
    "print('Para el conjunto test:---------------')\n",
    "print('El valor de r2 score es ',r2_score(y_test,y_predict_test))\n",
    "print('El MAE es',mean_absolute_error(y_test,y_predict_test))\n",
    "print('El MSE es',mean_squared_error(y_test,y_predict_test))\n",
    "print('EL RMSE es ',np.sqrt(mean_squared_error(y_test,y_predict_test)))"
   ]
  },
  {
   "cell_type": "code",
   "execution_count": 56,
   "metadata": {},
   "outputs": [
    {
     "data": {
      "text/html": [
       "<div>\n",
       "<style scoped>\n",
       "    .dataframe tbody tr th:only-of-type {\n",
       "        vertical-align: middle;\n",
       "    }\n",
       "\n",
       "    .dataframe tbody tr th {\n",
       "        vertical-align: top;\n",
       "    }\n",
       "\n",
       "    .dataframe thead th {\n",
       "        text-align: right;\n",
       "    }\n",
       "</style>\n",
       "<table border=\"1\" class=\"dataframe\">\n",
       "  <thead>\n",
       "    <tr style=\"text-align: right;\">\n",
       "      <th></th>\n",
       "      <th>MAE</th>\n",
       "      <th>MSE</th>\n",
       "      <th>RMSE</th>\n",
       "      <th>R2</th>\n",
       "      <th>set</th>\n",
       "      <th>modelo</th>\n",
       "    </tr>\n",
       "  </thead>\n",
       "  <tbody>\n",
       "    <tr>\n",
       "      <th>0</th>\n",
       "      <td>0.013737</td>\n",
       "      <td>0.000395</td>\n",
       "      <td>0.019870</td>\n",
       "      <td>0.999479</td>\n",
       "      <td>test</td>\n",
       "      <td>Linear Regresion</td>\n",
       "    </tr>\n",
       "    <tr>\n",
       "      <th>1</th>\n",
       "      <td>0.013979</td>\n",
       "      <td>0.000417</td>\n",
       "      <td>0.020429</td>\n",
       "      <td>0.999457</td>\n",
       "      <td>train</td>\n",
       "      <td>LinearRegression</td>\n",
       "    </tr>\n",
       "  </tbody>\n",
       "</table>\n",
       "</div>"
      ],
      "text/plain": [
       "        MAE       MSE      RMSE        R2    set            modelo\n",
       "0  0.013737  0.000395  0.019870  0.999479   test  Linear Regresion\n",
       "1  0.013979  0.000417  0.020429  0.999457  train  LinearRegression"
      ]
     },
     "execution_count": 56,
     "metadata": {},
     "output_type": "execute_result"
    }
   ],
   "source": [
    "# los resultados en un dataframe\n",
    "resultados_metricas = {'MAE': [mean_absolute_error(y_test, y_predict_test), mean_absolute_error(y_train, y_predict_train)],\n",
    "                'MSE': [mean_squared_error(y_test, y_predict_test), mean_squared_error(y_train, y_predict_train)],\n",
    "                'RMSE': [np.sqrt(mean_squared_error(y_test, y_predict_test)), np.sqrt(mean_squared_error(y_train, y_predict_train))],\n",
    "                'R2':  [r2_score(y_test, y_predict_test), r2_score(y_train, y_predict_train)],\n",
    "                 \"set\": [\"test\", \"train\"], \n",
    "                 \"modelo\": [\"Linear Regresion\", \"LinearRegression\"]}\n",
    "\n",
    "df_resultados = pd.DataFrame(resultados_metricas)\n",
    "\n",
    "df_resultados"
   ]
  },
  {
   "attachments": {},
   "cell_type": "markdown",
   "metadata": {},
   "source": [
    "- => R2 : train : el modelo explica 99% de la variación en el score (var. respuesta)\n",
    "- => MAE/MSE : train : muy cerca de 0 : modelo con pocos errores de prediccion\n",
    "- => RMSE : train : = 0.02 => en media nuestro modelo se equivoca en 0.02 decimales\n",
    "\n",
    "- => concluimos que nuestro modelo podrá no ser capaz de hacer buenas predicciones con nuevos datos.\n"
   ]
  },
  {
   "cell_type": "code",
   "execution_count": 59,
   "metadata": {},
   "outputs": [],
   "source": [
    "df_resultados.to_csv('wellness_resultados_10')"
   ]
  }
 ],
 "metadata": {
  "kernelspec": {
   "display_name": "base",
   "language": "python",
   "name": "python3"
  },
  "language_info": {
   "codemirror_mode": {
    "name": "ipython",
    "version": 3
   },
   "file_extension": ".py",
   "mimetype": "text/x-python",
   "name": "python",
   "nbconvert_exporter": "python",
   "pygments_lexer": "ipython3",
   "version": "3.9.7"
  },
  "orig_nbformat": 4,
  "vscode": {
   "interpreter": {
    "hash": "67102f693e510b408920f064fed8f652c879a90e6c1ff13ccd6f48ea2114128c"
   }
  }
 },
 "nbformat": 4,
 "nbformat_minor": 2
}
