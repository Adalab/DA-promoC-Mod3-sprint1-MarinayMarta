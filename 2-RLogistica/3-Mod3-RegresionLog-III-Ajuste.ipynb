{
 "cells": [
  {
   "attachments": {},
   "cell_type": "markdown",
   "metadata": {},
   "source": [
    "# Pair Programming Ajuste"
   ]
  },
  {
   "attachments": {},
   "cell_type": "markdown",
   "metadata": {},
   "source": [
    "Es el momento de realizar el ajuste de vuestro modelo, en este caso tendréis que usar el csv que guardastéis ayer después de todo el preprocesamiento. Los objetivos de esta lección son:\n",
    "\n",
    "* Realizar el ajuste o ajustes de los modelos.\n",
    "\n",
    "* Sacad la matriz de confusión de vuestro modelo e identificad cuáles son los verdaderos positivos, verdaderos negativos, falsos positivos y falsos negativos."
   ]
  },
  {
   "cell_type": "code",
   "execution_count": 1,
   "metadata": {},
   "outputs": [],
   "source": [
    "\n",
    "# Tratamiento de datos\n",
    "# -----------------------------------------------------------------------\n",
    "import numpy as np\n",
    "import pandas as pd\n",
    "\n",
    "# Gráficos\n",
    "# ------------------------------------------------------------------------------\n",
    "import matplotlib.pyplot as plt\n",
    "import seaborn as sns\n",
    "\n",
    "\n",
    "#  Modelado y matriz de confusión\n",
    "# ------------------------------------------------------------------------------\n",
    "from sklearn.model_selection import train_test_split\n",
    "from sklearn.linear_model import LogisticRegression\n",
    "from sklearn.metrics import confusion_matrix\n",
    "\n",
    "\n",
    "#  Gestión de warnings\n",
    "# ------------------------------------------------------------------------------\n",
    "import warnings\n",
    "warnings.filterwarnings(\"ignore\")"
   ]
  },
  {
   "attachments": {},
   "cell_type": "markdown",
   "metadata": {},
   "source": [
    "A. Realización del modelo con variables estandarizadas y balanceadas:"
   ]
  },
  {
   "cell_type": "code",
   "execution_count": 4,
   "metadata": {},
   "outputs": [
    {
     "data": {
      "text/html": [
       "<div>\n",
       "<style scoped>\n",
       "    .dataframe tbody tr th:only-of-type {\n",
       "        vertical-align: middle;\n",
       "    }\n",
       "\n",
       "    .dataframe tbody tr th {\n",
       "        vertical-align: top;\n",
       "    }\n",
       "\n",
       "    .dataframe thead th {\n",
       "        text-align: right;\n",
       "    }\n",
       "</style>\n",
       "<table border=\"1\" class=\"dataframe\">\n",
       "  <thead>\n",
       "    <tr style=\"text-align: right;\">\n",
       "      <th></th>\n",
       "      <th>Pregnancies</th>\n",
       "      <th>Glucose</th>\n",
       "      <th>BloodPressure</th>\n",
       "      <th>SkinThickness</th>\n",
       "      <th>Insulin</th>\n",
       "      <th>BMI</th>\n",
       "      <th>Age</th>\n",
       "      <th>Outcome</th>\n",
       "    </tr>\n",
       "  </thead>\n",
       "  <tbody>\n",
       "    <tr>\n",
       "      <th>0</th>\n",
       "      <td>-0.545371</td>\n",
       "      <td>0.274299</td>\n",
       "      <td>2.136852</td>\n",
       "      <td>-1.302720</td>\n",
       "      <td>-0.784632</td>\n",
       "      <td>-1.498343</td>\n",
       "      <td>-1.064466</td>\n",
       "      <td>0</td>\n",
       "    </tr>\n",
       "    <tr>\n",
       "      <th>1</th>\n",
       "      <td>2.208174</td>\n",
       "      <td>-0.350322</td>\n",
       "      <td>1.059601</td>\n",
       "      <td>1.246946</td>\n",
       "      <td>-0.784632</td>\n",
       "      <td>2.279140</td>\n",
       "      <td>1.107837</td>\n",
       "      <td>1</td>\n",
       "    </tr>\n",
       "  </tbody>\n",
       "</table>\n",
       "</div>"
      ],
      "text/plain": [
       "   Pregnancies   Glucose  BloodPressure  SkinThickness   Insulin       BMI  \\\n",
       "0    -0.545371  0.274299       2.136852      -1.302720 -0.784632 -1.498343   \n",
       "1     2.208174 -0.350322       1.059601       1.246946 -0.784632  2.279140   \n",
       "\n",
       "        Age  Outcome  \n",
       "0 -1.064466        0  \n",
       "1  1.107837        1  "
      ]
     },
     "execution_count": 4,
     "metadata": {},
     "output_type": "execute_result"
    }
   ],
   "source": [
    "df_est_balan = pd.read_csv(\"datos/diabetes_est_balanc.csv\", index_col=0)\n",
    "df_est_balan.head(2)"
   ]
  },
  {
   "cell_type": "code",
   "execution_count": 5,
   "metadata": {},
   "outputs": [],
   "source": [
    "# separamos los datos:\n",
    "X1 = df_est_balan.drop(\"Outcome\", axis = 1)\n",
    "y1 = df_est_balan[\"Outcome\"]"
   ]
  },
  {
   "cell_type": "code",
   "execution_count": 7,
   "metadata": {},
   "outputs": [
    {
     "data": {
      "text/html": [
       "<div>\n",
       "<style scoped>\n",
       "    .dataframe tbody tr th:only-of-type {\n",
       "        vertical-align: middle;\n",
       "    }\n",
       "\n",
       "    .dataframe tbody tr th {\n",
       "        vertical-align: top;\n",
       "    }\n",
       "\n",
       "    .dataframe thead th {\n",
       "        text-align: right;\n",
       "    }\n",
       "</style>\n",
       "<table border=\"1\" class=\"dataframe\">\n",
       "  <thead>\n",
       "    <tr style=\"text-align: right;\">\n",
       "      <th></th>\n",
       "      <th>Pregnancies</th>\n",
       "      <th>Glucose</th>\n",
       "      <th>BloodPressure</th>\n",
       "      <th>SkinThickness</th>\n",
       "      <th>Insulin</th>\n",
       "      <th>BMI</th>\n",
       "      <th>Age</th>\n",
       "    </tr>\n",
       "  </thead>\n",
       "  <tbody>\n",
       "    <tr>\n",
       "      <th>0</th>\n",
       "      <td>-0.545371</td>\n",
       "      <td>0.274299</td>\n",
       "      <td>2.136852</td>\n",
       "      <td>-1.302720</td>\n",
       "      <td>-0.784632</td>\n",
       "      <td>-1.498343</td>\n",
       "      <td>-1.064466</td>\n",
       "    </tr>\n",
       "    <tr>\n",
       "      <th>1</th>\n",
       "      <td>2.208174</td>\n",
       "      <td>-0.350322</td>\n",
       "      <td>1.059601</td>\n",
       "      <td>1.246946</td>\n",
       "      <td>-0.784632</td>\n",
       "      <td>2.279140</td>\n",
       "      <td>1.107837</td>\n",
       "    </tr>\n",
       "    <tr>\n",
       "      <th>2</th>\n",
       "      <td>-0.545371</td>\n",
       "      <td>-0.547570</td>\n",
       "      <td>0.700517</td>\n",
       "      <td>1.565654</td>\n",
       "      <td>1.676763</td>\n",
       "      <td>0.234304</td>\n",
       "      <td>-0.340365</td>\n",
       "    </tr>\n",
       "    <tr>\n",
       "      <th>3</th>\n",
       "      <td>-0.545371</td>\n",
       "      <td>-1.270815</td>\n",
       "      <td>-0.556276</td>\n",
       "      <td>0.163338</td>\n",
       "      <td>-0.140287</td>\n",
       "      <td>0.000163</td>\n",
       "      <td>-0.973953</td>\n",
       "    </tr>\n",
       "    <tr>\n",
       "      <th>4</th>\n",
       "      <td>1.290326</td>\n",
       "      <td>-1.237941</td>\n",
       "      <td>0.161892</td>\n",
       "      <td>0.673271</td>\n",
       "      <td>-0.784632</td>\n",
       "      <td>0.952338</td>\n",
       "      <td>0.564761</td>\n",
       "    </tr>\n",
       "  </tbody>\n",
       "</table>\n",
       "</div>"
      ],
      "text/plain": [
       "   Pregnancies   Glucose  BloodPressure  SkinThickness   Insulin       BMI  \\\n",
       "0    -0.545371  0.274299       2.136852      -1.302720 -0.784632 -1.498343   \n",
       "1     2.208174 -0.350322       1.059601       1.246946 -0.784632  2.279140   \n",
       "2    -0.545371 -0.547570       0.700517       1.565654  1.676763  0.234304   \n",
       "3    -0.545371 -1.270815      -0.556276       0.163338 -0.140287  0.000163   \n",
       "4     1.290326 -1.237941       0.161892       0.673271 -0.784632  0.952338   \n",
       "\n",
       "        Age  \n",
       "0 -1.064466  \n",
       "1  1.107837  \n",
       "2 -0.340365  \n",
       "3 -0.973953  \n",
       "4  0.564761  "
      ]
     },
     "execution_count": 7,
     "metadata": {},
     "output_type": "execute_result"
    }
   ],
   "source": [
    "X1.head() # Comprobamos que X contiene todas nuestras variables predictoras:"
   ]
  },
  {
   "cell_type": "code",
   "execution_count": 8,
   "metadata": {},
   "outputs": [
    {
     "data": {
      "text/plain": [
       "0    0\n",
       "1    1\n",
       "2    1\n",
       "3    0\n",
       "4    0\n",
       "Name: Outcome, dtype: int64"
      ]
     },
     "execution_count": 8,
     "metadata": {},
     "output_type": "execute_result"
    }
   ],
   "source": [
    "y1.head() # el y contiene nuestra variable respuesta:"
   ]
  },
  {
   "cell_type": "code",
   "execution_count": 9,
   "metadata": {},
   "outputs": [],
   "source": [
    "# Hacemos el Train-Test split\n",
    "x_train1, x_test1, y_train1, y_test1 = train_test_split(X1, y1, test_size = 0.2, random_state = 42)"
   ]
  },
  {
   "attachments": {},
   "cell_type": "markdown",
   "metadata": {},
   "source": [
    "## Ajuste y predicción del modelo:"
   ]
  },
  {
   "cell_type": "code",
   "execution_count": 10,
   "metadata": {},
   "outputs": [],
   "source": [
    "\n",
    "# definimos la regresión logistica\n",
    "\n",
    "log_reg_esta = LogisticRegression(n_jobs=-1, max_iter = 1000)\n",
    "\n",
    "# ajustamos el modelo\n",
    "log_reg_esta.fit(x_train1,y_train1)\n",
    "\n",
    "# obtenemos las predicciones para el conjunto de entrenamiento\n",
    "y_pred_train_esta = log_reg_esta.predict(x_train1)\n",
    "\n",
    "# obtenemos las predicciones para el conjunto de test\n",
    "y_pred_test_esta = log_reg_esta.predict(x_test1)"
   ]
  },
  {
   "cell_type": "code",
   "execution_count": 11,
   "metadata": {},
   "outputs": [
    {
     "data": {
      "text/html": [
       "<div>\n",
       "<style scoped>\n",
       "    .dataframe tbody tr th:only-of-type {\n",
       "        vertical-align: middle;\n",
       "    }\n",
       "\n",
       "    .dataframe tbody tr th {\n",
       "        vertical-align: top;\n",
       "    }\n",
       "\n",
       "    .dataframe thead th {\n",
       "        text-align: right;\n",
       "    }\n",
       "</style>\n",
       "<table border=\"1\" class=\"dataframe\">\n",
       "  <thead>\n",
       "    <tr style=\"text-align: right;\">\n",
       "      <th></th>\n",
       "      <th>Real</th>\n",
       "      <th>Predicted</th>\n",
       "      <th>Set</th>\n",
       "    </tr>\n",
       "  </thead>\n",
       "  <tbody>\n",
       "    <tr>\n",
       "      <th>487</th>\n",
       "      <td>0</td>\n",
       "      <td>0</td>\n",
       "      <td>Train</td>\n",
       "    </tr>\n",
       "    <tr>\n",
       "      <th>421</th>\n",
       "      <td>0</td>\n",
       "      <td>0</td>\n",
       "      <td>Train</td>\n",
       "    </tr>\n",
       "    <tr>\n",
       "      <th>104</th>\n",
       "      <td>0</td>\n",
       "      <td>0</td>\n",
       "      <td>Train</td>\n",
       "    </tr>\n",
       "    <tr>\n",
       "      <th>114</th>\n",
       "      <td>0</td>\n",
       "      <td>0</td>\n",
       "      <td>Train</td>\n",
       "    </tr>\n",
       "    <tr>\n",
       "      <th>349</th>\n",
       "      <td>1</td>\n",
       "      <td>0</td>\n",
       "      <td>Train</td>\n",
       "    </tr>\n",
       "  </tbody>\n",
       "</table>\n",
       "</div>"
      ],
      "text/plain": [
       "     Real  Predicted    Set\n",
       "487     0          0  Train\n",
       "421     0          0  Train\n",
       "104     0          0  Train\n",
       "114     0          0  Train\n",
       "349     1          0  Train"
      ]
     },
     "execution_count": 11,
     "metadata": {},
     "output_type": "execute_result"
    }
   ],
   "source": [
    "train_df_esta = pd.DataFrame({'Real': y_train1, 'Predicted': y_pred_train_esta, 'Set': ['Train']*len(y_train1)})\n",
    "test_df_esta  = pd.DataFrame({'Real': y_test1,  'Predicted': y_pred_test_esta,  'Set': ['Test']*len(y_test1)})\n",
    "resultados = pd.concat([train_df_esta,test_df_esta], axis = 0)\n",
    "resultados.head()"
   ]
  },
  {
   "attachments": {},
   "cell_type": "markdown",
   "metadata": {},
   "source": [
    "Matriz de confusión:"
   ]
  },
  {
   "cell_type": "code",
   "execution_count": 12,
   "metadata": {},
   "outputs": [
    {
     "data": {
      "image/png": "[encoded data removed]",
      "text/plain": [
       "<Figure size 864x576 with 2 Axes>"
      ]
     },
     "metadata": {
      "needs_background": "light"
     },
     "output_type": "display_data"
    }
   ],
   "source": [
    "mat_lr1 = confusion_matrix(y_test1, y_pred_test_esta)\n",
    "\n",
    "plt.figure(figsize = (12, 8))\n",
    "sns.heatmap(mat_lr1, square=True, annot=True, fmt=\"d\", cmap = \"viridis\")\n",
    "\n",
    "plt.xlabel('valor predicho')\n",
    "plt.ylabel('valor real')\n",
    "plt.show()"
   ]
  },
  {
   "attachments": {},
   "cell_type": "markdown",
   "metadata": {},
   "source": [
    "Interpretación Matriz de Confusión:\n",
    "Recordemos que en nuestro dataframe la variable respuesta \"Outcome\" se divide en: 1 = Sí, 0 = No.\n",
    "\n",
    "* Nuestro modelo ha predicho que 45 es el número de mujeres sin diabetes, con diagnostico negativo (Verdadero Positivo).\n",
    "\n",
    "* En nuestro caso el valor 55, refiere a mujeres con diabetes que han tenido un diagnóstico positivo (Verdadero Negativo).\n",
    "\n",
    "* El modelo ha predicho que 19 personas no tienen diabetes cuando en realidad sí lo tienen (Falso Positivo).\n",
    "\n",
    "* El modelo ha predicho que 8 mujeres sí tienen diabetes cuando en realidad no lo tienen (Falso Negativo).\n",
    "\n"
   ]
  },
  {
   "attachments": {},
   "cell_type": "markdown",
   "metadata": {},
   "source": [
    "B. Realización del modelo con variables estandarizadas sin balancear:"
   ]
  },
  {
   "cell_type": "code",
   "execution_count": 40,
   "metadata": {},
   "outputs": [
    {
     "data": {
      "text/html": [
       "<div>\n",
       "<style scoped>\n",
       "    .dataframe tbody tr th:only-of-type {\n",
       "        vertical-align: middle;\n",
       "    }\n",
       "\n",
       "    .dataframe tbody tr th {\n",
       "        vertical-align: top;\n",
       "    }\n",
       "\n",
       "    .dataframe thead th {\n",
       "        text-align: right;\n",
       "    }\n",
       "</style>\n",
       "<table border=\"1\" class=\"dataframe\">\n",
       "  <thead>\n",
       "    <tr style=\"text-align: right;\">\n",
       "      <th></th>\n",
       "      <th>Outcome</th>\n",
       "      <th>Pregnancies</th>\n",
       "      <th>Glucose</th>\n",
       "      <th>BloodPressure</th>\n",
       "      <th>SkinThickness</th>\n",
       "      <th>Insulin</th>\n",
       "      <th>BMI</th>\n",
       "      <th>Age</th>\n",
       "      <th>Pregnancies.1</th>\n",
       "      <th>Glucose.1</th>\n",
       "      <th>BloodPressure.1</th>\n",
       "      <th>SkinThickness.1</th>\n",
       "      <th>Insulin.1</th>\n",
       "      <th>BMI.1</th>\n",
       "      <th>Age.1</th>\n",
       "    </tr>\n",
       "  </thead>\n",
       "  <tbody>\n",
       "    <tr>\n",
       "      <th>0</th>\n",
       "      <td>1</td>\n",
       "      <td>0.678427</td>\n",
       "      <td>0.866045</td>\n",
       "      <td>-0.017650</td>\n",
       "      <td>0.928238</td>\n",
       "      <td>-0.784632</td>\n",
       "      <td>0.218695</td>\n",
       "      <td>1.56040</td>\n",
       "      <td>0.678427</td>\n",
       "      <td>0.866045</td>\n",
       "      <td>-0.017650</td>\n",
       "      <td>0.928238</td>\n",
       "      <td>-0.784632</td>\n",
       "      <td>0.218695</td>\n",
       "      <td>1.56040</td>\n",
       "    </tr>\n",
       "    <tr>\n",
       "      <th>1</th>\n",
       "      <td>0</td>\n",
       "      <td>-0.851320</td>\n",
       "      <td>-1.205066</td>\n",
       "      <td>-0.556276</td>\n",
       "      <td>0.545788</td>\n",
       "      <td>-0.784632</td>\n",
       "      <td>-0.873966</td>\n",
       "      <td>-0.15934</td>\n",
       "      <td>-0.851320</td>\n",
       "      <td>-1.205066</td>\n",
       "      <td>-0.556276</td>\n",
       "      <td>0.545788</td>\n",
       "      <td>-0.784632</td>\n",
       "      <td>-0.873966</td>\n",
       "      <td>-0.15934</td>\n",
       "    </tr>\n",
       "  </tbody>\n",
       "</table>\n",
       "</div>"
      ],
      "text/plain": [
       "   Outcome  Pregnancies   Glucose  BloodPressure  SkinThickness   Insulin  \\\n",
       "0        1     0.678427  0.866045      -0.017650       0.928238 -0.784632   \n",
       "1        0    -0.851320 -1.205066      -0.556276       0.545788 -0.784632   \n",
       "\n",
       "        BMI      Age  Pregnancies.1  Glucose.1  BloodPressure.1  \\\n",
       "0  0.218695  1.56040       0.678427   0.866045        -0.017650   \n",
       "1 -0.873966 -0.15934      -0.851320  -1.205066        -0.556276   \n",
       "\n",
       "   SkinThickness.1  Insulin.1     BMI.1    Age.1  \n",
       "0         0.928238  -0.784632  0.218695  1.56040  \n",
       "1         0.545788  -0.784632 -0.873966 -0.15934  "
      ]
     },
     "execution_count": 40,
     "metadata": {},
     "output_type": "execute_result"
    }
   ],
   "source": [
    "df_estand = pd.read_csv(\"datos/diabetes_estand.csv\", index_col=0)\n",
    "df_estand.head(2)"
   ]
  },
  {
   "cell_type": "code",
   "execution_count": 41,
   "metadata": {},
   "outputs": [],
   "source": [
    "X2 = df_estand.drop(\"Outcome\", axis = 1)\n",
    "y2 = df_estand[\"Outcome\"]"
   ]
  },
  {
   "cell_type": "code",
   "execution_count": 42,
   "metadata": {},
   "outputs": [
    {
     "data": {
      "text/html": [
       "<div>\n",
       "<style scoped>\n",
       "    .dataframe tbody tr th:only-of-type {\n",
       "        vertical-align: middle;\n",
       "    }\n",
       "\n",
       "    .dataframe tbody tr th {\n",
       "        vertical-align: top;\n",
       "    }\n",
       "\n",
       "    .dataframe thead th {\n",
       "        text-align: right;\n",
       "    }\n",
       "</style>\n",
       "<table border=\"1\" class=\"dataframe\">\n",
       "  <thead>\n",
       "    <tr style=\"text-align: right;\">\n",
       "      <th></th>\n",
       "      <th>Pregnancies</th>\n",
       "      <th>Glucose</th>\n",
       "      <th>BloodPressure</th>\n",
       "      <th>SkinThickness</th>\n",
       "      <th>Insulin</th>\n",
       "      <th>BMI</th>\n",
       "      <th>Age</th>\n",
       "      <th>Pregnancies.1</th>\n",
       "      <th>Glucose.1</th>\n",
       "      <th>BloodPressure.1</th>\n",
       "      <th>SkinThickness.1</th>\n",
       "      <th>Insulin.1</th>\n",
       "      <th>BMI.1</th>\n",
       "      <th>Age.1</th>\n",
       "    </tr>\n",
       "  </thead>\n",
       "  <tbody>\n",
       "    <tr>\n",
       "      <th>0</th>\n",
       "      <td>0.678427</td>\n",
       "      <td>0.866045</td>\n",
       "      <td>-0.017650</td>\n",
       "      <td>0.928238</td>\n",
       "      <td>-0.784632</td>\n",
       "      <td>0.218695</td>\n",
       "      <td>1.56040</td>\n",
       "      <td>0.678427</td>\n",
       "      <td>0.866045</td>\n",
       "      <td>-0.017650</td>\n",
       "      <td>0.928238</td>\n",
       "      <td>-0.784632</td>\n",
       "      <td>0.218695</td>\n",
       "      <td>1.56040</td>\n",
       "    </tr>\n",
       "    <tr>\n",
       "      <th>1</th>\n",
       "      <td>-0.851320</td>\n",
       "      <td>-1.205066</td>\n",
       "      <td>-0.556276</td>\n",
       "      <td>0.545788</td>\n",
       "      <td>-0.784632</td>\n",
       "      <td>-0.873966</td>\n",
       "      <td>-0.15934</td>\n",
       "      <td>-0.851320</td>\n",
       "      <td>-1.205066</td>\n",
       "      <td>-0.556276</td>\n",
       "      <td>0.545788</td>\n",
       "      <td>-0.784632</td>\n",
       "      <td>-0.873966</td>\n",
       "      <td>-0.15934</td>\n",
       "    </tr>\n",
       "  </tbody>\n",
       "</table>\n",
       "</div>"
      ],
      "text/plain": [
       "   Pregnancies   Glucose  BloodPressure  SkinThickness   Insulin       BMI  \\\n",
       "0     0.678427  0.866045      -0.017650       0.928238 -0.784632  0.218695   \n",
       "1    -0.851320 -1.205066      -0.556276       0.545788 -0.784632 -0.873966   \n",
       "\n",
       "       Age  Pregnancies.1  Glucose.1  BloodPressure.1  SkinThickness.1  \\\n",
       "0  1.56040       0.678427   0.866045        -0.017650         0.928238   \n",
       "1 -0.15934      -0.851320  -1.205066        -0.556276         0.545788   \n",
       "\n",
       "   Insulin.1     BMI.1    Age.1  \n",
       "0  -0.784632  0.218695  1.56040  \n",
       "1  -0.784632 -0.873966 -0.15934  "
      ]
     },
     "execution_count": 42,
     "metadata": {},
     "output_type": "execute_result"
    }
   ],
   "source": [
    "X2.head(2)"
   ]
  },
  {
   "cell_type": "code",
   "execution_count": 43,
   "metadata": {},
   "outputs": [
    {
     "data": {
      "text/plain": [
       "0    1\n",
       "1    0\n",
       "Name: Outcome, dtype: int64"
      ]
     },
     "execution_count": 43,
     "metadata": {},
     "output_type": "execute_result"
    }
   ],
   "source": [
    "y2.head(2)"
   ]
  },
  {
   "attachments": {},
   "cell_type": "markdown",
   "metadata": {},
   "source": [
    "Train test split"
   ]
  },
  {
   "cell_type": "code",
   "execution_count": 44,
   "metadata": {},
   "outputs": [],
   "source": [
    "x_train2, x_test2, y_train2, y_test2 = train_test_split(X2, y2, test_size = 0.2, random_state = 42)"
   ]
  },
  {
   "attachments": {},
   "cell_type": "markdown",
   "metadata": {},
   "source": [
    "Ajuste y predicción del modelo:"
   ]
  },
  {
   "cell_type": "code",
   "execution_count": 45,
   "metadata": {},
   "outputs": [],
   "source": [
    "# definimos la regresión logistica\n",
    "\n",
    "log_reg = LogisticRegression(n_jobs=-1, max_iter = 1000)\n",
    "\n",
    "# ajustamos el modelo\n",
    "log_reg.fit(x_train2,y_train2)\n",
    "\n",
    "# obtenemos las predicciones para el conjunto de entrenamiento\n",
    "y_pred_train = log_reg.predict(x_train2)\n",
    "\n",
    "# obtenemos las predicciones para el conjunto de test\n",
    "y_pred_test = log_reg.predict(x_test2)"
   ]
  },
  {
   "cell_type": "code",
   "execution_count": 46,
   "metadata": {},
   "outputs": [
    {
     "data": {
      "text/html": [
       "<div>\n",
       "<style scoped>\n",
       "    .dataframe tbody tr th:only-of-type {\n",
       "        vertical-align: middle;\n",
       "    }\n",
       "\n",
       "    .dataframe tbody tr th {\n",
       "        vertical-align: top;\n",
       "    }\n",
       "\n",
       "    .dataframe thead th {\n",
       "        text-align: right;\n",
       "    }\n",
       "</style>\n",
       "<table border=\"1\" class=\"dataframe\">\n",
       "  <thead>\n",
       "    <tr style=\"text-align: right;\">\n",
       "      <th></th>\n",
       "      <th>Real</th>\n",
       "      <th>Predicted</th>\n",
       "      <th>Set</th>\n",
       "    </tr>\n",
       "  </thead>\n",
       "  <tbody>\n",
       "    <tr>\n",
       "      <th>60</th>\n",
       "      <td>0</td>\n",
       "      <td>0</td>\n",
       "      <td>Train</td>\n",
       "    </tr>\n",
       "    <tr>\n",
       "      <th>618</th>\n",
       "      <td>1</td>\n",
       "      <td>0</td>\n",
       "      <td>Train</td>\n",
       "    </tr>\n",
       "    <tr>\n",
       "      <th>346</th>\n",
       "      <td>0</td>\n",
       "      <td>0</td>\n",
       "      <td>Train</td>\n",
       "    </tr>\n",
       "    <tr>\n",
       "      <th>294</th>\n",
       "      <td>0</td>\n",
       "      <td>1</td>\n",
       "      <td>Train</td>\n",
       "    </tr>\n",
       "    <tr>\n",
       "      <th>231</th>\n",
       "      <td>1</td>\n",
       "      <td>1</td>\n",
       "      <td>Train</td>\n",
       "    </tr>\n",
       "  </tbody>\n",
       "</table>\n",
       "</div>"
      ],
      "text/plain": [
       "     Real  Predicted    Set\n",
       "60      0          0  Train\n",
       "618     1          0  Train\n",
       "346     0          0  Train\n",
       "294     0          1  Train\n",
       "231     1          1  Train"
      ]
     },
     "execution_count": 46,
     "metadata": {},
     "output_type": "execute_result"
    }
   ],
   "source": [
    "train_df = pd.DataFrame({'Real': y_train2, 'Predicted': y_pred_train, 'Set': ['Train']*len(y_train2)})\n",
    "test_df  = pd.DataFrame({'Real': y_test2,  'Predicted': y_pred_test,  'Set': ['Test']*len(y_test2)})\n",
    "resultados2 = pd.concat([train_df,test_df], axis = 0)\n",
    "resultados2.head()"
   ]
  },
  {
   "attachments": {},
   "cell_type": "markdown",
   "metadata": {},
   "source": [
    "Matriz de confusión para datos estandarizados no balanceados:"
   ]
  },
  {
   "cell_type": "code",
   "execution_count": 47,
   "metadata": {},
   "outputs": [
    {
     "data": {
      "image/png": "[encoded data removed]",
      "text/plain": [
       "<Figure size 864x576 with 2 Axes>"
      ]
     },
     "metadata": {
      "needs_background": "light"
     },
     "output_type": "display_data"
    }
   ],
   "source": [
    "\n",
    "mat_lr2 = confusion_matrix(y_test2, y_pred_test)\n",
    "\n",
    "plt.figure(figsize = (12, 8))\n",
    "sns.heatmap(mat_lr2, square=True, annot=True, fmt=\"d\", cmap = \"viridis\")\n",
    "\n",
    "plt.xlabel('valor predicho')\n",
    "plt.ylabel('valor real')\n",
    "plt.show()"
   ]
  },
  {
   "attachments": {},
   "cell_type": "markdown",
   "metadata": {},
   "source": [
    "Interpretación de la matriz de confusión:\n",
    "\n",
    "Según esta matriz de confusión, podemos ver como el modelo predice peor cuando utilizamos los datos sin balancear, dado que los falsos negativos (FN) y los falsos positivo (FP) son más elevados que en el modelo anterior.\n",
    "\n",
    "* El nº75 corresponde en nuestro caso a mujeres sin diabetes cuyo diagnóstico ha sido que no la tienen (Verdadero Positivo).\n",
    "\n",
    "* El valor 34 indica que el modelo ha predicho que sí la tienen y en realidad tienen diabetes (Verdadero Negativo).\n",
    "\n",
    "* En el caso del valor 21, nuestro modelo ha predicho que no tienen diabetes cuando en realidad sí la tienen (Falso Positivo).\n",
    "\n",
    "* El 24 indica que el modelo ha predicho que sí tienen diabetes cuando en realidad no la tienen (Falso Negativo)."
   ]
  }
 ],
 "metadata": {
  "kernelspec": {
   "display_name": "base",
   "language": "python",
   "name": "python3"
  },
  "language_info": {
   "codemirror_mode": {
    "name": "ipython",
    "version": 3
   },
   "file_extension": ".py",
   "mimetype": "text/x-python",
   "name": "python",
   "nbconvert_exporter": "python",
   "pygments_lexer": "ipython3",
   "version": "3.9.7"
  },
  "orig_nbformat": 4,
  "vscode": {
   "interpreter": {
    "hash": "0620710c65b0f5ccc651a2aa8870ae0eb4c70492424a8d7866846658189426a3"
   }
  }
 },
 "nbformat": 4,
 "nbformat_minor": 2
}
